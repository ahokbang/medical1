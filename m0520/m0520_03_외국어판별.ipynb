{
 "cells": [
  {
   "cell_type": "code",
   "execution_count": 32,
   "metadata": {},
   "outputs": [],
   "source": [
    "from sklearn import svm, metrics\n",
    "from sklearn.neighbors import KNeighborsClassifier \n",
    "from sklearn.model_selection import train_test_split \n",
    "                                    # train_test_split : train data, test data를 나누는 함수\n",
    "import pandas as pd\n",
    "import numpy as np\n",
    "import random\n",
    "import matplotlib.pyplot as plt\n",
    "import matplotlib\n",
    "import glob, os.path, re # re: 정규표현식, glob, os.path : 시스템 관련\n",
    "matplotlib.rcParams['font.family'] = 'Malgun Gothic' # 한글설정\n",
    "matplotlib.rcParams['font.size'] = 10 # 글자크기\n",
    "matplotlib.rcParams['axes.unicode_minus'] = False # 마이너스 기호(-) 표기"
   ]
  },
  {
   "cell_type": "markdown",
   "metadata": {},
   "source": [
    "lang 폴더 내 파일명의 의미\n",
    "en : 영어\n",
    "fr : 프랑스어\n",
    "id : 인도네시아어\n",
    "tl : 타갈로그어"
   ]
  },
  {
   "cell_type": "code",
   "execution_count": 50,
   "metadata": {},
   "outputs": [],
   "source": [
    "# 각 파일 처리 \n",
    "def load_files(path):\n",
    "    freqs = []\n",
    "    results = []\n",
    "    file_list = glob.glob(path)   \n",
    "    # return file_list\n",
    "    for fname in file_list: # 파일 개수(20)만큼 실행\n",
    "        name = os.path.basename(fname) # 파일 1번, 파일 2번, ...\n",
    "        lang = name.split('-')[0] # en, en, en, en, fr, fr, .... \n",
    "        \n",
    "        with open (fname, 'r', encoding='utf-8') as f :  # fname : './lang/train\\\\en-1.txt', name : en-1.txt\n",
    "            text = f.read()\n",
    "            \n",
    "        text = text.lower() # 모든 문자를 소문자로 변환\n",
    "        cnt = [ 0 for n in range(0, 26) ]\n",
    "        code_a = ord('a')\n",
    "        code_z = ord('z')\n",
    "        \n",
    "        # 메모장 안의 모든 문자를 가져와서 a ~ z 사이의 문자만 저장\n",
    "        for ch in text :\n",
    "            n = ord(ch)\n",
    "            if code_a <= n <= code_z:\n",
    "                cnt[n-code_a] += 1 # b : 98-97 = 1 ==> 1의 자리에 1 증가\n",
    "        \n",
    "        # 정규화 작업 : 각 피쳐마다 비율을 일정하게 맞춤. \n",
    "        total = sum(cnt)\n",
    "        # 데이터의 값이 0 ~ 1 사이의 값으로 변환\n",
    "        freq = list(map(lambda n: n/total, cnt))\n",
    "        \n",
    "        # data 값을 저장\n",
    "        freqs.append(freq)       \n",
    "        \n",
    "        # 결과값 리스트 저장       \n",
    "        results.append(lang)\n",
    "    return {\"freqs\":freqs, \"results\":results}\n",
    "        \n",
    "        "
   ]
  },
  {
   "cell_type": "markdown",
   "metadata": {},
   "source": [
    "파일 확인"
   ]
  },
  {
   "cell_type": "code",
   "execution_count": 58,
   "metadata": {},
   "outputs": [
    {
     "data": {
      "text/plain": [
       "'en'"
      ]
     },
     "execution_count": 58,
     "metadata": {},
     "output_type": "execute_result"
    }
   ],
   "source": [
    "# link = './lang/train/*'\n",
    "# link = './lang/train/*.txt' # 모든 txt 파일을 의미\n",
    "# link2 = './lang/test/*.txt'\n",
    "\n",
    "# # glob() : 폴더 안에 모든 데이터를 읽어 옴\n",
    "# file_list = glob.glob(link)\n",
    "# file_list\n",
    "# # file_list = glob.glob(link2)\n",
    "# # file_list\n",
    "# name = os.path.basename(file_list[0]) # 경로는 제외하고, 파일 이름만 표시\n",
    "# name\n",
    "\n",
    "path = './lang/train/*.txt'\n",
    "path2 = './lang/test/*.txt'\n",
    "\n",
    "# 함수호출 : train_input, train_target, test_input, test_target\n",
    "data = load_files(path) # 함수호출 : 20개의 train 데이터를 가져옴\n",
    "test = load_files(path2) # 함수호출 : 8개의 test 데이터를 가져옴\n",
    "\n",
    "data['freqs'][0:2] \n",
    "test['freqs'][0:2]\n",
    "data['results'][0]\n"
   ]
  },
  {
   "cell_type": "markdown",
   "metadata": {},
   "source": [
    "\n",
    "머신러닝 순서\n",
    "1. 데이터 전처리\n",
    "2. 데이터 학습시키기\n",
    "3. 데이터 예측하기\n",
    "4. 정답률 출력하기\n"
   ]
  },
  {
   "cell_type": "markdown",
   "metadata": {},
   "source": [
    "데이터 전처리 : train 세트, test 세트 생성"
   ]
  },
  {
   "cell_type": "code",
   "execution_count": 59,
   "metadata": {},
   "outputs": [
    {
     "name": "stdout",
     "output_type": "stream",
     "text": [
      "결과 값 :  ['en' 'en' 'fr' 'fr' 'id' 'id' 'tl' 'tl']\n"
     ]
    }
   ],
   "source": [
    "# 데이터 학습시키기\n",
    "clf = svm.SVC()\n",
    "clf.fit(data['freqs'], data['results'])\n",
    "\n",
    "# 데이터 예측하기\n",
    "predict = clf.predict(test['freqs'])\n",
    "print('결과 값 : ', predict)"
   ]
  },
  {
   "cell_type": "code",
   "execution_count": 60,
   "metadata": {},
   "outputs": [
    {
     "name": "stdout",
     "output_type": "stream",
     "text": [
      "정답률 :  1.0\n"
     ]
    }
   ],
   "source": [
    "score = clf.score(test['freqs'], test['results'])\n",
    "print(\"정답률 : \", score) # 1.0 ==> 100% 의미"
   ]
  },
  {
   "cell_type": "code",
   "execution_count": 63,
   "metadata": {},
   "outputs": [
    {
     "name": "stdout",
     "output_type": "stream",
     "text": [
      "              precision    recall  f1-score   support\n",
      "\n",
      "          en       1.00      1.00      1.00         2\n",
      "          fr       1.00      1.00      1.00         2\n",
      "          id       1.00      1.00      1.00         2\n",
      "          tl       1.00      1.00      1.00         2\n",
      "\n",
      "    accuracy                           1.00         8\n",
      "   macro avg       1.00      1.00      1.00         8\n",
      "weighted avg       1.00      1.00      1.00         8\n",
      "\n"
     ]
    }
   ],
   "source": [
    "cl_report = metrics.classification_report(test['results'], predict)\n",
    "print(cl_report)"
   ]
  },
  {
   "cell_type": "code",
   "execution_count": 74,
   "metadata": {},
   "outputs": [
    {
     "data": {
      "text/plain": [
       "array([<Axes: title={'center': 'en'}>, <Axes: title={'center': 'fr'}>,\n",
       "       <Axes: title={'center': 'id'}>, <Axes: title={'center': 'tl'}>],\n",
       "      dtype=object)"
      ]
     },
     "execution_count": 74,
     "metadata": {},
     "output_type": "execute_result"
    },
    {
     "data": {
      "image/png": "[encoded data removed]",
      "text/plain": [
       "<Figure size 640x480 with 4 Axes>"
      ]
     },
     "metadata": {},
     "output_type": "display_data"
    }
   ],
   "source": [
    "# 그래프 그리기\n",
    "lang_dic = {}\n",
    "for i, result in enumerate(data['results']) :\n",
    "    fq = data['freqs'][i] # data 부분을 가지고 옴\n",
    "    if not (result in lang_dic) :\n",
    "        lang_dic[result] = fq\n",
    "    for idx, v in enumerate(fq) :\n",
    "        lang_dic[result][idx] = (lang_dic[result][idx]+v) / 2\n",
    "\n",
    "# x축의 눈금을 생성\n",
    "asc_list = [chr(n) for n in range(97, 122+1)] # 97=a , 122=z\n",
    "df = pd.DataFrame(lang_dic, index=asc_list)\n",
    "df.plot(kind='bar', subplots=True, ylim=(0,0.15))"
   ]
  },
  {
   "cell_type": "code",
   "execution_count": 72,
   "metadata": {},
   "outputs": [
    {
     "data": {
      "text/html": [
       "<div>\n",
       "<style scoped>\n",
       "    .dataframe tbody tr th:only-of-type {\n",
       "        vertical-align: middle;\n",
       "    }\n",
       "\n",
       "    .dataframe tbody tr th {\n",
       "        vertical-align: top;\n",
       "    }\n",
       "\n",
       "    .dataframe thead th {\n",
       "        text-align: right;\n",
       "    }\n",
       "</style>\n",
       "<table border=\"1\" class=\"dataframe\">\n",
       "  <thead>\n",
       "    <tr style=\"text-align: right;\">\n",
       "      <th></th>\n",
       "      <th>en</th>\n",
       "      <th>fr</th>\n",
       "      <th>id</th>\n",
       "      <th>tl</th>\n",
       "    </tr>\n",
       "  </thead>\n",
       "  <tbody>\n",
       "    <tr>\n",
       "      <th>a</th>\n",
       "      <td>0.073784</td>\n",
       "      <td>0.076355</td>\n",
       "      <td>0.174623</td>\n",
       "      <td>0.200579</td>\n",
       "    </tr>\n",
       "    <tr>\n",
       "      <th>b</th>\n",
       "      <td>0.021202</td>\n",
       "      <td>0.013073</td>\n",
       "      <td>0.025192</td>\n",
       "      <td>0.022213</td>\n",
       "    </tr>\n",
       "    <tr>\n",
       "      <th>c</th>\n",
       "      <td>0.032696</td>\n",
       "      <td>0.036545</td>\n",
       "      <td>0.006963</td>\n",
       "      <td>0.016171</td>\n",
       "    </tr>\n",
       "    <tr>\n",
       "      <th>d</th>\n",
       "      <td>0.038645</td>\n",
       "      <td>0.050277</td>\n",
       "      <td>0.041022</td>\n",
       "      <td>0.028206</td>\n",
       "    </tr>\n",
       "    <tr>\n",
       "      <th>e</th>\n",
       "      <td>0.132751</td>\n",
       "      <td>0.148393</td>\n",
       "      <td>0.080548</td>\n",
       "      <td>0.057054</td>\n",
       "    </tr>\n",
       "    <tr>\n",
       "      <th>f</th>\n",
       "      <td>0.018452</td>\n",
       "      <td>0.012110</td>\n",
       "      <td>0.007269</td>\n",
       "      <td>0.004557</td>\n",
       "    </tr>\n",
       "    <tr>\n",
       "      <th>g</th>\n",
       "      <td>0.022586</td>\n",
       "      <td>0.016491</td>\n",
       "      <td>0.039097</td>\n",
       "      <td>0.053671</td>\n",
       "    </tr>\n",
       "    <tr>\n",
       "      <th>h</th>\n",
       "      <td>0.051067</td>\n",
       "      <td>0.016613</td>\n",
       "      <td>0.018837</td>\n",
       "      <td>0.011301</td>\n",
       "    </tr>\n",
       "    <tr>\n",
       "      <th>i</th>\n",
       "      <td>0.069726</td>\n",
       "      <td>0.085080</td>\n",
       "      <td>0.091574</td>\n",
       "      <td>0.075196</td>\n",
       "    </tr>\n",
       "    <tr>\n",
       "      <th>j</th>\n",
       "      <td>0.002661</td>\n",
       "      <td>0.003781</td>\n",
       "      <td>0.007939</td>\n",
       "      <td>0.002042</td>\n",
       "    </tr>\n",
       "    <tr>\n",
       "      <th>k</th>\n",
       "      <td>0.007495</td>\n",
       "      <td>0.002008</td>\n",
       "      <td>0.037870</td>\n",
       "      <td>0.019847</td>\n",
       "    </tr>\n",
       "    <tr>\n",
       "      <th>l</th>\n",
       "      <td>0.043530</td>\n",
       "      <td>0.059498</td>\n",
       "      <td>0.039181</td>\n",
       "      <td>0.047946</td>\n",
       "    </tr>\n",
       "    <tr>\n",
       "      <th>m</th>\n",
       "      <td>0.025751</td>\n",
       "      <td>0.028649</td>\n",
       "      <td>0.037845</td>\n",
       "      <td>0.030241</td>\n",
       "    </tr>\n",
       "    <tr>\n",
       "      <th>n</th>\n",
       "      <td>0.062451</td>\n",
       "      <td>0.077100</td>\n",
       "      <td>0.095897</td>\n",
       "      <td>0.118060</td>\n",
       "    </tr>\n",
       "    <tr>\n",
       "      <th>o</th>\n",
       "      <td>0.073461</td>\n",
       "      <td>0.058859</td>\n",
       "      <td>0.040501</td>\n",
       "      <td>0.060014</td>\n",
       "    </tr>\n",
       "    <tr>\n",
       "      <th>p</th>\n",
       "      <td>0.018637</td>\n",
       "      <td>0.024868</td>\n",
       "      <td>0.030085</td>\n",
       "      <td>0.030326</td>\n",
       "    </tr>\n",
       "    <tr>\n",
       "      <th>q</th>\n",
       "      <td>0.000921</td>\n",
       "      <td>0.005390</td>\n",
       "      <td>0.000095</td>\n",
       "      <td>0.001094</td>\n",
       "    </tr>\n",
       "    <tr>\n",
       "      <th>r</th>\n",
       "      <td>0.067653</td>\n",
       "      <td>0.078593</td>\n",
       "      <td>0.053738</td>\n",
       "      <td>0.038380</td>\n",
       "    </tr>\n",
       "    <tr>\n",
       "      <th>s</th>\n",
       "      <td>0.067833</td>\n",
       "      <td>0.072226</td>\n",
       "      <td>0.055292</td>\n",
       "      <td>0.060318</td>\n",
       "    </tr>\n",
       "    <tr>\n",
       "      <th>t</th>\n",
       "      <td>0.091901</td>\n",
       "      <td>0.063535</td>\n",
       "      <td>0.050085</td>\n",
       "      <td>0.050169</td>\n",
       "    </tr>\n",
       "    <tr>\n",
       "      <th>u</th>\n",
       "      <td>0.025717</td>\n",
       "      <td>0.045195</td>\n",
       "      <td>0.044681</td>\n",
       "      <td>0.029081</td>\n",
       "    </tr>\n",
       "    <tr>\n",
       "      <th>v</th>\n",
       "      <td>0.010503</td>\n",
       "      <td>0.013926</td>\n",
       "      <td>0.002939</td>\n",
       "      <td>0.004116</td>\n",
       "    </tr>\n",
       "    <tr>\n",
       "      <th>w</th>\n",
       "      <td>0.020475</td>\n",
       "      <td>0.001056</td>\n",
       "      <td>0.004689</td>\n",
       "      <td>0.007788</td>\n",
       "    </tr>\n",
       "    <tr>\n",
       "      <th>x</th>\n",
       "      <td>0.003452</td>\n",
       "      <td>0.004046</td>\n",
       "      <td>0.000342</td>\n",
       "      <td>0.000479</td>\n",
       "    </tr>\n",
       "    <tr>\n",
       "      <th>y</th>\n",
       "      <td>0.015732</td>\n",
       "      <td>0.005132</td>\n",
       "      <td>0.012872</td>\n",
       "      <td>0.028804</td>\n",
       "    </tr>\n",
       "    <tr>\n",
       "      <th>z</th>\n",
       "      <td>0.000916</td>\n",
       "      <td>0.001200</td>\n",
       "      <td>0.000823</td>\n",
       "      <td>0.002348</td>\n",
       "    </tr>\n",
       "  </tbody>\n",
       "</table>\n",
       "</div>"
      ],
      "text/plain": [
       "         en        fr        id        tl\n",
       "a  0.073784  0.076355  0.174623  0.200579\n",
       "b  0.021202  0.013073  0.025192  0.022213\n",
       "c  0.032696  0.036545  0.006963  0.016171\n",
       "d  0.038645  0.050277  0.041022  0.028206\n",
       "e  0.132751  0.148393  0.080548  0.057054\n",
       "f  0.018452  0.012110  0.007269  0.004557\n",
       "g  0.022586  0.016491  0.039097  0.053671\n",
       "h  0.051067  0.016613  0.018837  0.011301\n",
       "i  0.069726  0.085080  0.091574  0.075196\n",
       "j  0.002661  0.003781  0.007939  0.002042\n",
       "k  0.007495  0.002008  0.037870  0.019847\n",
       "l  0.043530  0.059498  0.039181  0.047946\n",
       "m  0.025751  0.028649  0.037845  0.030241\n",
       "n  0.062451  0.077100  0.095897  0.118060\n",
       "o  0.073461  0.058859  0.040501  0.060014\n",
       "p  0.018637  0.024868  0.030085  0.030326\n",
       "q  0.000921  0.005390  0.000095  0.001094\n",
       "r  0.067653  0.078593  0.053738  0.038380\n",
       "s  0.067833  0.072226  0.055292  0.060318\n",
       "t  0.091901  0.063535  0.050085  0.050169\n",
       "u  0.025717  0.045195  0.044681  0.029081\n",
       "v  0.010503  0.013926  0.002939  0.004116\n",
       "w  0.020475  0.001056  0.004689  0.007788\n",
       "x  0.003452  0.004046  0.000342  0.000479\n",
       "y  0.015732  0.005132  0.012872  0.028804\n",
       "z  0.000916  0.001200  0.000823  0.002348"
      ]
     },
     "execution_count": 72,
     "metadata": {},
     "output_type": "execute_result"
    }
   ],
   "source": [
    "df"
   ]
  },
  {
   "cell_type": "code",
   "execution_count": 71,
   "metadata": {},
   "outputs": [
    {
     "data": {
      "text/plain": [
       "Index(['en', 'fr', 'id', 'tl'], dtype='object')"
      ]
     },
     "execution_count": 71,
     "metadata": {},
     "output_type": "execute_result"
    }
   ],
   "source": [
    "df.columns"
   ]
  },
  {
   "cell_type": "code",
   "execution_count": 80,
   "metadata": {},
   "outputs": [
    {
     "data": {
      "text/plain": [
       "(0.0, 0.15)"
      ]
     },
     "execution_count": 80,
     "metadata": {},
     "output_type": "execute_result"
    },
    {
     "data": {
      "image/png": "[encoded data removed]",
      "text/plain": [
       "<Figure size 640x480 with 4 Axes>"
      ]
     },
     "metadata": {},
     "output_type": "display_data"
    }
   ],
   "source": [
    "fig, axs = plt.subplots(4)\n",
    "axs[0].bar(df.index, df['en'], label=df.columns[0])\n",
    "axs[1].bar(df.index, df['fr'], label=df.columns[1], color = 'red')\n",
    "axs[2].bar(df.index, df['id'], label=df.columns[2], color = 'yellow')\n",
    "axs[3].bar(df.index, df['tl'], label=df.columns[3], color = 'green')\n",
    "axs[0].legend()\n",
    "axs[1].legend()\n",
    "axs[2].legend()\n",
    "axs[3].legend()\n",
    "axs[0].set_ylim(0, 0.15)\n",
    "axs[1].set_ylim(0, 0.15)\n",
    "axs[2].set_ylim(0, 0.15)\n",
    "axs[3].set_ylim(0, 0.15)\n",
    "\n",
    "\n",
    "# 아래의 두줄로 작성 가능\n",
    "# df = pd.DataFrame(lang_dic, index=asc_list)\n",
    "# df.plot(kind='bar', subplots=True, ylim=(0,0.15))\n"
   ]
  },
  {
   "cell_type": "code",
   "execution_count": 64,
   "metadata": {},
   "outputs": [
    {
     "data": {
      "text/plain": [
       "[0.07595212187159957, 0.012840043525571273, 0.04570184983677911]"
      ]
     },
     "execution_count": 64,
     "metadata": {},
     "output_type": "execute_result"
    }
   ],
   "source": [
    "data['freqs'][0][:3]"
   ]
  },
  {
   "cell_type": "code",
   "execution_count": 35,
   "metadata": {},
   "outputs": [
    {
     "data": {
      "text/plain": [
       "'\\x04'"
      ]
     },
     "execution_count": 35,
     "metadata": {},
     "output_type": "execute_result"
    }
   ],
   "source": [
    "# 아스키 코드(ASCII Code) : 문자를 숫자로 표시, A : 65, a : 97, 숫자 0 : 48\n",
    "# chr(아스키코드 숫자) ==> 문자로 변환\n",
    "chr(65) # A\n",
    "chr(97) # a\n",
    "chr(97-32) # A\n",
    "chr(65+32) # a\n",
    "chr(52-48) # \\x04 ==> 숫자 4가 아닌 문자 4 출력"
   ]
  },
  {
   "cell_type": "code",
   "execution_count": 36,
   "metadata": {},
   "outputs": [
    {
     "data": {
      "text/plain": [
       "97"
      ]
     },
     "execution_count": 36,
     "metadata": {},
     "output_type": "execute_result"
    }
   ],
   "source": [
    "# ord(문자) ==> 아스키코드 숫자로 변환\n",
    "ord('a')\n"
   ]
  },
  {
   "cell_type": "code",
   "execution_count": 37,
   "metadata": {},
   "outputs": [
    {
     "data": {
      "text/plain": [
       "'['"
      ]
     },
     "execution_count": 37,
     "metadata": {},
     "output_type": "execute_result"
    }
   ],
   "source": [
    "chr(91) # ["
   ]
  },
  {
   "cell_type": "code",
   "execution_count": 38,
   "metadata": {},
   "outputs": [
    {
     "data": {
      "text/plain": [
       "array([1., 1., 1., 1., 1., 1., 1., 1., 1., 1., 1., 1., 1., 1., 1., 1., 1.,\n",
       "       1., 1., 1., 1., 1., 1., 1., 1., 1.])"
      ]
     },
     "execution_count": 38,
     "metadata": {},
     "output_type": "execute_result"
    }
   ],
   "source": [
    "[0 for n in range(0,26)]\n",
    "\n",
    "np.zeros(26)\n",
    "\n",
    "np.ones(26)"
   ]
  },
  {
   "cell_type": "code",
   "execution_count": 45,
   "metadata": {},
   "outputs": [
    {
     "name": "stdout",
     "output_type": "stream",
     "text": [
      "en\n",
      "[349, 59, 210, 212, 484, 72, 88, 201, 340, 8, 25, 247, 121, 356, 412, 76, 0, 357, 282, 370, 119, 45, 65, 3, 92, 2]\n",
      "[0.07595212187159957, 0.012840043525571273, 0.04570184983677911, 0.04613710554951034, 0.10533188248095757, 0.015669205658324265, 0.019151251360174103, 0.043743199129488576, 0.07399347116430903, 0.0017410228509249185, 0.00544069640914037, 0.05375408052230685, 0.026332970620239392, 0.07747551686615888, 0.08966267682263329, 0.016539717083786723, 0.0, 0.07769314472252448, 0.061371055495103376, 0.08052230685527748, 0.02589771490750816, 0.009793253536452665, 0.014145810663764961, 0.0006528835690968443, 0.02002176278563656, 0.0004352557127312296]\n"
     ]
    }
   ],
   "source": [
    "# 1개 파일 이름\n",
    "name = os.path.basename(file_list[0])\n",
    "name\n",
    "lang = name.split('-')\n",
    "print(lang[0])\n",
    "\n",
    "# 1개 파일 내용 읽어오기\n",
    "cnt = [0 for n in range(0,26)]\n",
    "with open('./lang/train/'+name, 'r', encoding='utf-8') as f :\n",
    "    # print(f.read())\n",
    "    text = f.read()\n",
    "    # 아스키(ASCII) 코드로 변경할거야. a = 97, b = 98, ... A = 65, B = 66, ... A+32 => a, a-32 => A\n",
    "    # 대/소문자 섞여있으므로 소문자로 치환\n",
    "    text = text.lower() # .lower() : 소문자로 치환\n",
    "    # 문자 개수 세기\n",
    "    # 영문자 : 26개 ==> 배열 26개 짜리를 1개 생성\n",
    "    # 1개씩 문자를 읽어와서 26개의 배열에서 1씩 추가\n",
    "    code_a = ord('a') # 97 \n",
    "    code_z = ord('z') # 122\n",
    "    for ch in text : # \n",
    "        n = ord(ch)\n",
    "        # [ 2,0,1,0,0,0,0,0,0,...., 0]\n",
    "        if code_a <= n <= code_z: # a~z 사이의 문자이면 \n",
    "            # 리스트에 저장\n",
    "            cnt[n-code_a] += 1 # 해당되는 위치에 1을 증가\n",
    "        \n",
    "    # 정규화\n",
    "    total = sum(cnt)\n",
    "    \n",
    "    # freq의 배열의 값을 total로 나눠서 다시 list를 만듬.\n",
    "    # freq = []\n",
    "    # for i in cnt :\n",
    "    #     freq.append({i/total}) # 이 세 줄은 아래처럼 쓸 수 있음. freq = list(map(lambda n : n/total, cnt))\n",
    "    \n",
    "    # def change(n):\n",
    "    #     return n/total\n",
    "    # freq = list(map(change(n), cnt)) # 이 세 줄을 아래와 같이 쓸 수 있음. freq = list(map(lambda n : n/total, cnt))\n",
    "    \n",
    "    freq = list(map(lambda n : n/total, cnt))\n",
    "\n",
    "\n",
    "print(cnt)\n",
    "print(freq)"
   ]
  },
  {
   "cell_type": "code",
   "execution_count": 46,
   "metadata": {},
   "outputs": [],
   "source": [
    "# name = os.path.basename(file_list[0]) \n",
    "# 폴더의 모든 파일의 이름을 가져옴.\n",
    "\n",
    "data = []\n",
    "results = []\n",
    "\n",
    "for fname in file_list :\n",
    "    name = os.path.basename(fname)\n",
    "    # print(name)\n",
    "    \n",
    "    # 데이터 가져오기\n",
    "    \n",
    "    \n",
    "    \n",
    "    \n",
    "    # str split을 사용해서 앞에 있는 2글자만 분리해서 출력하시오.\n",
    "    lang = name.split('-')\n",
    "    # print(lang[0])\n",
    "    results.append(lang[0])\n",
    "\n",
    "results\n",
    "    "
   ]
  },
  {
   "cell_type": "code",
   "execution_count": null,
   "metadata": {},
   "outputs": [],
   "source": []
  }
 ],
 "metadata": {
  "kernelspec": {
   "display_name": "Python 3",
   "language": "python",
   "name": "python3"
  },
  "language_info": {
   "codemirror_mode": {
    "name": "ipython",
    "version": 3
   },
   "file_extension": ".py",
   "mimetype": "text/x-python",
   "name": "python",
   "nbconvert_exporter": "python",
   "pygments_lexer": "ipython3",
   "version": "3.12.0"
  }
 },
 "nbformat": 4,
 "nbformat_minor": 2
}
