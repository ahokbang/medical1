{
 "cells": [
  {
   "cell_type": "markdown",
   "metadata": {},
   "source": [
    "정규표현식"
   ]
  },
  {
   "cell_type": "markdown",
   "metadata": {},
   "source": [
    "정규 표현식은 모든 언어에서 사용 가능\n",
    "정규표현식 : \n",
    "- compile\n",
    "- match() : 처음부터 일치\n",
    "- search() : 일치하는 게 있는지\n",
    "- findall() : 일치하는 것 모두 리스트로\n",
    "\n",
    "- .(ca.e) : 하나의 문자\n",
    "- ^(^de) : 문자열의 시작\n",
    "- $(se$) : 문자열의 끝"
   ]
  },
  {
   "cell_type": "code",
   "execution_count": 14,
   "metadata": {},
   "outputs": [
    {
     "name": "stdout",
     "output_type": "stream",
     "text": [
      "매칭되지 않았습니다.\n"
     ]
    }
   ],
   "source": [
    "import re\n",
    "\n",
    "# 정규표현식 : compile, match, search, findall\n",
    "p = re.compile(\"ca.e\") # 정규표현식을 지정\n",
    "word = 'cafe'\n",
    "word2 = 'care'\n",
    "word3 = 'cark'\n",
    "\n",
    "if p.match(word3):\n",
    "    print(\"매칭되었습니다.\")\n",
    "else : \n",
    "    print(\"매칭되지 않았습니다.\") \n",
    "\n"
   ]
  },
  {
   "cell_type": "code",
   "execution_count": 17,
   "metadata": {},
   "outputs": [
    {
     "name": "stdout",
     "output_type": "stream",
     "text": [
      "매칭되지 않았습니다. adesk 입니다\n"
     ]
    }
   ],
   "source": [
    "# ^de : 첫시작이 de로 시작되어야 함 \n",
    "word = 'adesk 입니다'\n",
    "if re.match(r'^(de)', word): # ^ : 시작이 de로 시작되어야 함.\n",
    "    print(\"매칭되었습니다\", word)\n",
    "else : \n",
    "    print(\"매칭되지 않았습니다.\", word) "
   ]
  },
  {
   "cell_type": "code",
   "execution_count": 28,
   "metadata": {},
   "outputs": [
    {
     "name": "stdout",
     "output_type": "stream",
     "text": [
      "매칭되었습니다 case\n"
     ]
    }
   ],
   "source": [
    "# se$ : 마지막이 se로 끝나야 함.\n",
    "# match : 정확히 일치해야 \n",
    "# search : 포함디 되어 있으면 True\n",
    "word = 'case'\n",
    "p = re.compile(\"(se$)\") # 정규표현식을 지정\n",
    "if p.search(word): \n",
    "    print(\"매칭되었습니다\", word)\n",
    "else : \n",
    "    print(\"매칭되지 않았습니다.\", word) "
   ]
  },
  {
   "cell_type": "code",
   "execution_count": 33,
   "metadata": {},
   "outputs": [
    {
     "name": "stdout",
     "output_type": "stream",
     "text": [
      "매칭 안됨 zbcdefg\n"
     ]
    }
   ],
   "source": [
    "# {3} : 3자리가 들어와야 True\n",
    "# {2,3} : 2~3자리가 들어와야 True\n",
    "# ^ 시작\n",
    "# [ ] : []안에 있는 글자만 True\n",
    "# a-z : abcdefg...xyz ==> 영문자만 작성 가능\n",
    "# A-Z : ABCDEFG...XYZ\n",
    "# 0-9 : 01234...789\n",
    "# ㄱ-ㅎ, 가-힣 : 국문만 가능\n",
    "\n",
    "word = 'zbcdefg'\n",
    "if re.match(r'^a{1}[a-z]{5}$', word) : # 첫글자가 a이면서, 영소문자만 5개 들어올 수 있음\n",
    "    print(\"매칭됨\", word)\n",
    "else : \n",
    "    print(\"매칭 안됨\", word)"
   ]
  },
  {
   "cell_type": "code",
   "execution_count": 39,
   "metadata": {},
   "outputs": [
    {
     "name": "stdout",
     "output_type": "stream",
     "text": [
      "매칭되지 않았습니다.\n"
     ]
    }
   ],
   "source": [
    "word = '02-1234-4567'\n",
    "word2 = '010-1234-4567'\n",
    "word3 = '01012344567'\n",
    "\n",
    "# re.search('[0-9]{2,3}-[0-9]{4}-[0-9]{4}',word) # re.match를 써도 됨.\n",
    "\n",
    "if re.match('[0-9]{2,3}-[0-9]{4}-[0-9]{4}',word3):\n",
    "    print(\"매칭되었습니다.\")\n",
    "else :\n",
    "    print(\"매칭되지 않았습니다.\")\n"
   ]
  },
  {
   "cell_type": "code",
   "execution_count": 3,
   "metadata": {},
   "outputs": [
    {
     "name": "stdout",
     "output_type": "stream",
     "text": [
      "다시 입력하세요.\n",
      "다시 입력하세요.\n",
      "제대로 입력되었습니다.\n"
     ]
    }
   ],
   "source": [
    "# 데이터를 입력 받아, 길이가 6자리, 첫글자가 a가 입력이 되면 [제대로 입력되었습니다.],\n",
    "# 그렇지 않으면 [다시 입력하세요.]라고 출력되도록 구현하시오.\n",
    "# 제대로 입력되어야지만 프로그램을 종료 시키시오.\n",
    "\n",
    "\n",
    "while True : \n",
    "    password = input(\"길이가 6자리, 첫글자는 a로 시작되도록 비밀번호를 설정하세요. >> \")\n",
    "\n",
    "    if len(password)==6 and password[0]=='a':\n",
    "        print(\"제대로 입력되었습니다.\", password)\n",
    "        break\n",
    "    else : \n",
    "        print(\"다시 입력하세요.\", password)\n",
    "    "
   ]
  },
  {
   "cell_type": "code",
   "execution_count": 1,
   "metadata": {},
   "outputs": [
    {
     "name": "stdout",
     "output_type": "stream",
     "text": [
      "다시 입력하세요. 12345\n",
      "제대로 입력되었습니다. 123450\n"
     ]
    }
   ],
   "source": [
    "# 첫글자가 1인, 숫자 6자리의 데이터가 입력되면, [제대로 입력되었습니다.],\n",
    "# 그렇지 않으면 [다시 입력하세요.]라고 출력되도록 구현하시오.\n",
    "# 제대로 입력되어야지만 프로그램을 종료 시키시오.\n",
    "while True : \n",
    "    password = input(\"1로 시작하는 6자리 숫자로 비밀번호를 설정하세요. >> \")\n",
    "\n",
    "    if password.isdigit() and len(password)==6 and password[0]=='1': # 숫자는 자리수가 없어\n",
    "        print(\"제대로 입력되었습니다.\", password)\n",
    "        break\n",
    "    else : \n",
    "        print(\"다시 입력하세요.\", password)"
   ]
  }
 ],
 "metadata": {
  "kernelspec": {
   "display_name": "Python 3",
   "language": "python",
   "name": "python3"
  },
  "language_info": {
   "codemirror_mode": {
    "name": "ipython",
    "version": 3
   },
   "file_extension": ".py",
   "mimetype": "text/x-python",
   "name": "python",
   "nbconvert_exporter": "python",
   "pygments_lexer": "ipython3",
   "version": "3.12.0"
  }
 },
 "nbformat": 4,
 "nbformat_minor": 2
}
