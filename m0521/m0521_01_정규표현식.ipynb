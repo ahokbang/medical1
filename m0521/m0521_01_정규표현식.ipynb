{
 "cells": [
  {
   "cell_type": "code",
   "execution_count": 4,
   "metadata": {},
   "outputs": [],
   "source": [
    "# 정규표현식\n",
    "\n",
    "# . : 하나의 문자\n",
    "# ^ : 문자열의 시작\n",
    "# $ : 문자열의 끝\n",
    "# [ ] : 대괄호 안에 글자가 일치하려는 문자 입력시킴\n",
    "  # [0-9] : 0부터 9까지의 숫자가 일치하는지 확인\n",
    "  # [a-zA-Z] : 영문자와 일치하는지 확인\n",
    "  # [ㄱ-ㅎ가-힣] : 국문자와 일치하는지 확인\n",
    "# { } : 문자/숫자의 길이\n",
    "  # {2} : 문자/숫자의 길이가 2자리\n",
    "  # {3,} : 문자/숫자의 길이가 3자리 이상\n",
    "  # {,3} : 문자/숫자의 길이가 3자리 까지\n",
    "  # {2,3} : 문자/숫자의 길이가 2자리에서 3자리까지 확인\n",
    "\n",
    "# compile() : 정규식 형태를 지정\n",
    "# match() : 처음부터 모두 일치하는 것인지 확인  *****\n",
    "# search() : 일치하는 것이 있는지   *****\n",
    "# findall() : 일치하는 것이 있는지 리스트로 부터 확인\n",
    "# group() : 일치하면 해당되는 문자를 출력\n",
    "# sub() : 일치하는 데이터를 삭제  *****"
   ]
  },
  {
   "cell_type": "code",
   "execution_count": 5,
   "metadata": {},
   "outputs": [
    {
     "name": "stdout",
     "output_type": "stream",
     "text": [
      "not match,  loook\n"
     ]
    }
   ],
   "source": [
    "import re\n",
    "\n",
    "p = re.compile(\"lo.k\") # . : 하나의 문자\n",
    "word = 'loook'\n",
    "\n",
    "if p.match(word):\n",
    "    print('match, ', p.group())\n",
    "else :\n",
    "    print('not match, ', word)"
   ]
  },
  {
   "cell_type": "code",
   "execution_count": 6,
   "metadata": {},
   "outputs": [
    {
     "name": "stdout",
     "output_type": "stream",
     "text": [
      "match,  loak\n"
     ]
    }
   ],
   "source": [
    "# p = re.compile(\"lo.k\") # 정규표현식 형태를 지정\n",
    "\n",
    "word = 'loak'\n",
    "if re.match('lo.k', word): \n",
    "    print('match, ', word)\n",
    "else :\n",
    "    print('not match, ', word)"
   ]
  },
  {
   "cell_type": "code",
   "execution_count": 7,
   "metadata": {},
   "outputs": [
    {
     "name": "stdout",
     "output_type": "stream",
     "text": [
      "not match,  good care\n"
     ]
    }
   ],
   "source": [
    "word = 'good care'\n",
    "if re.match('ca.e', word) : # re.match : not match,  good care\n",
    "    print('match, ', word)\n",
    "else :\n",
    "    print('not match, ', word)"
   ]
  },
  {
   "cell_type": "code",
   "execution_count": 8,
   "metadata": {},
   "outputs": [
    {
     "name": "stdout",
     "output_type": "stream",
     "text": [
      "match,  good care\n"
     ]
    }
   ],
   "source": [
    "word = 'good care'\n",
    "if re.search('ca.e', word) : # re.search : match,  good care\n",
    "    print('match, ', word)\n",
    "else :\n",
    "    print('not match, ', word)"
   ]
  },
  {
   "cell_type": "code",
   "execution_count": 9,
   "metadata": {},
   "outputs": [
    {
     "name": "stdout",
     "output_type": "stream",
     "text": [
      "매칭 삼성전자는 21일 개선된 AI(인공지능) 기능을 제공하는 '갤럭시 북4 엣지'를 공개했다.\n"
     ]
    }
   ],
   "source": [
    "word=\"삼성전자는 21일 개선된 AI(인공지능) 기능을 제공하는 '갤럭시 북4 엣지'를 공개했다.\"\n",
    "\n",
    "if re.search('지능', word) :\n",
    "    print('매칭', word)\n",
    "else : \n",
    "    print('매칭되지 않음', word)"
   ]
  },
  {
   "cell_type": "code",
   "execution_count": 10,
   "metadata": {},
   "outputs": [
    {
     "name": "stdout",
     "output_type": "stream",
     "text": [
      "en\n"
     ]
    }
   ],
   "source": [
    "word = 'en-1.txt'\n",
    "word2 = 'fr-1.txt'\n",
    "\n",
    "re.match('^[a-z]{2,}', word).group() # .group() : 매칭이 되면 출력, 안 되면 미출력\n",
    "re.match('^[a-z]{2,}', word2).group() # .group() : 매칭이 되면 출력, 안 되면 미출력\n",
    "# word = 'e-1.txt'\n",
    "# re.match('^[a-z]{2,}', word).group() # error ==> e 한자리 밖에 없으므로\n",
    "\n",
    "if re.match('^[a-z]{2,}', word) : # ^[a-z]{2,} ==> 영문으로 시작하는 2자리, ==> ^가 대괄호 밖\n",
    "    print(re.match('^[a-z]{2,}', word).group())\n",
    "else : \n",
    "    print('매칭되는 문자가 없습니다.')"
   ]
  },
  {
   "cell_type": "code",
   "execution_count": 11,
   "metadata": {},
   "outputs": [
    {
     "data": {
      "text/plain": [
       "'갤럭시 북  엣지는   . cm(  형)  종과   . cm(  형)  종 등 모두 세 가지 모델로 출시된다.   형 기준 최대   시간의 동영상 재생이 가능한 배터리가 탑재됐고, 초고속 충전 기능도 갖췄다.'"
      ]
     },
     "execution_count": 11,
     "metadata": {},
     "output_type": "execute_result"
    }
   ],
   "source": [
    "word = \"갤럭시 북4 엣지는 35.6cm(14형) 1종과 40.6cm(16형) 2종 등 모두 세 가지 모델로 출시된다. 16형 기준 최대 22시간의 동영상 재생이 가능한 배터리가 탑재됐고, 초고속 충전 기능도 갖췄다.\"\n",
    "# 숫자가 아닌 부분을 없애고 싶어 \n",
    "# words = re.sub('[^0-9]', ' ',word) # == > 숫자부분이 아닌 것을 다 없애줘(숫자 빼고 다 없애줘)==> ^가 대괄호 안에 있으면 not 의미\n",
    "# words\n",
    "words = re.sub('[0-9]', ' ',word) # == > 숫자부분을 다 없애줘\n",
    "words"
   ]
  },
  {
   "cell_type": "code",
   "execution_count": 12,
   "metadata": {},
   "outputs": [
    {
     "data": {
      "text/plain": [
       "'갤럭시 북4    엣지는 44  35 6cm 14형  1종과  40 6cm     16형    2종 등  모두 세 가지 모델로 출시된다  16형 기준 최대 22시간의 동영상 재생이 가능한 배터리가 탑재됐고  초고속 충전 기능도 갖췄다 '"
      ]
     },
     "execution_count": 12,
     "metadata": {},
     "output_type": "execute_result"
    }
   ],
   "source": [
    "word = \"갤럭시 북4 ???엣지는%44# 35.6cm(14형) 1종과@ 40.6cm... (16형)** 2종 등! 모두 세 가지 모델로 출시된다. 16형 기준 최대 22시간의 동영상 재생이 가능한 배터리가 탑재됐고, 초고속 충전 기능도 갖췄다.\"\n",
    "# [^0-9a-zA-Zㄱ-ㅎ가-힣]\n",
    "words = re.sub('[^0-9a-zA-Zㄱ-ㅎ가-힣]', ' ', word)\n",
    "words"
   ]
  },
  {
   "cell_type": "code",
   "execution_count": 14,
   "metadata": {},
   "outputs": [
    {
     "name": "stdout",
     "output_type": "stream",
     "text": [
      "매칭 됨 a00001\n"
     ]
    }
   ],
   "source": [
    "# 첫글자가 영문이면서, 숫자와 영문상관없이 총 6자리인 문자를 확인하는 형태\n",
    "\n",
    "word = 'a00001'\n",
    "if re.match('[a-zA-Z]{1}[a-zA-Z0-9]{5}', word) :\n",
    "    print(\"매칭 됨\", word)\n",
    "else : \n",
    "    print('매칭되지 않음', word)"
   ]
  }
 ],
 "metadata": {
  "kernelspec": {
   "display_name": "Python 3",
   "language": "python",
   "name": "python3"
  },
  "language_info": {
   "codemirror_mode": {
    "name": "ipython",
    "version": 3
   },
   "file_extension": ".py",
   "mimetype": "text/x-python",
   "name": "python",
   "nbconvert_exporter": "python",
   "pygments_lexer": "ipython3",
   "version": "3.12.0"
  }
 },
 "nbformat": 4,
 "nbformat_minor": 2
}
