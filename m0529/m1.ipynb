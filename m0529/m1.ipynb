{
 "cells": [
  {
   "cell_type": "code",
   "execution_count": 1,
   "metadata": {},
   "outputs": [],
   "source": [
    "from sklearn.linear_model import LinearRegression  # 선형회귀\n",
    "from sklearn.preprocessing import PolynomialFeatures # 다항특성을 만들어주는 라이브러리\n",
    "from sklearn.model_selection import train_test_split\n",
    "import pandas as pd\n",
    "import numpy as np\n",
    "import random\n",
    "import matplotlib.pyplot as plt\n",
    "import matplotlib\n",
    "matplotlib.rcParams['axes.unicode_minus'] = False  # 마이너스 표시 해결\n",
    "# 한글설정\n",
    "matplotlib.rcParams['font.family'] = 'Malgun Gothic' # windows 사용자\n",
    "# matplotlib.rcParams['font.family'] = 'AppleGothic Gothic' # Mac사용자\n",
    "matplotlib.rcParams['font.size'] = '10' # 글자크기"
   ]
  },
  {
   "cell_type": "code",
   "execution_count": 2,
   "metadata": {},
   "outputs": [],
   "source": [
    "from konlpy.tag import Okt      # 형태소 분석\n",
    "import operator\n",
    "from collections import Counter"
   ]
  },
  {
   "cell_type": "code",
   "execution_count": 3,
   "metadata": {},
   "outputs": [],
   "source": [
    "new1 ='''21대 국회 마지막 본회의에서 해병대 채 상병 특검법이 최종 부결됐다. 국민 다수는 특검이 필요하다고 했지만 윤석열 대통령이 재의요구권(거부권)을 행사한 데 이어 여당이 반대 당론으로 재표결에 임해 법안 통과를 저지했다. 야당은 “여당이 국민의 목소리를 짓밟았다”며 22대 국회에서 채 상병 특검법을 1호 법안으로 다시 발의해 통과시키겠다고 밝혔다.\n",
    "국회는 28일 본회의에서 재석 294인 중 찬성 179표, 반대 111표, 무효 4표로 ‘순직 해병 수사 방해 및 사건 은폐 등의 진상규명을 위한 특별검사의 임명 등에 관한 법률안’ 재의의 건을 부결시켰다. 이로써 채 상병 특검법은 자동 폐기됐다.\n",
    "대통령이 거부권을 행사해 국회로 돌려보낸 법안을 다시 통과시키려면 재적 의원 과반 출석에 출석 의원 3분의 2 이상 찬성이 필요하다. 더불어민주당과 정의당 등 야당 의원들과 함께 국민의힘에서 김웅·안철수·유의동·최재형·김근태 의원 등이 당론에 반해 찬성했지만 의결 조건을 채우지 못했다.\n",
    "국민의힘은 본회의 직전 의원총회에서 반대를 당론으로 정해 부결을 이끌었다. 특검법 처리에 국민 60% 이상이 찬성한다는 여론조사 결과가 잇따랐지만 여당은 받아들이지 않았다. 원내 지도부가 일대일 접촉으로 총선에 낙선·낙천한 의원들의 참석을 독려해 여당 의원 전원이 표결에 참여했다.\n",
    "특검법은 지난해 7월 수해 실종자 수색 중 순직한 해병대원 사건 조사 과정에서 대통령실의 외압이 있었는지 등을 규명하는 내용이다. 야당이 지난해 9월 발의해 신속처리안건(패스트트랙)으로 지정했다. 지난 2일 본회의에서 야당 단독으로 통과, 지난 21일 대통령의 거부권 행사를 거쳐 이날 재표결이 이뤄졌다. 야당들은 윤석열 대통령이 포함된 권력형 게이트라며 특검이 필요하다고 주장했는데 국민의힘은 민주당의 대통령 탄핵 의도, 고위공직자범죄수사처(공수처) 가 수사 진행 중인 점 등을 이유로 반대했다.\n",
    "추경호 국민의힘 원내대표는 부결 후 “의원들이 당론으로 정한 사안에 단일대오로 투표해주셨다”며 “공수처 등 수사기관에서 신속하고 엄정하게 수사 결과를 내주시길 기대한다”고 밝혔다.\n",
    "민주당·정의당·새로운미래·조국혁신당·기본소득당·진보당 등 야 6당 의원들은 부결 후 규탄대회에서 “특검을 거부하는 자가 범인”, “국민의 명령 거부한 국민의힘 규탄한다” 등 구호를 외쳤다. 박찬대 민주당 원내대표는 “한 줌의 권력을 지키기 위해 국민 목소리를 짓밟은 의회 참사의 날”이라며 “22대 국회가 열리자마자 채 상병 특검법을 재추진하겠다”고 밝혔다. 허은아 개혁신당 대표는 기자회견에서 “역사의 법정이 반대표를 던진 의원들을 심판할 것”이라고 말했다.\n",
    "22대 국회에선 여당이 108석, 범야권 192석으로 여당에서 8명만 이탈해도 대통령의 거부권을 무력화할 수 있다.\n",
    "국회는 이날 본회의에서 민주당 등 야당 주도로 전세사기 특별법을 재석 170명에 찬성 170표 만장일치로 가결시켰다. 정부가 전세사기 피해자를 먼저 구제하고, 차후에 집을 처분해 회수하는 ‘선 구제 후 회수’가 주요 내용이다. 윤석열 대통령은 21대 국회 임기 마지막 날인 29일까지 법안이 정부로 이송되면 거부권을 행사할 방침 인 것으로 알려졌다.\n",
    "'''"
   ]
  },
  {
   "cell_type": "code",
   "execution_count": 4,
   "metadata": {},
   "outputs": [
    {
     "ename": "SystemError",
     "evalue": "java.nio.file.InvalidPathException: Illegal char <*> at index 43: C:\\Python312\\Lib\\site-packages\\konlpy\\java\\*",
     "output_type": "error",
     "traceback": [
      "\u001b[1;31m---------------------------------------------------------------------------\u001b[0m",
      "\u001b[1;31mSystemError\u001b[0m                               Traceback (most recent call last)",
      "Cell \u001b[1;32mIn[4], line 2\u001b[0m\n\u001b[0;32m      1\u001b[0m \u001b[38;5;28;01mfrom\u001b[39;00m \u001b[38;5;21;01mkonlpy\u001b[39;00m\u001b[38;5;21;01m.\u001b[39;00m\u001b[38;5;21;01mtag\u001b[39;00m \u001b[38;5;28;01mimport\u001b[39;00m Kkma\n\u001b[1;32m----> 2\u001b[0m kkma \u001b[38;5;241m=\u001b[39m \u001b[43mKkma\u001b[49m\u001b[43m(\u001b[49m\u001b[43m)\u001b[49m\t\u001b[38;5;66;03m# 아마 설치가 잘 되지 않았다면 이 단계에서 에러가 났을 것이다.\u001b[39;00m\n\u001b[0;32m      3\u001b[0m \u001b[38;5;66;03m# print(kkma.nouns(u'안녕하세요 Soo입니다'))\u001b[39;00m\n",
      "File \u001b[1;32mc:\\Python312\\Lib\\site-packages\\konlpy\\tag\\_kkma.py:95\u001b[0m, in \u001b[0;36mKkma.__init__\u001b[1;34m(self, jvmpath, max_heap_size)\u001b[0m\n\u001b[0;32m     93\u001b[0m \u001b[38;5;28;01mdef\u001b[39;00m \u001b[38;5;21m__init__\u001b[39m(\u001b[38;5;28mself\u001b[39m, jvmpath\u001b[38;5;241m=\u001b[39m\u001b[38;5;28;01mNone\u001b[39;00m, max_heap_size\u001b[38;5;241m=\u001b[39m\u001b[38;5;241m1024\u001b[39m):\n\u001b[0;32m     94\u001b[0m     \u001b[38;5;28;01mif\u001b[39;00m \u001b[38;5;129;01mnot\u001b[39;00m jpype\u001b[38;5;241m.\u001b[39misJVMStarted():\n\u001b[1;32m---> 95\u001b[0m         \u001b[43mjvm\u001b[49m\u001b[38;5;241;43m.\u001b[39;49m\u001b[43minit_jvm\u001b[49m\u001b[43m(\u001b[49m\u001b[43mjvmpath\u001b[49m\u001b[43m,\u001b[49m\u001b[43m \u001b[49m\u001b[43mmax_heap_size\u001b[49m\u001b[43m)\u001b[49m\n\u001b[0;32m     97\u001b[0m     kkmaJavaPackage \u001b[38;5;241m=\u001b[39m jpype\u001b[38;5;241m.\u001b[39mJPackage(\u001b[38;5;124m'\u001b[39m\u001b[38;5;124mkr.lucypark.kkma\u001b[39m\u001b[38;5;124m'\u001b[39m)\n\u001b[0;32m     98\u001b[0m     KkmaInterfaceJavaClass \u001b[38;5;241m=\u001b[39m kkmaJavaPackage\u001b[38;5;241m.\u001b[39mKkmaInterface\n",
      "File \u001b[1;32mc:\\Python312\\Lib\\site-packages\\konlpy\\jvm.py:64\u001b[0m, in \u001b[0;36minit_jvm\u001b[1;34m(jvmpath, max_heap_size)\u001b[0m\n\u001b[0;32m     61\u001b[0m     jvmpath \u001b[38;5;241m=\u001b[39m \u001b[38;5;124m'\u001b[39m\u001b[38;5;132;01m%s\u001b[39;00m\u001b[38;5;124m/lib/jli/libjli.dylib\u001b[39m\u001b[38;5;124m'\u001b[39m \u001b[38;5;241m%\u001b[39m jvmpath\u001b[38;5;241m.\u001b[39msplit(\u001b[38;5;124m'\u001b[39m\u001b[38;5;124m/lib/\u001b[39m\u001b[38;5;124m'\u001b[39m)[\u001b[38;5;241m0\u001b[39m]\n\u001b[0;32m     63\u001b[0m \u001b[38;5;28;01mif\u001b[39;00m jvmpath:\n\u001b[1;32m---> 64\u001b[0m     \u001b[43mjpype\u001b[49m\u001b[38;5;241;43m.\u001b[39;49m\u001b[43mstartJVM\u001b[49m\u001b[43m(\u001b[49m\u001b[43mjvmpath\u001b[49m\u001b[43m,\u001b[49m\u001b[43m \u001b[49m\u001b[38;5;124;43m'\u001b[39;49m\u001b[38;5;124;43m-Djava.class.path=\u001b[39;49m\u001b[38;5;132;43;01m%s\u001b[39;49;00m\u001b[38;5;124;43m'\u001b[39;49m\u001b[43m \u001b[49m\u001b[38;5;241;43m%\u001b[39;49m\u001b[43m \u001b[49m\u001b[43mclasspath\u001b[49m\u001b[43m,\u001b[49m\n\u001b[0;32m     65\u001b[0m \u001b[43m                            \u001b[49m\u001b[38;5;124;43m'\u001b[39;49m\u001b[38;5;124;43m-Dfile.encoding=UTF8\u001b[39;49m\u001b[38;5;124;43m'\u001b[39;49m\u001b[43m,\u001b[49m\n\u001b[0;32m     66\u001b[0m \u001b[43m                            \u001b[49m\u001b[38;5;124;43m'\u001b[39;49m\u001b[38;5;124;43m-ea\u001b[39;49m\u001b[38;5;124;43m'\u001b[39;49m\u001b[43m,\u001b[49m\u001b[43m \u001b[49m\u001b[38;5;124;43m'\u001b[39;49m\u001b[38;5;124;43m-Xmx\u001b[39;49m\u001b[38;5;132;43;01m{}\u001b[39;49;00m\u001b[38;5;124;43mm\u001b[39;49m\u001b[38;5;124;43m'\u001b[39;49m\u001b[38;5;241;43m.\u001b[39;49m\u001b[43mformat\u001b[49m\u001b[43m(\u001b[49m\u001b[43mmax_heap_size\u001b[49m\u001b[43m)\u001b[49m\u001b[43m)\u001b[49m\n\u001b[0;32m     67\u001b[0m \u001b[38;5;28;01melse\u001b[39;00m:\n\u001b[0;32m     68\u001b[0m     \u001b[38;5;28;01mraise\u001b[39;00m \u001b[38;5;167;01mValueError\u001b[39;00m(\u001b[38;5;124m\"\u001b[39m\u001b[38;5;124mPlease specify the JVM path.\u001b[39m\u001b[38;5;124m\"\u001b[39m)\n",
      "File \u001b[1;32mc:\\Python312\\Lib\\site-packages\\jpype\\_core.py:247\u001b[0m, in \u001b[0;36mstartJVM\u001b[1;34m(jvmpath, classpath, ignoreUnrecognized, convertStrings, interrupt, *jvmargs)\u001b[0m\n\u001b[0;32m    245\u001b[0m prior \u001b[38;5;241m=\u001b[39m [locale\u001b[38;5;241m.\u001b[39mgetlocale(i) \u001b[38;5;28;01mfor\u001b[39;00m i \u001b[38;5;129;01min\u001b[39;00m categories]\n\u001b[0;32m    246\u001b[0m \u001b[38;5;66;03m# Start the JVM\u001b[39;00m\n\u001b[1;32m--> 247\u001b[0m \u001b[43m_jpype\u001b[49m\u001b[38;5;241;43m.\u001b[39;49m\u001b[43mstartup\u001b[49m\u001b[43m(\u001b[49m\u001b[43mjvmpath\u001b[49m\u001b[43m,\u001b[49m\u001b[43m \u001b[49m\u001b[43mjvmargs\u001b[49m\u001b[43m \u001b[49m\u001b[38;5;241;43m+\u001b[39;49m\u001b[43m \u001b[49m\u001b[43mextra_jvm_args\u001b[49m\u001b[43m,\u001b[49m\n\u001b[0;32m    248\u001b[0m \u001b[43m               \u001b[49m\u001b[43mignoreUnrecognized\u001b[49m\u001b[43m,\u001b[49m\u001b[43m \u001b[49m\u001b[43mconvertStrings\u001b[49m\u001b[43m,\u001b[49m\u001b[43m \u001b[49m\u001b[43minterrupt\u001b[49m\u001b[43m)\u001b[49m\n\u001b[0;32m    249\u001b[0m \u001b[38;5;66;03m# Collect required resources for operation\u001b[39;00m\n\u001b[0;32m    250\u001b[0m initializeResources()\n",
      "\u001b[1;31mSystemError\u001b[0m: java.nio.file.InvalidPathException: Illegal char <*> at index 43: C:\\Python312\\Lib\\site-packages\\konlpy\\java\\*"
     ]
    }
   ],
   "source": [
    "from konlpy.tag import Kkma\n",
    "kkma = Kkma()\t# 아마 설치가 잘 되지 않았다면 이 단계에서 에러가 났을 것이다.\n",
    "# print(kkma.nouns(u'안녕하세요 Soo입니다'))"
   ]
  }
 ],
 "metadata": {
  "kernelspec": {
   "display_name": "Python 3",
   "language": "python",
   "name": "python3"
  },
  "language_info": {
   "codemirror_mode": {
    "name": "ipython",
    "version": 3
   },
   "file_extension": ".py",
   "mimetype": "text/x-python",
   "name": "python",
   "nbconvert_exporter": "python",
   "pygments_lexer": "ipython3",
   "version": "3.12.0"
  }
 },
 "nbformat": 4,
 "nbformat_minor": 2
}
