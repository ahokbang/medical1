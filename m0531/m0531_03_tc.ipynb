{
 "cells": [
  {
   "cell_type": "code",
   "execution_count": 1,
   "metadata": {},
   "outputs": [],
   "source": [
    "from sklearn.linear_model import LinearRegression  # 선형회귀\n",
    "from sklearn.preprocessing import PolynomialFeatures # 다항특성을 만들어주는 라이브러리\n",
    "from sklearn.model_selection import train_test_split\n",
    "import pandas as pd\n",
    "import numpy as np\n",
    "import random\n",
    "import re\n",
    "import matplotlib.pyplot as plt\n",
    "import matplotlib\n",
    "matplotlib.rcParams['axes.unicode_minus'] = False  # 마이너스 표시 해결\n",
    "# 한글설정\n",
    "matplotlib.rcParams['font.family'] = 'Malgun Gothic' # windows 사용자\n",
    "# matplotlib.rcParams['font.family'] = 'AppleGothic Gothic' # Mac사용자\n",
    "matplotlib.rcParams['font.size'] = '10' # 글자크기"
   ]
  },
  {
   "cell_type": "code",
   "execution_count": 9,
   "metadata": {},
   "outputs": [
    {
     "data": {
      "text/html": [
       "<div>\n",
       "<style scoped>\n",
       "    .dataframe tbody tr th:only-of-type {\n",
       "        vertical-align: middle;\n",
       "    }\n",
       "\n",
       "    .dataframe tbody tr th {\n",
       "        vertical-align: top;\n",
       "    }\n",
       "\n",
       "    .dataframe thead th {\n",
       "        text-align: right;\n",
       "    }\n",
       "</style>\n",
       "<table border=\"1\" class=\"dataframe\">\n",
       "  <thead>\n",
       "    <tr style=\"text-align: right;\">\n",
       "      <th></th>\n",
       "      <th>score</th>\n",
       "      <th>review</th>\n",
       "      <th>y</th>\n",
       "    </tr>\n",
       "  </thead>\n",
       "  <tbody>\n",
       "    <tr>\n",
       "      <th>0</th>\n",
       "      <td>5</td>\n",
       "      <td>新鮮でおいしいです。너무 맛있어요</td>\n",
       "      <td>1</td>\n",
       "    </tr>\n",
       "    <tr>\n",
       "      <th>1</th>\n",
       "      <td>4</td>\n",
       "      <td>녹는다 녹아</td>\n",
       "      <td>1</td>\n",
       "    </tr>\n",
       "    <tr>\n",
       "      <th>2</th>\n",
       "      <td>4</td>\n",
       "      <td>좋아요</td>\n",
       "      <td>1</td>\n",
       "    </tr>\n",
       "    <tr>\n",
       "      <th>3</th>\n",
       "      <td>5</td>\n",
       "      <td>흠잡을곳 없는 반찬이 정갈합니다</td>\n",
       "      <td>1</td>\n",
       "    </tr>\n",
       "    <tr>\n",
       "      <th>4</th>\n",
       "      <td>5</td>\n",
       "      <td>코로나 땜에 걱정했는데 방역수칙도 잘 지키시고 살치실이랑 등심 부드러워서 너무 좋아...</td>\n",
       "      <td>1</td>\n",
       "    </tr>\n",
       "    <tr>\n",
       "      <th>...</th>\n",
       "      <td>...</td>\n",
       "      <td>...</td>\n",
       "      <td>...</td>\n",
       "    </tr>\n",
       "    <tr>\n",
       "      <th>367</th>\n",
       "      <td>1</td>\n",
       "      <td>핵노맛 식당 분위기가 1점</td>\n",
       "      <td>0</td>\n",
       "    </tr>\n",
       "    <tr>\n",
       "      <th>368</th>\n",
       "      <td>5</td>\n",
       "      <td>깔끔친절죤맛</td>\n",
       "      <td>1</td>\n",
       "    </tr>\n",
       "    <tr>\n",
       "      <th>369</th>\n",
       "      <td>5</td>\n",
       "      <td>주말엔 점심특선 안 됨ㅠ 안 바쁠 때 가서 그런지 하나하나 잘 구워주시고 육즙 굿 ...</td>\n",
       "      <td>1</td>\n",
       "    </tr>\n",
       "    <tr>\n",
       "      <th>370</th>\n",
       "      <td>5</td>\n",
       "      <td>맛있고 직원분들이 친절해서 좋아요. 가성비도 좋음. 생각보다 고기가 많이서 한꺼번에...</td>\n",
       "      <td>1</td>\n",
       "    </tr>\n",
       "    <tr>\n",
       "      <th>371</th>\n",
       "      <td>5</td>\n",
       "      <td>새로 생겨서 정말 깨끗한 인테리어, 마감시간에 지켜봤는데 다 깨끗이 청소하길래 신뢰...</td>\n",
       "      <td>1</td>\n",
       "    </tr>\n",
       "  </tbody>\n",
       "</table>\n",
       "<p>372 rows × 3 columns</p>\n",
       "</div>"
      ],
      "text/plain": [
       "     score                                             review  y\n",
       "0        5                                  新鮮でおいしいです。너무 맛있어요  1\n",
       "1        4                                             녹는다 녹아  1\n",
       "2        4                                                좋아요  1\n",
       "3        5                                 흠잡을곳 없는 반찬이 정갈합니다   1\n",
       "4        5  코로나 땜에 걱정했는데 방역수칙도 잘 지키시고 살치실이랑 등심 부드러워서 너무 좋아...  1\n",
       "..     ...                                                ... ..\n",
       "367      1                                     핵노맛 식당 분위기가 1점  0\n",
       "368      5                                             깔끔친절죤맛  1\n",
       "369      5  주말엔 점심특선 안 됨ㅠ 안 바쁠 때 가서 그런지 하나하나 잘 구워주시고 육즙 굿 ...  1\n",
       "370      5  맛있고 직원분들이 친절해서 좋아요. 가성비도 좋음. 생각보다 고기가 많이서 한꺼번에...  1\n",
       "371      5  새로 생겨서 정말 깨끗한 인테리어, 마감시간에 지켜봤는데 다 깨끗이 청소하길래 신뢰...  1\n",
       "\n",
       "[372 rows x 3 columns]"
      ]
     },
     "execution_count": 9,
     "metadata": {},
     "output_type": "execute_result"
    }
   ],
   "source": [
    "df = pd.read_csv('review_data.csv')\n",
    "df"
   ]
  },
  {
   "cell_type": "code",
   "execution_count": 10,
   "metadata": {},
   "outputs": [
    {
     "name": "stdout",
     "output_type": "stream",
     "text": [
      "<class 'pandas.core.frame.DataFrame'>\n",
      "RangeIndex: 372 entries, 0 to 371\n",
      "Data columns (total 3 columns):\n",
      " #   Column  Non-Null Count  Dtype \n",
      "---  ------  --------------  ----- \n",
      " 0   score   372 non-null    int64 \n",
      " 1   review  372 non-null    object\n",
      " 2   y       372 non-null    int64 \n",
      "dtypes: int64(2), object(1)\n",
      "memory usage: 8.8+ KB\n"
     ]
    }
   ],
   "source": [
    "# 데이터 확인\n",
    "df.info()"
   ]
  },
  {
   "cell_type": "code",
   "execution_count": 11,
   "metadata": {},
   "outputs": [
    {
     "data": {
      "text/plain": [
       "y\n",
       "1    222\n",
       "0    150\n",
       "Name: count, dtype: int64"
      ]
     },
     "execution_count": 11,
     "metadata": {},
     "output_type": "execute_result"
    }
   ],
   "source": [
    "df['y'].value_counts() # 1 - 긍정, 0 - 부정"
   ]
  },
  {
   "cell_type": "code",
   "execution_count": 18,
   "metadata": {},
   "outputs": [],
   "source": [
    "import re\n",
    "\n",
    "# 빈공백,한글을 제외하고 모든 문자는 제거\n",
    "# 문자열을 정리\n",
    "def text_cleaning(text):\n",
    "    hangul = re.compile('[^ ㄱ-ㅎ가-힣]') #빈공백,한글 반대인 것 선택\n",
    "    result = hangul.sub('', text)\n",
    "    return result"
   ]
  },
  {
   "cell_type": "code",
   "execution_count": 21,
   "metadata": {},
   "outputs": [],
   "source": [
    "# df.columns"
   ]
  },
  {
   "cell_type": "code",
   "execution_count": 20,
   "metadata": {},
   "outputs": [],
   "source": [
    "# df['review'].head()"
   ]
  },
  {
   "cell_type": "code",
   "execution_count": 22,
   "metadata": {},
   "outputs": [
    {
     "data": {
      "text/plain": [
       "(372, 4)"
      ]
     },
     "execution_count": 22,
     "metadata": {},
     "output_type": "execute_result"
    }
   ],
   "source": [
    "df['ko_text'] = df['review'].apply(lambda x: text_cleaning(x))\n",
    "df['ko_text']\n",
    "\n",
    "# 한글자 이상의 텍스트를 가지고 데이터 추출\n",
    "df = df[df['ko_text'].str.len()>0]\n",
    "df.shape"
   ]
  },
  {
   "cell_type": "code",
   "execution_count": 28,
   "metadata": {},
   "outputs": [],
   "source": [
    "# 형태소 단위 추출\n",
    "from konlpy.tag import Okt\n",
    "\n",
    "# 형태소분석 함수생성\n",
    "def get_pos(x):\n",
    "    tagger = Okt()\n",
    "    pos = tagger.pos(x) #(단어,품사) 튜플\n",
    "    pos = [ '{}/{}'.format(word,tag) for word,tag in pos] #pos튜플형태(단어,품사)\n",
    "    return pos"
   ]
  },
  {
   "cell_type": "code",
   "execution_count": 24,
   "metadata": {},
   "outputs": [
    {
     "data": {
      "text/plain": [
       "'너무 맛있어요'"
      ]
     },
     "execution_count": 24,
     "metadata": {},
     "output_type": "execute_result"
    }
   ],
   "source": [
    "df['ko_text'].values[0]"
   ]
  },
  {
   "cell_type": "code",
   "execution_count": 29,
   "metadata": {},
   "outputs": [
    {
     "data": {
      "text/plain": [
       "['너무/Adverb', '맛있어요/Adjective']"
      ]
     },
     "execution_count": 29,
     "metadata": {},
     "output_type": "execute_result"
    }
   ],
   "source": [
    "# 형태소 추출 테스트\n",
    "result = get_pos(df['ko_text'].values[0])\n",
    "result"
   ]
  },
  {
   "cell_type": "code",
   "execution_count": 30,
   "metadata": {},
   "outputs": [
    {
     "name": "stderr",
     "output_type": "stream",
     "text": [
      "c:\\Python312\\Lib\\site-packages\\sklearn\\feature_extraction\\text.py:523: UserWarning: The parameter 'token_pattern' will not be used since 'tokenizer' is not None'\n",
      "  warnings.warn(\n"
     ]
    }
   ],
   "source": [
    "# CountVectorizer : 전체단어에서 각단어에 번호를 부여\n",
    "from sklearn.feature_extraction.text import CountVectorizer\n",
    "\n",
    "index_vectorizer = CountVectorizer(tokenizer=lambda x : get_pos(x))\n",
    "X = index_vectorizer.fit_transform(df['ko_text'].to_list())"
   ]
  },
  {
   "cell_type": "code",
   "execution_count": 32,
   "metadata": {},
   "outputs": [
    {
     "data": {
      "text/plain": [
       "(372, 2343)"
      ]
     },
     "execution_count": 32,
     "metadata": {},
     "output_type": "execute_result"
    }
   ],
   "source": [
    "# 형태소 분석이 된 단어 총 개수 - 2343개\n",
    "X.shape"
   ]
  },
  {
   "cell_type": "code",
   "execution_count": 34,
   "metadata": {},
   "outputs": [
    {
     "name": "stdout",
     "output_type": "stream",
     "text": [
      "['ㄴ/KoreanParticle', 'ㄷㄷㄷ/KoreanParticle', 'ㄹㅇ/KoreanParticle', 'ㅂㅂ/KoreanParticle', 'ㅅ/KoreanParticle', 'ㅇㅇ/KoreanParticle', 'ㅈㄴ/KoreanParticle', 'ㅈㅁㅌㅌㄱㄹ/KoreanParticle', 'ㅋ/KoreanParticle', 'ㅋㅋ/KoreanParticle', 'ㅋㅋㅋ/KoreanParticle', 'ㅋㅋㅋㅋ/KoreanParticle', 'ㅋㅋㅋㅋㅋ/KoreanParticle', 'ㅎ/KoreanParticle', 'ㅎㅎ/KoreanParticle', 'ㅎㅎㅎ/KoreanParticle', 'ㅎㅎㅎㅎ/KoreanParticle', '가/Josa', '가/Verb', '가게/Noun', '가격/Noun', '가고/Verb', '가고싶지/Verb', '가급적/Adverb', '가기/Noun', '가까/Adjective', '가까히/Adjective', '가나/Noun', '가네요/Verb', '가는/Verb', '가는게/Verb', '가능/Noun', '가능하고/Adjective', '가득/Noun', '가득가득/Adverb', '가득해서/Adjective', '가려고요/Verb', '가려는데/Verb', '가맹/Noun', '가면/Noun', '가본/Verb', '가서/Verb', '가성/Noun', '가세/Noun', '가스/Noun', '가슴/Noun', '가시길/Verb', '가시는거라면/Verb', '가시던데/Verb', '가심/Verb', '가장/Noun', '가정/Noun', '가져가/Verb', '가져다/Verb', '가져다가/Verb', '가져다줄/Verb', '가족/Noun', '가지/Noun', '가진/Verb', '각/Noun', '간/Noun', '간/Suffix', '간곳/Noun', '간다/Noun', '간단하게/Adjective', '간하면/Verb', '갈/Verb', '갈릴/Noun', '갈만/Verb', '갈비/Noun', '감/Noun', '감각/Noun', '감도/Verb', '감사한다/Verb', '감사합니다/Verb', '감사합니당/Verb', '감안/Noun', '감자/Noun', '감자전/Noun', '감탄/Noun', '갑/Noun', '갑니다/Verb', '값/Noun', '갓/Noun', '갔는데/Verb', '갔는데도/Verb', '갔다가/Verb', '갔던/Verb', '갔을/Verb', '강/Noun', '강남/Noun', '강남역/Noun', '강추/Noun', '강츄/Noun', '강했고/Adjective', '같고/Adjective', '같긔/Noun', '같네요/Adjective', '같다/Adjective', '같습니다/Adjective', '같아/Adjective', '같아요/Adjective', '같았음/Adjective', '같으니/Adjective', '같으면/Adjective', '같은/Adjective', '같은게/Adjective', '같은데/Adjective', '같음/Adjective', '같이/Adverb', '개/Noun', '개/Suffix', '개개/Noun', '개도/Noun', '개인/Noun', '개존맛/Noun', '개지/Noun', '갠/Noun', '갱신/Noun', '걍/Adverb', '걍개마싯윰/Noun', '거/Noun', '거기/Noun', '거래처/Noun', '거리/Noun', '거림/Noun', '거의/Noun', '거짓/Noun', '거짓말/Noun', '거치곤/Verb', '거품/Noun', '걱정/Noun', '건/Noun', '건가/Noun', '건지/Verb', '걸/Noun', '걸린/Verb', '검색/Noun', '검정색/Noun', '겁나/Verb', '것/Noun', '게/Josa', '게/Noun', '겨/Noun', '겨진/Verb', '격/Noun', '격인/Noun', '결론/Noun', '경/Modifier', '경우/Noun', '곁들여/Verb', '계란찜/Noun', '계산/Noun', '계속/Noun', '계신/Adjective', '고/Josa', '고/Modifier', '고/Noun', '고급/Noun', '고기/Noun', '고기만/Noun', '고깃집/Noun', '고량주/Noun', '고르도록/Verb', '고를줄/Verb', '고무/Noun', '고사리/Noun', '고생/Noun', '고소하고/Adjective', '고소하니/Adjective', '고소해요/Adjective', '고요/Noun', '고유/Noun', '고의/Noun', '고함/Noun', '곱/Noun', '곱창/Noun', '곱창전골/Noun', '곳/Noun', '공간/Noun', '공기/Noun', '곸/Noun', '과/Josa', '관리/Noun', '광양/Noun', '괜찮네요/Adjective', '괜찮다고/Adjective', '괜찮아요/Adjective', '괜찮았습니다/Adjective', '괜찮았어요/Adjective', '괜찮은/Adjective', '괜찮을것/Adjective', '괜찮을듯/Adjective', '괜찮음/Adjective', '굉장히/Adjective', '교대/Noun', '교육/Noun', '구/Modifier', '구/Noun', '구나/Noun', '구려/Noun', '구분/Noun', '구석/Noun', '구성/Noun', '구어주는데/Adjective', '구울/Noun', '구워/Verb', '구워서/Verb', '구워져서/Verb', '구워주고/Verb', '구워주는/Verb', '구워주는것도/Verb', '구워주니까/Verb', '구워주러/Verb', '구워주셔서/Verb', '구워주셨어요/Verb', '구워주시고/Verb', '구워주시는/Verb', '구워줘서/Verb', '구워지는/Verb', '구웠던/Verb', '구웠어요/Verb', '구으세요/Verb', '구이/Noun', '구조/Noun', '구조도/Noun', '국/Noun', '국물/Noun', '국자/Noun', '군대/Noun', '굳/Adjective', '굳이/Noun', '굽/Noun', '굽네요/Verb', '굽네치킨/Noun', '굽느라/Verb', '굽는/Verb', '굿/Noun', '굿굿/Noun', '굿굿굿/Noun', '궁금하네요/Adjective', '귀찮다는/Adjective', '귀하게/Adjective', '그/Determiner', '그/Noun', '그거/Noun', '그걸/Adverb', '그게/Noun', '그나마/Adverb', '그냥/Noun', '그다지/Noun', '그닥/Noun', '그닥또/Noun', '그때/Noun', '그래도/Adjective', '그래도/Adverb', '그래서/Adverb', '그램/Noun', '그랬어요/Adjective', '그러/Adjective', '그러나/Conjunction', '그러시네요/Adjective', '그런/Adjective', '그런거/Adjective', '그런건/Adjective', '그런게/Adjective', '그런데/Conjunction', '그런지/Adjective', '그럴지도/Adjective', '그럼/Adjective', '그렇게/Adverb', '그렇지만/Conjunction', '그리고/Conjunction', '그야말로/Adverb', '그치만/Verb', '극복/Noun', '극찬/Noun', '근데/Adverb', '글/Noun', '글구/Noun', '글쎄/Noun', '금구/Noun', '금액/Noun', '급하게/Adjective', '기/Modifier', '기/Noun', '기고/Noun', '기다려서/Verb', '기다려야하는지/Verb', '기다리라는/Verb', '기다릴/Verb', '기대도/Verb', '기대하고/Adjective', '기대하는/Adjective', '기대한만큼/Adjective', '기도/Noun', '기름/Noun', '기름기/Noun', '기만/Noun', '기복/Noun', '기본/Noun', '기분/Noun', '기억/Noun', '기와/Noun', '기존/Noun', '기준/Noun', '기질/Noun', '긴/Verb', '긴한데/Verb', '길었지만/Adjective', '김희/Noun', '깊은/Adjective', '까요/Verb', '까지/Josa', '까지만/Josa', '까지와/Josa', '까진/Josa', '깍두기/Noun', '깔끔친절죤맛/Noun', '깔끔하게/Adjective', '깔끔하고/Adjective', '깔끔한/Adjective', '깔끔해서/Adjective', '깔끔해요/Adjective', '깔려있음/Verb', '깜놀/Noun', '깜짝/Noun', '깨끗이/Adverb', '깨끗하게/Adjective', '깨끗하고/Adjective', '깨끗한/Adjective', '깻잎/Noun', '껄/Noun', '껍데기/Noun', '껴요/Verb', '꼈어요/Verb', '꼬숩/Noun', '꼭/Noun', '꼽힘/Verb', '꽃/Noun', '꽤/Noun', '꾸역꾸역/Adverb', '꿈틀/Noun', '끝/Noun', '끝내줌/Adjective', '끼/Noun', '끼리/Noun', '나/Josa', '나/Noun', '나가기/Verb', '나가는/Verb', '나가는줄/Verb', '나가셨습니다/Verb', '나갈/Verb', '나고/Verb', '나는줄/Verb', '나름/Noun', '나무/Noun', '나물/Noun', '나빴는데/Adjective', '나쁘게/Adjective', '나쁘지/Adjective', '나쁘진/Adjective', '나서/Verb', '나오고/Verb', '나오기/Verb', '나오는/Verb', '나오다/Verb', '나오면서도/Verb', '나온/Verb', '나온다/Verb', '나와서/Verb', '나왔네요/Verb', '나왔는데/Verb', '나은듯/Verb', '나이/Noun', '나중/Noun', '난/Josa', '난/Noun', '날/Noun', '날수/Noun', '남/Noun', '남겨주세요/Verb', '남깁니다/Verb', '남녀/Noun', '남도/Noun', '남아있는/Verb', '남이섬/Noun', '남자/Noun', '낫다/Noun', '났는지/Verb', '났습니다/Verb', '났어요/Verb', '낮/Noun', '내/Determiner', '내/Noun', '내고/Verb', '내려가지를/Verb', '내려서/Verb', '내부/Noun', '내서/Verb', '냄비/Noun', '냄새/Noun', '냅고/Verb', '냅킨/Noun', '냈는데/Verb', '냉동/Noun', '냉면/Noun', '냉삼/Noun', '냠냠/Adverb', '너/Modifier', '너무/Adverb', '너무나/Adverb', '넓고/Adjective', '넓은/Adjective', '넘/Verb', '넘게/Verb', '넘마/Verb', '넘어가는데/Verb', '넘었음/Verb', '넘흐/Noun', '넣어서/Verb', '네/Noun', '네/Suffix', '네이버/Noun', '녀/Noun', '년대/Noun', '노/Noun', '노른자/Noun', '노소/Noun', '녹는다/Verb', '녹아/Verb', '녹아요/Verb', '놀라실/Verb', '놀라웠고/Adjective', '놀람/Noun', '놀랐던/Verb', '놀랬으면/Adjective', '높아서/Adjective', '높은/Adjective', '놓고/Verb', '놓여있어서/Verb', '누/Noun', '누가/Noun', '누구/Noun', '누렇데/Noun', '누룽지/Noun', '눈/Noun', '눌러도/Verb', '느끼고/Verb', '느끼하고/Adjective', '느끼한/Adjective', '느낄/Verb', '느낌/Noun', '는/Josa', '는데/Eomi', '는커녕/Josa', '늘/Noun', '능력/Noun', '늦게/Verb', '늦은/Verb', '니/Josa', '니글거렸음/Noun', '니까/Josa', '니당/Verb', '님/Suffix', '다/Adverb', '다/Josa', '다기/Noun', '다녀왔는데/Verb', '다닥다닥/Adverb', '다르게/Adjective', '다른/Modifier', '다른/Noun', '다른거/Adjective', '다만/Noun', '다소/Noun', '다시/Noun', '다시는/Verb', '다신/Verb', '다양/Noun', '다음/Noun', '다쳐도/Verb', '닥/Noun', '닦아/Verb', '닦아내고/Verb', '닦았습니다/Verb', '단/Noun', '단골/Noun', '단말/Noun', '단점/Noun', '단체/Noun', '달/Noun', '달기/Noun', '달달/Noun', '달라/Noun', '닭/Noun', '닭갈비/Noun', '닭고기/Noun', '닭도리탕/Noun', '닭볶음탕/Noun', '답변/Noun', '당/Modifier', '당연하고/Adjective', '당연하다는듯이/Adjective', '당일/Noun', '당하기/Adjective', '당하다가/Adjective', '당해서/Adjective', '당황/Noun', '닿는/Verb', '대/Modifier', '대/Suffix', '대가/Noun', '대기/Noun', '대박/Noun', '대박나세용/Verb', '대비/Noun', '대신/Noun', '대의/Noun', '대접/Noun', '대창/Noun', '대충/Noun', '대충대충/Adverb', '대패/Noun', '대해/Noun', '대화/Noun', '댓글/Noun', '댓글단/Verb', '더/Noun', '더니/Noun', '더욱/Noun', '더운데/Adjective', '더움/Noun', '더워요/Adjective', '덕분/Noun', '던지시더라구요/Verb', '덜/Noun', '덤/Noun', '덥다/Adjective', '덩어리/Noun', '데/Noun', '데려간/Verb', '데이트/Noun', '도/Josa', '도/Noun', '도대체/Noun', '도리/Noun', '도와주시고/Verb', '도해/Noun', '돈/Noun', '돈가스/Noun', '돈까스/Noun', '돌아다면서/Verb', '돌아서/Verb', '돌아오는/Verb', '동기/Noun', '동네/Noun', '동료/Noun', '돼있도/Verb', '돼지/Noun', '돼지고기/Noun', '됐네요/Verb', '되/Verb', '되고/Verb', '되는데/Verb', '되어/Verb', '되요/Verb', '된/Adjective', '된것/Verb', '된다고/Verb', '된장/Noun', '된장찌개/Noun', '될듯/Verb', '됨/Verb', '됩니다/Verb', '두/Determiner', '두/Josa', '두고/Verb', '두기/Noun', '두꺼운/Adjective', '두꺼운듯/Adjective', '두껍/Adjective', '두번째/Noun', '두툼/Noun', '둘이가면/Verb', '둘째/Noun', '둠/Verb', '둠을/Verb', '뒤/Noun', '뒤집어주시는데/Verb', '뒤집으면/Verb', '뒷골목/Noun', '드/Noun', '드는/Verb', '드럽게/Adjective', '드릴/Noun', '드립니다/Verb', '드세요/Verb', '드세용/Verb', '드셔/Verb', '드시는/Verb', '든든했어요/Adjective', '든든히/Adjective', '들/Suffix', '들/Verb', '들께는/Verb', '들어/Verb', '들어가구/Verb', '들어가는/Verb', '들어가는데/Verb', '들어가서/Verb', '들어가자마자/Verb', '들어간/Verb', '들어간거라고/Verb', '들어갔다가/Verb', '들어올/Verb', '들어와/Verb', '들어왔는데/Verb', '들었습니다/Verb', '들으시곤/Verb', '듦/Verb', '듬/Noun', '듯/Noun', '등/Noun', '등심/Noun', '디너/Noun', '디저트/Noun', '따라/Verb', '따먹었습니다/Verb', '따져도/Verb', '딱/Adverb', '딱딱하고/Adjective', '딱이였는지/Adjective', '딱히/Adjective', '딴데가세요/Verb', '땀안/Verb', '땅/Noun', '땅코/Noun', '때/Noun', '때문/Noun', '땐/Noun', '땜/Noun', '떠난다/Verb', '떠오르더라구요/Verb', '떠주는데/Verb', '떡/Noun', '떡볶이/Noun', '떨어졌네요/Verb', '떨어질/Verb', '떼기/Verb', '떼는거/Verb', '또/Noun', '또한/Noun', '똥/Noun', '라/Josa', '라고/Josa', '라는/Josa', '라니/Josa', '라도/Josa', '라면/Noun', '라서/Josa', '랑/Josa', '런/Noun', '런가/Noun', '려고/Noun', '로/Josa', '로는/Josa', '루/Noun', '룸/Noun', '류/Noun', '를/Josa', '리뷰/Noun', '리알/Noun', '마감/Noun', '마늘/Noun', '마다/Josa', '마리/Noun', '마세요/Verb', '마셔/Verb', '마셨나/Verb', '마스크/Noun', '마시고/Verb', '마시면서/Verb', '마실/Verb', '마음/Noun', '마인드/Noun', '마지막/Noun', '마찬가지/Noun', '마치/Noun', '마포/Noun', '막국수/Noun', '막창/Noun', '만/Josa', '만/Modifier', '만/Noun', '만든게/Verb', '만들수있는/Verb', '만들어주셔서/Verb', '만원/Noun', '만족/Noun', '만족스럽습니다/Adjective', '만족하셨어요/Adjective', '만족해서/Adjective', '만족했어요/Adjective', '만지고있지/Verb', '만큼/Noun', '많고/Adjective', '많기/Adjective', '많다/Adjective', '많아서/Adjective', '많아요/Adjective', '많은/Adjective', '많음/Adjective', '많이/Adverb', '많이/Modifier', '많지만/Adjective', '말/Noun', '말고/Josa', '말씀/Noun', '맘/Noun', '맙시/Noun', '맛/Noun', '맛남/Noun', '맛맛/Noun', '맛없기/Adjective', '맛없다/Adjective', '맛없어서/Adjective', '맛없음/Adjective', '맛잇으느/Noun', '맛있/Adjective', '맛있게/Adjective', '맛있고/Adjective', '맛있고요/Adjective', '맛있기도/Adjective', '맛있긴한데/Adjective', '맛있네요/Adjective', '맛있는/Adjective', '맛있는것/Adjective', '맛있는네/Adjective', '맛있는데/Adjective', '맛있다/Adjective', '맛있다는/Adjective', '맛있단/Adjective', '맛있당/Adjective', '맛있댜/Noun', '맛있습니다/Adjective', '맛있어/Adjective', '맛있어서/Adjective', '맛있어여/Adjective', '맛있어요/Adjective', '맛있어하는/Adjective', '맛있었고/Adjective', '맛있었는데/Adjective', '맛있었다/Adjective', '맛있었습니다/Adjective', '맛있었어요/Adjective', '맛있었어용/Adjective', '맛있으니/Adjective', '맛있은데/Adjective', '맛있음/Adjective', '맛집/Noun', '망해요/Adjective', '맞게/Verb', '맞고/Verb', '맞다/Verb', '맞춰서/Verb', '맡/Verb', '매/Modifier', '매니저/Noun', '매우/Noun', '매장/Noun', '맥주/Noun', '맨/Noun', '맨손/Noun', '맴/Noun', '맵/Noun', '맵구/Verb', '머리/Noun', '먹고/Verb', '먹고가요/Verb', '먹고나니/Verb', '먹고나서/Verb', '먹고는/Verb', '먹고다/Verb', '먹고다음/Verb', '먹고싶었으나/Verb', '먹고싶을/Verb', '먹고싶진/Verb', '먹기/Noun', '먹는/Verb', '먹는것도/Verb', '먹는데/Verb', '먹는줄/Verb', '먹다/Verb', '먹다가/Verb', '먹더라도/Verb', '먹어/Verb', '먹어도/Verb', '먹어서/Verb', '먹어야/Verb', '먹어요/Verb', '먹었/Verb', '먹었네요/Verb', '먹었는데/Verb', '먹었는지/Verb', '먹었다/Verb', '먹었습니다/Verb', '먹었어요/Verb', '먹었으면/Verb', '먹었음/Verb', '먹으라는/Verb', '먹으러/Verb', '먹으며/Verb', '먹으면/Verb', '먹으면서/Verb', '먹으세요/Verb', '먹은/Verb', '먹은게/Verb', '먹을/Verb', '먹을거면/Verb', '먹을만/Verb', '먹을만한/Verb', '먹을수/Verb', '먹음/Noun', '먹음/Verb', '먹자마자/Verb', '먹죠/Verb', '먼저/Noun', '멀뚱거리/Noun', '멋진/Adjective', '메뉴/Noun', '메볼/Noun', '메인/Noun', '며/Josa', '면/Josa', '면/Noun', '명/Noun', '몇/Modifier', '몇/Noun', '몇개/Noun', '몇번/Noun', '모/Modifier', '모/Noun', '모든/Noun', '모르겠네요/Verb', '모르겠는데/Verb', '모르겠어요/Verb', '모르겠음/Verb', '모르니/Verb', '모르지만/Verb', '모시/Noun', '모시고도/Verb', '모양/Noun', '모임/Noun', '목/Noun', '목살/Noun', '몰라/Verb', '몰라서/Verb', '몰랐다고/Verb', '못/Noun', '못/VerbPrefix', '무/Noun', '무난/Noun', '무례한/Adjective', '무료/Noun', '무서워요/Adjective', '무선/Noun', '무쇠/Noun', '무슨/Modifier', '무시/Noun', '무엇/Noun', '무적/Noun', '무제한/Noun', '무조건/Noun', '무질/Noun', '무한/Noun', '무한리필/Noun', '묵묵/Noun', '묵직하고/Adjective', '묶은/Verb', '문/Noun', '문래동/Noun', '문제/Noun', '문지르더니/Verb', '묻고/Verb', '묻어/Verb', '묻었/Verb', '묻은/Verb', '묻혀서/Verb', '물/Noun', '물냉/Noun', '물론/Adverb', '물수건/Noun', '물어보니/Verb', '물어보면/Verb', '물어봤는데/Verb', '물으니/Verb', '물으면/Verb', '뭐/Noun', '뭐해/Noun', '뭔가/Noun', '뭘/Noun', '믄/Modifier', '미디움/Noun', '미리/Noun', '미식/Noun', '미안/Noun', '미안하/Adjective', '미쳤고/Adjective', '미쳤네요/Adjective', '미쳤습니다/Adjective', '미침/Adjective', '민망했어요/Adjective', '믿고/Verb', '믿기지/Verb', '밋있어/Noun', '및/Noun', '밑/Noun', '밑반찬/Noun', '바/Noun', '바꾸고/Verb', '바꿔/Verb', '바꿔주는건/Verb', '바라는게/Verb', '바빠서/Adjective', '바쁘고/Adjective', '바쁜/Adjective', '바쁠/Adjective', '바삭바삭/Adverb', '밖에/Josa', '반/Modifier', '반/Noun', '반찬/Noun', '받고/Verb', '받기/Verb', '받았습니다/Verb', '받을/Verb', '받음/Verb', '밤/Noun', '밥/Noun', '밥그릇/Noun', '밥맛/Noun', '방문/Noun', '방법/Noun', '방역/Noun', '방이/Noun', '방치/Noun', '배/Noun', '배고/Verb', '배부르게/Adjective', '배불러요/Adjective', '배식/Noun', '배신/Noun', '배아/Noun', '배치도/Noun', '배탈/Noun', '백억/Noun', '백프로/Noun', '밴다는/Verb', '뱉고싶은/Verb', '뱉다/Verb', '뱉어내고/Verb', '버너/Noun', '버려서/Verb', '버리고/Verb', '번/Noun', '벗고/Verb', '베리/Noun', '베이스/Noun', '벨/Noun', '변두리/Noun', '별/Modifier', '별/Noun', '별로/Noun', '별루/Noun', '병/Noun', '보/Noun', '보고/Noun', '보기/Noun', '보내고/Verb', '보는/Verb', '보니/Verb', '보다/Josa', '보다/Verb', '보다는/Josa', '보단/Josa', '보면/Verb', '보세요/Verb', '보셈/Verb', '보시/Noun', '보여주니/Verb', '보였네요/Verb', '보이/Noun', '보이는/Verb', '보이는데/Verb', '보일테니까/Verb', '보임/Noun', '보통/Noun', '복의/Noun', '복작복작/Adverb', '복통/Noun', '볶고/Verb', '볶음/Noun', '볶음밥/Noun', '본/Modifier', '본/Verb', '본것/Verb', '본점/Noun', '볼/Noun', '봄/Noun', '봐/Verb', '봐서/Verb', '봐주셔서/Verb', '봤는데/Verb', '봤더니/Verb', '봤더라/Verb', '부가/Noun', '부근/Noun', '부담/Noun', '부답/Adjective', '부드러움/Noun', '부드러워서/Adjective', '부드럽고/Adjective', '부른줄/Verb', '부모님/Noun', '부분/Noun', '부시/Noun', '부실하고/Adjective', '부위/Noun', '부족해/Adjective', '부족해서인지/Adjective', '부추/Noun', '부탁/Noun', '부터/Josa', '부터/Noun', '부턴/Josa', '분/Noun', '분/Suffix', '분들/Suffix', '분위기/Noun', '불/Noun', '불고기/Noun', '불러도/Verb', '불렀더니/Verb', '불로/Noun', '불리/Noun', '불만/Noun', '불모/Noun', '불문/Noun', '불안/Noun', '불친절/Noun', '불친절하고요/Adjective', '불친절하네요/Adjective', '불친절함/Adjective', '불친절합니다/Adjective', '불친절해서/Adjective', '불친절해요/Adjective', '불판/Noun', '불판앞/Noun', '불편함을/Adjective', '불편했어여/Adjective', '붙어/Verb', '붙어있는/Verb', '붙어있는데/Verb', '븐/Noun', '블로그/Noun', '비/Noun', '비갑/Noun', '비계/Noun', '비교/Noun', '비눗물/Noun', '비는/Verb', '비도/Noun', '비린내가/Adjective', '비빈/Verb', '비빔국수/Noun', '비빔냉면/Noun', '비싸다/Adjective', '비싸다으/Adjective', '비싸서/Adjective', '비싸지만/Adjective', '비싼/Adjective', '비싼데/Adjective', '비싼만큼/Adjective', '비쌀/Adjective', '비쌈/Adjective', '비었던데/Verb', '비위생적/Noun', '비주/Noun', '비추/Verb', '비해/Verb', '빗룸/Noun', '빠져나가는/Verb', '빠지/Verb', '빠지는/Verb', '빨/Noun', '빨랐고/Adjective', '빨리/Adverb', '빵빵/Noun', '빼/Noun', '빼고는/Verb', '빼곤/Verb', '뺴/Noun', '뻔/Noun', '뻔한/Adjective', '뻔함/Adjective', '뻔햇/Noun', '뿌듯한/Adjective', '뿌려져/Verb', '사갔는데/Verb', '사건/Noun', '사과/Noun', '사는/Verb', '사람/Noun', '사리/Noun', '사먹었네요/Verb', '사먹을/Verb', '사세요/Verb', '사실/Noun', '사이드/Noun', '사장/Noun', '사준다/Verb', '사진/Noun', '사회/Noun', '삭함/Noun', '산/Noun', '살/Noun', '살면서/Verb', '살이/Noun', '살이었음/Verb', '살치/Verb', '살치실이랑/Verb', '살코기/Noun', '삼/Modifier', '삼/Noun', '삼겹/Noun', '삼겹살/Noun', '삼킬수가/Verb', '상/Suffix', '상관/Noun', '상권/Noun', '상당한데/Adjective', '상당히/Adjective', '상대/Noun', '상태/Noun', '상품권/Noun', '새로/Adjective', '새로오시는/Adjective', '샌드위치/Noun', '샐러드/Noun', '생/Noun', '생각/Noun', '생각났는데/Verb', '생겨서/Verb', '생겼습니다/Verb', '생신/Noun', '생활/Noun', '서/Josa', '서/Modifier', '서/Verb', '서고/Noun', '서는/Verb', '서비스/Noun', '서빙/Noun', '서서/Noun', '서야/Verb', '서있음/Verb', '서하/Noun', '석/Noun', '선/Noun', '선사/Noun', '선호/Noun', '설렁설렁/Adverb', '설명/Noun', '설사/Noun', '섭할/Adjective', '성/Modifier', '세/Modifier', '세게/Verb', '세번/Noun', '세상/Noun', '세트/Noun', '세팅/Noun', '셀프/Noun', '셀프서비스/Noun', '셋팅/Noun', '셧/Noun', '소/Modifier', '소고기/Noun', '소로/Noun', '소스/Noun', '소주/Noun', '손/Noun', '손놈/Noun', '손님/Noun', '손질/Noun', '솔직한가/Adjective', '솔직히/Adjective', '수/Modifier', '수/Noun', '수가/Noun', '수도/Noun', '수량/Noun', '수세미/Noun', '수저/Noun', '수정/Noun', '수준/Noun', '숙성/Noun', '숟가락/Noun', '술/Noun', '술술/Noun', '술안주/Noun', '술집/Noun', '술취해/Noun', '숯/Noun', '쉽습니다/Verb', '슈도/Noun', '스러웠/Adjective', '스킬/Noun', '스타일/Noun', '스티커/Noun', '스페셜/Noun', '슬픔/Noun', '습/Noun', '시/Noun', '시간/Noun', '시국/Noun', '시끄러/Adjective', '시끄러운것/Adjective', '시끄러워서/Adjective', '시끄럽다/Adjective', '시나/Noun', '시스템/Noun', '시원해서/Adjective', '시장/Noun', '시켜/Verb', '시켰는데/Verb', '시켰더니/Verb', '시켰으면/Verb', '시키는걸/Verb', '시키셔야/Verb', '시킨것도/Verb', '시킬/Verb', '식/Noun', '식/Suffix', '식감/Noun', '식당/Noun', '식사/Noun', '식탁/Noun', '신경/Noun', '신기하게도/Adjective', '신기하다/Adjective', '신년/Noun', '신뢰/Noun', '신분/Noun', '신선한/Adjective', '신선합니다/Adjective', '신촌/Noun', '실내/Noun', '실망/Noun', '실수/Noun', '실패할까봐/Adjective', '싫으시면/Adjective', '싫은건/Adjective', '심/Noun', '심정/Noun', '심하고/Adjective', '심하세요/Adjective', '심해서/Adjective', '십사/Noun', '싱싱한/Adjective', '싶어/Verb', '싶으면/Verb', '싶을/Verb', '싶지/Verb', '싸/VerbPrefix', '싸가지/Noun', '싸게/Verb', '싸고/Verb', '싸긴/Verb', '싸서/Verb', '싹/Noun', '싹싹/Noun', '싼/Verb', '싼값/Noun', '싼데/Verb', '써/Verb', '써줌/Verb', '썰어서/Verb', '썼더니/Verb', '썼으면/Verb', '쎄게/Adjective', '쎈/Adjective', '쏘/Verb', '쓰/Verb', '쓰고/Verb', '쓰는/Verb', '쓰는게/Verb', '쓰니/Verb', '쓰시는거/Verb', '쓰이긴/Verb', '쓱/Noun', '씀/Verb', '씨끄럽다/Noun', '씩/Suffix', '씹는/Verb', '씹다/Verb', '씹히는거/Verb', '씻는거/Verb', '씻은/Verb', '아/Exclamation', '아/Josa', '아까/Adjective', '아까운/Adjective', '아까웁니/Noun', '아깝습니다/Adjective', '아니/Adjective', '아니고/Adjective', '아니고요/Adjective', '아니기에/Adjective', '아니다/Adjective', '아니라/Adjective', '아니라면서/Adjective', '아니라서/Adjective', '아니면/Adjective', '아닌/Adjective', '아닌가요/Adjective', '아닌것/Adjective', '아닌데/Adjective', '아닌지/Adjective', '아님/Adjective', '아래/Noun', '아마도/Adverb', '아무/Noun', '아무런/Adjective', '아쉬운건/Adjective', '아쉬움/Noun', '아쉬워요/Adjective', '아쉬웠습니다/Adjective', '아쉬웠어요/Adjective', '아쉬웠지만/Adjective', '아쉽네요/Adjective', '아예/Noun', '아이스크림/Noun', '아주/Noun', '아주머니/Noun', '아팠습니다/Adjective', '아픔/Noun', '안/Noun', '안/VerbPrefix', '안가요/Verb', '안감/Noun', '안경/Noun', '안끼/Noun', '안나/Noun', '안내/Noun', '안되는/Adjective', '안된다고/Adjective', '안될/Adjective', '안배/Noun', '안성맞춤/Noun', '안심/Noun', '안좋네요/Adjective', '안좋습니다/Adjective', '안좋은/Adjective', '안주/Noun', '안주시/Noun', '안타/Noun', '안퍽퍽해/Noun', '안함/Noun', '앉아도/Verb', '앉으시길래/Verb', '않고/Verb', '않나/Verb', '않나요/Verb', '않냐/Verb', '않네여/Verb', '않네요/Verb', '않는/Verb', '않습니다/Verb', '않아요/Verb', '않았다/Verb', '않았으나/Verb', '않았지만/Verb', '않은/Verb', '않은데/Verb', '않을까요/Verb', '않을듯/Verb', '않음/Verb', '않지만/Verb', '알/Noun', '알겠는데/Verb', '알려/Verb', '알려주/Verb', '알맞은/Adjective', '알바/Noun', '알바생/Noun', '알았네요/Verb', '알았는데/Verb', '알았습니다/Verb', '알았음/Verb', '알차고/Adjective', '앞/Noun', '앞치마/Noun', '애인/Noun', '애찬/Noun', '액션/Noun', '앵/Adverb', '야간/Noun', '야채/Noun', '야함/Adjective', '약/Modifier', '약간/Noun', '약해/Adjective', '얇게/Adjective', '얇고/Adjective', '얇디/Adjective', '얇아요/Adjective', '얇은/Adjective', '얇음/Adjective', '얐/Noun', '양/Modifier', '양/Noun', '양념/Noun', '양대/Modifier', '양도/Noun', '양배추/Noun', '양식/Noun', '양재/Noun', '양파/Noun', '얘기/Noun', '어/Eomi', '어/Suffix', '어깨/Noun', '어느/Modifier', '어두움/Noun', '어둡다/Adjective', '어둡다는/Adjective', '어디/Noun', '어디서/Adverb', '어딜/Adverb', '어떻게/Adjective', '어려운데/Adjective', '어머니/Noun', '어수선함/Adjective', '어어/Noun', '어이/Noun', '어제/Noun', '어쩌구/Noun', '어쩌라고/Adverb', '어쩐지/Noun', '어쩔/Adverb', '어쩔/Modifier', '어찌/Noun', '어치/Noun', '어후/Noun', '어흥/Adverb', '언능/Adverb', '언제나/Adverb', '얼/Noun', '얼마나/Noun', '엄마/Noun', '엄청/Adverb', '업음/Verb', '없게/Adjective', '없고/Adjective', '없나요/Adjective', '없냐고/Adjective', '없네요/Adjective', '없는/Adjective', '없는건/Adjective', '없는데/Adjective', '없다/Adjective', '없다고/Adjective', '없다네요/Adjective', '없다하고/Adjective', '없던/Adjective', '없습니다/Adjective', '없어서/Adjective', '없어요/Adjective', '없었/Adjective', '없었는데/Adjective', '없었다/Adjective', '없었습니다/Adjective', '없었지만/Adjective', '없을/Adjective', '없음/Adjective', '없이/Adverb', '없잖아요/Adjective', '없지/Adjective', '엉망/Noun', '에/Josa', '에가/Josa', '에는/Josa', '에도/Josa', '에바/Noun', '에서/Josa', '에서는/Josa', '에서도/Josa', '에서의/Josa', '에어컨/Noun', '에요/Josa', '엔/Josa', '엥꼬나/Noun', '여/Josa', '여/Modifier', '여기/Noun', '여긴/Verb', '여름/Noun', '여자/Noun', '여쭤/Verb', '여친/Noun', '역/Noun', '역시/Noun', '연인/Noun', '열심히/Adverb', '였다/Verb', '였어여/Verb', '였어요/Verb', '였으나/Verb', '였음/Verb', '영수증/Noun', '영업/Noun', '옆/Noun', '옆팀/Noun', '예/Modifier', '예민하/Adjective', '예민하지/Adjective', '예쁜/Adjective', '예상/Noun', '예약/Noun', '예요/Josa', '예전/Noun', '오/Modifier', '오고싶은/Verb', '오고싶을/Verb', '오늘/Noun', '오늘이/Noun', '오랜/Modifier', '오랫/Modifier', '오르구/Verb', '오시/Noun', '오시길래/Verb', '오신/Noun', '오십분/Noun', '오자/Noun', '오지/Noun', '오프너/Noun', '오호/Exclamation', '온/Noun', '온도/Noun', '올랐어요/Verb', '올려/Verb', '올려진/Verb', '옮겨/Verb', '옷/Noun', '와/Josa', '와/Verb', '와사비/Noun', '와서/Verb', '와야겠네요/Verb', '와인/Noun', '완도/Noun', '완료/Noun', '완벽/Noun', '완벽한/Adjective', '완전/Noun', '왔는데/Verb', '왔다가/Verb', '왔습니다/Verb', '왔어요/Verb', '왔을/Verb', '왜/Noun', '왠만해/Adjective', '왠지/Adverb', '외/Noun', '외국인/Noun', '외식/Noun', '요/Josa', '요/Noun', '요기/Noun', '요새/Noun', '요즘/Noun', '욤/Noun', '욧/Noun', '용/Noun', '용하겠습니다/Adjective', '용할것/Adjective', '우동/Noun', '우리/Noun', '우십니다/Verb', '우울하네요/Adjective', '우유/Noun', '우지/Noun', '운동/Noun', '운영/Noun', '울/Modifier', '움/Noun', '웃음/Noun', '워/Noun', '원/Modifier', '원/Noun', '원래/Noun', '원인/Noun', '원해서/Adjective', '월일/Noun', '월초/Noun', '웨이/Noun', '웨이팅/Noun', '위/Noun', '위생/Noun', '위치/Noun', '유명해지기/Adjective', '유명해진만큼/Adjective', '유튜브/Noun', '육/Modifier', '육전/Noun', '육즙/Noun', '육회/Noun', '율도/Noun', '융숭/Noun', '으로/Josa', '으로만/Josa', '으로서/Josa', '으론/Josa', '은/Josa', '을/Josa', '음/Noun', '음료/Noun', '음식/Noun', '음식점/Noun', '응대/Noun', '의/Josa', '의미/Noun', '의아/Noun', '의외/Noun', '의자/Noun', '의향/Noun', '이/Determiner', '이/Josa', '이/Noun', '이/Suffix', '이고/Josa', '이글/Noun', '이나/Josa', '이냐/Josa', '이네/Josa', '이다/Josa', '이드/Noun', '이라/Josa', '이라고/Josa', '이라고는/Josa', '이라니/Josa', '이라도/Josa', '이라서/Josa', '이란/Josa', '이랑/Josa', '이랬으면/Adjective', '이러기/Verb', '이런/Adjective', '이런/Modifier', '이런거/Adjective', '이럴꺼면/Adjective', '이렇게/Adverb', '이름/Noun', '이만/Noun', '이면/Noun', '이쁘고/Adjective', '이상/Noun', '이서/Noun', '이어/Verb', '이어서/Josa', '이었/Verb', '이었고/Verb', '이었구/Verb', '이었는데/Verb', '이었어요/Verb', '이었음/Verb', '이에요/Josa', '이용/Noun', '이유/Noun', '이이이/Noun', '이자/Noun', '이제/Noun', '이지/Josa', '이지만/Josa', '이진/Noun', '이해/Noun', '이후/Noun', '익은거라고/Verb', '익은게/Verb', '인/Josa', '인/Suffix', '인가/Josa', '인간/Noun', '인거/Josa', '인걸/Josa', '인근/Noun', '인당/Verb', '인데/Josa', '인분/Noun', '인사/Noun', '인상/Noun', '인생/Noun', '인성/Noun', '인스타/Noun', '인원/Noun', '인이가도/Verb', '인정/Noun', '인지/Josa', '인지/Noun', '인터넷/Noun', '인테리어/Noun', '일/Noun', '일단/Noun', '일반/Noun', '일산/Noun', '일수/Noun', '일일이/Noun', '일품/Noun', '잃으면/Verb', '임/Noun', '임대료/Noun', '임데/Verb', '입/Noun', '입는/Verb', '입니다/Adjective', '입맛/Noun', '입사/Noun', '잇게/Verb', '있거나/Adjective', '있게/Adjective', '있냐고/Adjective', '있네/Adjective', '있네요/Adjective', '있는/Adjective', '있는건/Adjective', '있는데/Adjective', '있다/Adjective', '있다는/Adjective', '있다니/Adjective', '있더군요/Adjective', '있던데/Adjective', '있습니다/Adjective', '있어/Adjective', '있어서/Adjective', '있어요/Adjective', '있었나요/Adjective', '있었는데/Adjective', '있었음/Adjective', '있었지만/Adjective', '있으나/Adjective', '있으며/Adjective', '있으시던/Adjective', '있음/Adjective', '있지만/Adjective', '자극/Noun', '자꾸/Noun', '자랑/Noun', '자르는/Verb', '자리/Noun', '자시/Noun', '자주/Noun', '자체/Noun', '작고/Noun', '작은/Adjective', '잔/Noun', '잔뜩/Noun', '잘/Verb', '잘/VerbPrefix', '잘나오구요/Verb', '잘라/Verb', '잘라주/Verb', '잘못/Noun', '잡/Noun', '잡내/Verb', '잡내가/Verb', '잡아서/Verb', '잡아주는/Verb', '잡치게/Verb', '잡침/Noun', '장/Suffix', '장갑/Noun', '장난/Noun', '장모/Noun', '장모님/Noun', '장사/Noun', '장사치/Noun', '장소/Noun', '장어/Noun', '장인/Noun', '장인어른/Noun', '장점/Noun', '재/Noun', '재래/Noun', '재료/Noun', '저/Determiner', '저/Noun', '저녁/Noun', '저런/Noun', '저렇게/Adverb', '저렴하고/Adjective', '저렴하더라도/Adjective', '저렴하지/Adjective', '저렴하지만/Adjective', '저렴한/Adjective', '저렴한지/Adjective', '저렴해/Adjective', '저희/Modifier', '저희/Noun', '적/Suffix', '적게/Verb', '적고/Verb', '적극/Noun', '적네라고/Verb', '적다/Verb', '적당하고/Adjective', '적당하네요/Adjective', '적당한/Adjective', '적당했습니다/Adjective', '적어요/Verb', '적은/Verb', '적은거/Verb', '적음/Verb', '적절하게/Adjective', '전/Modifier', '전/Noun', '전반/Noun', '전부/Noun', '전체/Noun', '전혀/Noun', '전화/Noun', '절대/Noun', '절임/Noun', '점/Noun', '점도/Noun', '점심/Noun', '점심식사/Noun', '점점/Noun', '점주/Noun', '접시/Noun', '젓가락/Noun', '정갈하게/Adjective', '정갈하고/Adjective', '정갈합니다/Adjective', '정도/Noun', '정돈/Noun', '정말/Noun', '정신/Noun', '정원/Noun', '제/Modifier', '제/Noun', '제격/Noun', '제공/Noun', '제때/Noun', '제로/Noun', '제발/Noun', '제외/Noun', '제일/Noun', '제품/Noun', '조각/Noun', '조금/Noun', '조끼/Noun', '조리/Noun', '조명/Noun', '조용한/Adjective', '조작/Noun', '조차도/Josa', '존/Noun', '존맛/Noun', '존중/Noun', '좀/Noun', '좀비/Noun', '종로/Noun', '종업원/Noun', '종이컵/Noun', '종일/Noun', '좋/Adjective', '좋게/Adjective', '좋고/Adjective', '좋네요/Adjective', '좋다/Adjective', '좋다고는/Adjective', '좋더라고요/Adjective', '좋습니다/Adjective', '좋습니다만/Adjective', '좋아서/Adjective', '좋아요/Adjective', '좋아하는데/Adjective', '좋아하던/Adjective', '좋아하시는/Adjective', '좋아할/Adjective', '좋았고/Adjective', '좋았다/Adjective', '좋았습니다/Adjective', '좋았어요/Adjective', '좋았으면/Adjective', '좋았음/Adjective', '좋으십니다/Adjective', '좋은/Adjective', '좋은고/Adjective', '좋은데/Adjective', '좋을/Adjective', '좋음/Adjective', '좋지/Adjective', '죄송하다고/Adjective', '죠/Josa', '주/Modifier', '주/Noun', '주고/Verb', '주나요/Verb', '주는/Verb', '주는데/Verb', '주든가/Verb', '주말/Noun', '주문/Noun', '주방/Noun', '주셔서/Verb', '주전자/Noun', '주차장/Noun', '죽/Noun', '준/Noun', '준다면서/Verb', '준비/Noun', '줄/Noun', '줌/Noun', '중/Noun', '중/Suffix', '중단/Noun', '즐거운/Adjective', '즐겨찾기/Noun', '즐길/Verb', '즐비하고/Adjective', '지/Josa', '지/Modifier', '지고/Noun', '지금/Noun', '지금껏/Noun', '지난/Noun', '지도/Noun', '지려/Verb', '지만/Josa', '지불/Noun', '지역/Noun', '지오다노/Noun', '지우지/Verb', '지움/Verb', '지인/Noun', '지저분하고/Adjective', '지저분합니다/Adjective', '지점/Noun', '지켜봤는데/Verb', '지키시고/Verb', '지하/Noun', '직/Noun', '직원/Noun', '직장/Noun', '직접/Noun', '진심/Noun', '진짜/Noun', '질/Noun', '질겅질겅/Noun', '질겨/Noun', '질기/Verb', '질긴/Verb', '질도/Noun', '집/Noun', '집게/Noun', '집중/Noun', '짜/Verb', '짜요/Verb', '짜증/Noun', '짜증나/Adjective', '짜증나는건/Adjective', '짠/Verb', '짠단/Verb', '짱/Noun', '째/Suffix', '쩔어있고/Verb', '쪼금/Noun', '쪽/Noun', '쫀득/Noun', '쫄깃한데/Noun', '쯤/Suffix', '찌개/Noun', '찌게/Noun', '찍어/Verb', '찐/Verb', '차는/Verb', '차돌/Noun', '차돌박이/Noun', '차이/Noun', '차있어서/Verb', '착석/Noun', '착용/Noun', '착한/Adjective', '착함/Adjective', '찬/Noun', '참/Verb', '참고/Noun', '참여/Noun', '창/Noun', '창고/Noun', '창문/Noun', '창집/Noun', '찾기/Noun', '찾는다면/Verb', '찾다니/Verb', '찾아/Verb', '찾아갔는데/Verb', '찾아볼/Verb', '찾을/Verb', '채전/Verb', '채전은/Verb', '처럼/Josa', '처음/Noun', '천/Modifier', '천원/Noun', '철/Noun', '첨/Adverb', '첨/Noun', '첫/Modifier', '첫/Noun', '청결하고/Adjective', '청소/Noun', '체인/Noun', '체인점/Noun', '쳐다볼듯/Verb', '초심/Noun', '최고/Noun', '최근/Noun', '최대한/Noun', '최소/Noun', '최악/Noun', '쵝/Noun', '추가/Noun', '추억/Noun', '추천/Noun', '추해요/Adjective', '춘천/Noun', '충/Noun', '충격/Noun', '충분/Noun', '충분한/Adjective', '충분히/Adjective', '충전/Noun', '취하/Noun', '취향/Noun', '층집/Noun', '치고/Josa', '치즈/Noun', '치킨/Noun', '칙/Noun', '친구/Noun', '친절/Noun', '친절하/Adjective', '친절하게/Adjective', '친절하고/Adjective', '친절하다/Adjective', '친절하세요/Adjective', '친절하셔서/Adjective', '친절하셨습니다/Adjective', '친절하셨어요/Adjective', '친절하셨음/Adjective', '친절하시고/Adjective', '친절하시다/Adjective', '친절해서/Adjective', '친절해요/Adjective', '친절했어요/Adjective', '카운터/Noun', '캐/Noun', '커녕/Noun', '케찹/Noun', '코/Noun', '코로나/Noun', '코목살/Noun', '콜라/Noun', '콜키/Noun', '콩나물/Noun', '콩나물국/Noun', '퀄리티/Noun', '크/Verb', '크게/Noun', '크고/Verb', '큰/Verb', '클리어/Noun', '키/Noun', '타/Noun', '타고/Noun', '타이어/Noun', '탈/Noun', '탑/Noun', '탕/Noun', '태우고/Verb', '태우듯이/Verb', '태우시고/Verb', '탱/Adverb', '터지는/Verb', '터질거/Verb', '터짐/Verb', '턱/Noun', '턱스/Noun', '텅텅/Noun', '테러/Noun', '테이블/Noun', '토/Noun', '토요일/Noun', '통/Noun', '통통하고/Adjective', '통통하니/Adjective', '퇴근/Noun', '투뿔/Noun', '튀고/Verb', '튀기듯이/Verb', '튀긴/Verb', '튀김전이어서/Verb', '튀김전인지/Verb', '특/Noun', '특별하면/Adjective', '특별함은/Adjective', '특별했으면/Adjective', '특선/Noun', '특양/Noun', '특유/Noun', '특이한거/Adjective', '특히/Adverb', '틀어주고/Verb', '팀/Noun', '팁/Noun', '팅/Noun', '파/Noun', '파김치/Noun', '판이/Noun', '패딩/Noun', '팬/Noun', '퍽퍽/Noun', '퍽퍽함/Noun', '페이/Noun', '편/Noun', '편안하게/Adjective', '편하게/Adjective', '편하고/Adjective', '편했고/Adjective', '편했다/Adjective', '평가/Noun', '평범해요/Adjective', '평소/Noun', '평이/Noun', '평일/Noun', '평점/Noun', '평타/Noun', '포근했고/Adjective', '포슬포슬/Adverb', '포장마차/Noun', '폭격/Noun', '퐁퐁/Noun', '퐁퐁뿌리/Noun', '표정/Noun', '푸석푸석한/Adjective', '품격/Noun', '품절/Noun', '프라이/Noun', '프랜차이즈/Noun', '프렌차이즈/Noun', '프리/Noun', '프리미엄/Noun', '필요/Noun', '필요없어요/Adjective', '필요한거/Adjective', '필요합니다/Adjective', '하/Exclamation', '하/Suffix', '하게/Verb', '하겠다는/Verb', '하고/Josa', '하고/Verb', '하고는/Josa', '하기/Verb', '하기에/Verb', '하기에도/Verb', '하길래/Verb', '하나/Noun', '하나로/Noun', '하남/Noun', '하냐/Verb', '하네요/Verb', '하는/Verb', '하는거/Verb', '하는건/Verb', '하는게/Verb', '하는데/Verb', '하니/Noun', '하니/Verb', '하니까/Verb', '하다가/Verb', '하더라구요/Verb', '하던것처럼/Verb', '하러/Verb', '하려고/Verb', '하루/Noun', '하며/Verb', '하면/Verb', '하면서/Verb', '하세요/Verb', '하셔서/Verb', '하시나요/Verb', '하시는건/Verb', '하시는것/Verb', '하시려/Verb', '하신/Verb', '하신다/Verb', '하였습니다/Verb', '하이/Noun', '하자/Noun', '하지/Verb', '하지만/Conjunction', '하질/Verb', '하하/Noun', '학생/Noun', '한/Determiner', '한/Josa', '한/Modifier', '한/Verb', '한건데/Verb', '한꺼/Verb', '한다고/Verb', '한다네요/Verb', '한다는/Modifier', '한동안/Adverb', '한마디/Noun', '한번/Noun', '한우/Noun', '한정/Noun', '한참/Noun', '한해/Noun', '할/Verb', '할게요/Verb', '할께/Verb', '할께요/Verb', '할말은/Verb', '할수/Verb', '할수있나싶네요/Verb', '함/Noun', '함께/Adverb', '합/Noun', '합니다/Verb', '합니당/Verb', '핫/Noun', '항상/Noun', '항정/Noun', '항정살/Noun', '해/Verb', '해놓고/Verb', '해달라고/Verb', '해도/Noun', '해물탕/Noun', '해보니/Verb', '해서/Verb', '해야/Verb', '해야하고/Verb', '해야하는거/Verb', '해야하는지는/Verb', '해요/Verb', '해주고/Verb', '해주는/Verb', '해주더니/Verb', '해주던가/Verb', '해주셨고/Verb', '해주시/Noun', '해주시고/Verb', '해준거/Verb', '해줄/Verb', '해줌/Verb', '해줘야하는데/Verb', '해줬는데/Verb', '핵노맛/Noun', '핸드폰/Noun', '했/Verb', '했고/Verb', '했네요/Verb', '했는데/Verb', '했는데요/Verb', '했더니/Verb', '했습니다/Verb', '했어도/Verb', '했어요/Verb', '했으나/Verb', '했으므로/Verb', '했을/Verb', '했을까요/Verb', '했음/Verb', '했지만/Verb', '헌혈/Noun', '헛수/Noun', '헤맸는데/Verb', '헤으응/Noun', '헹주같은겅려/Noun', '협소/Noun', '호불호/Noun', '호일/Noun', '혹/Noun', '혹시/Noun', '혹은/Adverb', '홀/Noun', '홍보/Noun', '화가/Noun', '화난/Noun', '화로/Noun', '화장실/Noun', '확실히/Adjective', '환기/Noun', '활/Noun', '황소/Noun', '황제/Noun', '회/Noun', '회사/Noun', '회식/Noun', '회전/Noun', '후/Noun', '후기/Noun', '후론/Noun', '후식/Noun', '훈제/Noun', '훌륭하고/Adjective', '훌륭하다/Adjective', '훌륭한/Adjective', '훌륭한데/Adjective', '훌륭했고/Adjective', '훨씬/Adverb', '휴지/Noun', '흐물흐물/Noun', '흘리고/Verb', '흠/Noun', '흠잡을/Adjective', '흥/Noun', '흥흥/Noun', '흩/Verb', '힐끔/Noun', '힘든/Adjective', '힘든데/Adjective', '힘들더라구요/Adjective', '힘들어서/Adjective']\n"
     ]
    }
   ],
   "source": [
    "print(sorted(index_vectorizer.vocabulary_))"
   ]
  },
  {
   "cell_type": "code",
   "execution_count": 35,
   "metadata": {},
   "outputs": [
    {
     "name": "stdout",
     "output_type": "stream",
     "text": [
      "{'너무/Adverb': 411, '맛있어요/Adjective': 750, '녹는다/Verb': 430, '녹아/Verb': 431, '좋아요/Adjective': 1888, '흠잡을/Adjective': 2334, '곳/Noun': 178, '없는/Adjective': 1470, '반찬/Noun': 933, '이/Josa': 1640, '정갈합니다/Adjective': 1845, '코로나/Noun': 2075, '땜/Noun': 642, '에/Josa': 1492, '걱정/Noun': 131, '했는데/Verb': 2281, '방역/Noun': 945, '수/Modifier': 1199, '칙/Noun': 2053, '도/Josa': 544, '잘/Verb': 1769, '지키시고/Verb': 1953, '살치실이랑/Verb': 1132, '등심/Noun': 625, '부드러워서/Adjective': 1022, '좋아서/Adjective': 1887, '댓글/Noun': 527, '남깁니다/Verb': 383, '살치/Verb': 1131, '살/Noun': 1127, '미쳤네요/Adjective': 910, '대박/Noun': 515, '입니다/Adjective': 1727, '퀄리티/Noun': 2081, '굳이/Noun': 231, '에요/Josa': 1502, '최고/Noun': 2030, '외식/Noun': 1578, '하기에/Verb': 2179, '딱/Adverb': 631, '좋습니다/Adjective': 1885, '격/Noun': 145, '자체/Noun': 1764, '가/Josa': 17, '다른/Noun': 473, '음식/Noun': 1630, '의/Josa': 1633, '품격/Noun': 2160, '서비스/Noun': 1163, '마인드/Noun': 686, '뭐/Noun': 899, '하나/Noun': 2182, '정말/Noun': 1848, '멋진/Adjective': 830, '식당/Noun': 1247, '이네/Josa': 1647, '요/Noun': 1580, '자주/Noun': 1763, '이/Suffix': 1642, '용하겠습니다/Adjective': 1587, '한우/Noun': 2232, '살이/Noun': 1129, '아주/Noun': 1345, '그냥/Noun': 249, '입/Noun': 1725, '에서/Josa': 1497, '녹아요/Verb': 432, '한번/Noun': 2231, '왔는데/Verb': 1568, '또/Noun': 652, '오고싶은/Verb': 1535, '맛/Noun': 722, '예요/Josa': 1532, '요즘/Noun': 1583, '날/Noun': 379, '더운데/Adjective': 532, '헌혈/Noun': 2293, '도해/Noun': 549, '서/Josa': 1158, '소고기/Noun': 1189, '생각났는데/Verb': 1153, '하면/Verb': 2202, '블로그/Noun': 1066, '핫/Noun': 2248, '한/Josa': 2221, '남도/Noun': 385, '애찬/Noun': 1406, '떠오르더라구요/Verb': 644, '기대하고/Adjective': 292, '방문/Noun': 943, '역시/Noun': 1514, '기대한만큼/Adjective': 294, '고기/Noun': 159, '질/Noun': 1961, '은/Josa': 1626, '물론/Adverb': 892, '사장/Noun': 1121, '님/Suffix': 465, '친절하셔서/Adjective': 2061, '뿌듯한/Adjective': 1108, '하루/Noun': 2200, '됐네요/Verb': 562, '갈비/Noun': 69, '먹고싶을/Verb': 787, '땐/Noun': 641, '무조건/Noun': 874, '여/Modifier': 1506, '기와/Noun': 303, '먹어요/Verb': 801, 'ㅎㅎ/KoreanParticle': 14, '강남/Noun': 90, '회식/Noun': 2317, '장소/Noun': 1789, '로/Josa': 666, '제격/Noun': 1853, '깔끔한/Adjective': 321, '내부/Noun': 399, '냉면/Noun': 407, '일품/Noun': 1720, '가장/Noun': 50, '좋은/Adjective': 1900, '건/Noun': 132, '할/Verb': 2236, '때/Noun': 639, '누구/Noun': 444, '는/Josa': 454, '굽느라/Verb': 235, '정신/Noun': 1849, '없는데/Adjective': 1472, '구워주셔서/Verb': 214, '좋았습니다/Adjective': 1895, '가족/Noun': 56, '끼리/Noun': 346, '참/Verb': 1999, '괜찮은/Adjective': 190, '집/Noun': 1967, '이라고/Josa': 1651, '생각/Noun': 1152, '해요/Verb': 2263, '깔끔하게/Adjective': 319, '잘나오구요/Verb': 1771, '완전/Noun': 1567, '맛있음/Adjective': 760, '어제/Noun': 1448, '퇴근/Noun': 2111, '후/Noun': 2319, '직장/Noun': 1957, '동료/Noun': 558, '들/Suffix': 604, '과/Josa': 182, '간단하게/Adjective': 64, '먹었는데/Verb': 804, '맛있고/Adjective': 732, '직원/Noun': 1956, '분들/Suffix': 1039, '일단/Noun': 1715, '친절했어요/Adjective': 2069, '장/Suffix': 1782, '소로/Noun': 1190, '괜찮을것/Adjective': 191, '같네요/Adjective': 97, '앞/Noun': 1403, '으로/Josa': 1622, '용할것/Adjective': 1588, '같은/Adjective': 105, '느낌/Noun': 453, '이드/Noun': 1649, '네/Suffix': 423, '요/Josa': 1579, '맛있습니다/Adjective': 746, '부모님/Noun': 1025, '모시/Noun': 851, '고/Josa': 155, '토요일/Noun': 2107, '이라/Josa': 1650, '다녀왔는데/Verb': 469, '검색/Noun': 137, '해보니/Verb': 2257, '어쩐지/Noun': 1451, '양재/Noun': 1429, '봤더라/Verb': 1016, '강남역/Noun': 91, '에도/Josa': 1495, '있더군요/Adjective': 1742, '깔끔하고/Adjective': 320, '본점/Noun': 1008, '마찬가지/Noun': 688, '정갈하고/Adjective': 1844, '특히/Adverb': 2126, '장어/Noun': 1790, '랑/Josa': 662, '괜찮았습니다/Adjective': 188, '회사/Noun': 2316, '나/Josa': 347, '거래처/Noun': 123, '식사/Noun': 1248, '잡/Noun': 1775, '을/Josa': 1627, '이/Determiner': 1639, '쪽/Noun': 1981, '와야겠네요/Verb': 1561, '개인/Noun': 114, '적/Suffix': 1811, '만족/Noun': 700, '광양/Noun': 184, '불고기/Noun': 1042, '직접/Noun': 1958, '구워줘서/Verb': 218, '편했고/Adjective': 2143, '맛있게/Adjective': 731, '먹었습니다/Verb': 807, '훌륭하고/Adjective': 2324, '비빔냉면/Noun': 1077, '먹어/Verb': 797, '본/Verb': 1006, '중/Noun': 1927, '제일/Noun': 1859, '맛있었습니다/Adjective': 755, '친절/Noun': 2055, '까지/Josa': 313, '같이/Adverb': 109, '먹을수/Verb': 823, '있어서/Adjective': 1746, '오늘/Noun': 1537, '여친/Noun': 1512, '너무나/Adverb': 412, '기분/Noun': 301, '데이트/Noun': 543, '하고/Josa': 2175, '가네요/Verb': 28, '대박나세용/Verb': 516, '상권/Noun': 1141, '귀하게/Adjective': 242, '넓은/Adjective': 414, '주차장/Noun': 1920, '있으며/Adjective': 1753, '분위기/Noun': 1040, '고급/Noun': 158, '지고/Noun': 1936, '거기/Noun': 122, '다/Josa': 467, '높은/Adjective': 439, '이만/Noun': 1666, '고깃집/Noun': 161, '없을/Adjective': 1486, '듯/Noun': 623, '아니/Adjective': 1317, '몇/Modifier': 838, '만/Modifier': 694, '원/Modifier': 1601, '어치/Noun': 1455, '를/Josa': 671, '먹는데/Verb': 792, '계속/Noun': 153, '안/VerbPrefix': 1350, '구워주고/Verb': 209, '벨/Noun': 970, '눌러도/Verb': 448, '묵묵/Noun': 878, '부답/Adjective': 1020, '진짜/Noun': 1960, '비/Noun': 1067, '싼값/Noun': 1285, '내고/Verb': 396, '짜증나/Adjective': 1973, '죽/Noun': 1921, '뻔함/Adjective': 1106, '월초/Noun': 1607, '당일/Noun': 505, '전화/Noun': 1832, '예약/Noun': 1531, '주/Modifier': 1908, '메뉴/Noun': 831, '개/Noun': 110, '있는/Adjective': 1736, '안심/Noun': 1362, '없다/Adjective': 1473, '함/Noun': 2243, '착석/Noun': 1994, '전/Noun': 1827, '카운터/Noun': 2070, '알려/Verb': 1393, '주든가/Verb': 1914, '마늘/Noun': 675, '다/Adverb': 466, '타/Noun': 2088, '들어가서/Verb': 611, '불렀더니/Verb': 1044, '멀뚱거리/Noun': 829, '며/Josa': 834, '어쩌라고/Adverb': 1450, '하는/Verb': 2187, '표정/Noun': 2158, '서있음/Verb': 1167, '테이블/Noun': 2105, '수/Noun': 1200, '대비/Noun': 517, '인원/Noun': 1707, '많이/Adverb': 714, '부족해/Adjective': 1030, '보임/Noun': 997, '가격/Noun': 20, '실수/Noun': 1261, '응대/Noun': 1632, '별로/Noun': 974, '왠지/Adverb': 1575, '모르지만/Verb': 850, '기복/Noun': 299, '있어요/Adjective': 1747, '그리고/Conjunction': 272, '나갈/Verb': 353, '쯤/Suffix': 1984, '이면/Noun': 1667, '거의/Noun': 126, '훈제/Noun': 2323, '인간/Noun': 1695, '됨/Verb': 574, '호불호/Noun': 2299, '확실히/Adjective': 2310, '갈릴/Noun': 67, '거/Noun': 121, '같아요/Adjective': 101, '보통/Noun': 998, '이에요/Josa': 1679, '후식/Noun': 2322, '있었나요/Adjective': 1748, '못/VerbPrefix': 861, '먹음/Verb': 825, '디너/Noun': 626, '창고/Noun': 2003, '스페셜/Noun': 1222, '고/Modifier': 156, '기질/Noun': 306, '좋고/Adjective': 1880, '구워/Verb': 206, '줌/Noun': 1926, '비싼/Adjective': 1082, '편/Noun': 2139, '인당/Verb': 1699, '만/Noun': 695, '지불/Noun': 1943, '친절하셨어요/Adjective': 2063, '구워주시고/Verb': 216, '없게/Adjective': 1465, '먹는/Verb': 790, '이란/Josa': 1656, '받았습니다/Verb': 936, '상태/Noun': 1145, '좋은데/Adjective': 1902, '구워주시는/Verb': 217, '분/Noun': 1037, '따라/Verb': 628, '평가/Noun': 2145, '것/Noun': 140, '어찌/Noun': 1454, '난/Josa': 377, '없나요/Adjective': 1467, '냄새/Noun': 402, '나고/Verb': 354, '푸석푸석한/Adjective': 2159, '깍두기/Noun': 317, '아/Exclamation': 1311, '삭함/Noun': 1125, '전혀/Noun': 1831, '없고/Adjective': 1466, '누룽지/Noun': 446, '식감/Noun': 1246, '나온/Verb': 369, '고사리/Noun': 166, '조차도/Josa': 1868, '도대체/Noun': 546, '뭘/Noun': 902, '먹으라는/Verb': 811, '건지/Verb': 134, '초심/Noun': 2029, '잃으면/Verb': 1721, '망해요/Adjective': 762, '팬/Noun': 2135, '무쇠/Noun': 868, '인거/Josa': 1696, '같은데/Adjective': 107, '굽네요/Verb': 233, '점심식사/Noun': 1838, '외/Noun': 1576, '에는/Josa': 1494, '비추/Verb': 1090, '돈/Noun': 550, '아깝습니다/Adjective': 1316, '좋네요/Adjective': 1881, '점/Noun': 1835, '맛있다/Adjective': 741, '친절하다/Adjective': 2059, '안/Noun': 1349, '공기/Noun': 180, '매/Modifier': 768, '캐/Noun': 2071, '하/Suffix': 2172, '환기/Noun': 2311, '목/Noun': 855, '아픔/Noun': 1348, '어둡다/Adjective': 1437, '지하/Noun': 1954, '인데/Josa': 1700, '창문/Noun': 2004, '조명/Noun': 1865, '어두움/Noun': 1436, '다닥다닥/Adverb': 470, '붙어/Verb': 1062, '씨끄럽다/Noun': 1304, '비싼만큼/Adjective': 1084, '비싸다/Adjective': 1078, '결론/Noun': 147, '다신/Verb': 479, '안감/Noun': 1352, '삼/Modifier': 1134, '성/Modifier': 1177, '훨씬/Adverb': 2329, '낫다/Noun': 389, '명/Noun': 837, '이서/Noun': 1670, '만원/Noun': 699, '이나/Josa': 1645, '자리/Noun': 1761, '구석/Noun': 202, '탱/Adverb': 2097, '주고/Verb': 1910, '서빙/Noun': 1164, '엉망/Noun': 1491, '이고/Josa': 1643, '별루/Noun': 975, '석/Noun': 1169, '텅텅/Noun': 2103, '비었던데/Verb': 1087, '저/Noun': 1798, '왜/Noun': 1573, '그렇게/Adverb': 270, '주나요/Verb': 1911, '별/Modifier': 972, '루/Noun': 668, '였어요/Verb': 1519, '편하게/Adjective': 2141, '있음/Adjective': 1755, '맛남/Noun': 723, '언제나/Adverb': 1459, '조금/Noun': 1862, '어둡다는/Adjective': 1438, '단점/Noun': 490, '빼고는/Verb': 1101, '좋음/Adjective': 1904, '어머니/Noun': 1444, '생신/Noun': 1156, '전반/Noun': 1828, '좋았고/Adjective': 1893, '육회/Noun': 1619, '굿/Noun': 237, '비싸지만/Adjective': 1081, '면/Noun': 836, '에서는/Josa': 1498, '일산/Noun': 1717, '보다는/Josa': 985, '훌륭한데/Adjective': 2327, '더/Noun': 529, '좋았음/Adjective': 1898, '내/Noun': 395, '만든게/Verb': 696, '개도/Noun': 113, '아까운/Adjective': 1314, '인생/Noun': 1704, '최악/Noun': 2034, '닭갈비/Noun': 497, '남이섬/Noun': 387, '먹은/Verb': 817, '장사치/Noun': 1788, '지금껏/Noun': 1938, '이었/Verb': 1673, 'ㄴ/KoreanParticle': 0, '는데/Eomi': 455, '여기/Noun': 1507, '갱신/Noun': 118, '했네요/Verb': 2280, '달/Noun': 492, '짜/Verb': 1970, '기만/Noun': 298, '소스/Noun': 1191, '사리/Noun': 1115, '추가/Noun': 2036, '닭/Noun': 496, '양배추/Noun': 1427, '몇개/Noun': 840, '볶음밥/Noun': 1004, '달기/Noun': 493, '만/Josa': 693, '하고/Verb': 2176, '꾸역꾸역/Adverb': 341, '한/Verb': 2223, '먹고/Verb': 779, '싹/Noun': 1282, '버리고/Verb': 965, '나와서/Verb': 371, '샌드위치/Noun': 1149, '사먹었네요/Verb': 1116, '맛있는/Adjective': 737, '알/Noun': 1391, '기대도/Verb': 291, '맛있는데/Adjective': 740, '재료/Noun': 1796, '안좋은/Adjective': 1365, '조리/Noun': 1864, '잘못/Noun': 1774, '하신/Verb': 2210, '없네요/Adjective': 1469, '이/Noun': 1641, '게/Josa': 141, '인분/Noun': 1701, '한/Determiner': 2220, '조각/Noun': 1861, '운동/Noun': 1595, 'ㅋ/KoreanParticle': 8, '신기하게도/Adjective': 1251, '알바/Noun': 1396, '전부/Noun': 1829, '불친절합니다/Adjective': 1055, 'ㅋㅋ/KoreanParticle': 9, '일/Noun': 1714, '하기/Verb': 2178, '싫은건/Adjective': 1264, '알겠는데/Verb': 1392, '손님/Noun': 1195, '잡치게/Verb': 1780, '필요/Noun': 2167, '없잖아요/Adjective': 1489, '오늘이/Noun': 1538, '첨/Adverb': 2020, '이자/Noun': 1683, '마지막/Noun': 687, 'ㅂㅂ/KoreanParticle': 3, '배탈/Noun': 956, '났습니다/Verb': 391, '배/Noun': 948, '안좋네요/Adjective': 1363, '프렌차이즈/Noun': 2164, '약간/Noun': 1413, '있지만/Adjective': 1756, '정도/Noun': 1846, '아니고/Adjective': 1318, '해서/Verb': 2258, '전체/Noun': 1830, '지난/Noun': 1939, '뒤/Noun': 589, '인/Josa': 1692, '지금/Noun': 1937, '배아/Noun': 954, '파/Noun': 2131, '혹/Noun': 2301, '시나/Noun': 1232, '들어와/Verb': 617, '봤더니/Verb': 1015, '그러시네요/Adjective': 261, '에바/Noun': 1496, '쓰는/Verb': 1297, '같은게/Adjective': 106, '시간/Noun': 1226, '부터/Josa': 1034, '종일/Noun': 1877, '설사/Noun': 1175, '했어요/Verb': 2286, '밑/Noun': 918, '리뷰/Noun': 672, '보/Noun': 977, '니까/Josa': 463, '사람/Noun': 1114, '있던데/Adjective': 1743, '그런게/Adjective': 265, '아니라/Adjective': 1322, '원래/Noun': 1603, '그런/Adjective': 262, '같으니/Adjective': 103, '가급적/Adverb': 23, '가지/Noun': 57, '마세요/Verb': 678, '보다/Josa': 983, '불친절/Noun': 1051, '기본/Noun': 300, '비위생적/Noun': 1088, '임/Noun': 1722, '춘천/Noun': 2040, '맛있단/Adjective': 743, '말/Noun': 717, '그/Determiner': 243, '정돈/Noun': 1847, '아니고요/Adjective': 1319, '동네/Noun': 557, '가성/Noun': 42, '있게/Adjective': 1732, '먹을만/Verb': 821, '합니당/Verb': 2247, '갈/Verb': 66, '마다/Josa': 676, '존맛/Noun': 1870, '배불러요/Adjective': 951, '헤으응/Noun': 2296, '평타/Noun': 2151, '빨리/Adverb': 1098, '먹기/Noun': 789, '나오기/Verb': 365, '치즈/Noun': 2051, '넣어서/Verb': 421, '먹으면/Verb': 814, '괜찮네요/Adjective': 185, '좋아하던/Adjective': 1890, '떨어졌네요/Verb': 648, '나서/Verb': 363, '아팠습니다/Adjective': 1347, '갔던/Verb': 87, '친구/Noun': 2054, '복통/Noun': 1001, '엄청/Adverb': 1463, '고생/Noun': 167, '새로오시는/Adjective': 1148, '가까히/Adjective': 26, '앉으시길래/Verb': 1372, '거리/Noun': 124, '두기/Noun': 579, '해달라고/Verb': 2254, '부탁/Noun': 1033, '했더니/Verb': 2283, '알바생/Noun': 1397, '저희/Noun': 1810, '그런거/Adjective': 263, '한다네요/Verb': 2227, '넘어가는데/Verb': 418, '하는게/Verb': 2190, '좋지/Adjective': 1905, '않을까요/Verb': 1387, '실망/Noun': 1260, '예전/Noun': 1533, '봐서/Verb': 1012, '키/Noun': 2087, '큰/Verb': 2085, '겁나/Verb': 139, '양/Noun': 1423, '걍/Adverb': 119, '제/Modifier': 1851, '육/Modifier': 1616, '볶음/Noun': 1003, '이었음/Verb': 1678, '양도/Noun': 1426, '너/Modifier': 410, '무적/Noun': 872, '어/Suffix': 1433, '주문/Noun': 1916, '잘/VerbPrefix': 1770, '들어간/Verb': 613, '건가/Noun': 133, '했을/Verb': 2289, '깨끗하고/Adjective': 329, '위치/Noun': 1612, '좋/Adjective': 1878, '긴한데/Verb': 308, '적고/Verb': 1813, '그닥또/Noun': 252, '가진/Verb': 58, '않을듯/Verb': 1388, '그나마/Adverb': 248, '맛있어서/Adjective': 748, '봐/Verb': 1011, '밋있어/Noun': 916, '같고/Adjective': 95, '넘흐/Noun': 420, '복작복작/Adverb': 1000, '두/Determiner': 576, '기도/Noun': 295, '있었음/Adjective': 1750, '아까/Adjective': 1313, '움/Noun': 1598, '엔/Josa': 1503, '반/Noun': 932, '야채/Noun': 1410, '지/Modifier': 1935, '이이이/Noun': 1682, '적어요/Verb': 1821, '맛잇으느/Noun': 729, '비싸다으/Adjective': 1079, '오호/Exclamation': 1549, '친절하고/Adjective': 2058, '맛있었어요/Adjective': 756, '잇게/Verb': 1730, '근데/Adverb': 277, '비싼데/Adjective': 1083, '없어요/Adjective': 1480, '드세요/Verb': 598, 'ㅈㅁㅌㅌㄱㄹ/KoreanParticle': 7, '비는/Verb': 1072, '않아요/Verb': 1381, '매우/Noun': 770, '비쌈/Adjective': 1086, '제/Noun': 1852, '크게/Noun': 2083, '선호/Noun': 1172, '하지/Verb': 2215, '않는/Verb': 1379, '여긴/Verb': 1508, '데려간/Verb': 542, '지인/Noun': 1948, '만족했어요/Adjective': 704, '삼겹/Noun': 1136, '목살/Noun': 856, '항정살/Noun': 2251, '세/Modifier': 1178, '본/Modifier': 1005, '중/Suffix': 1928, '갠/Noun': 117, '으론/Josa': 1625, '손/Noun': 1193, '꼽힘/Verb': 338, '그러나/Conjunction': 260, '두번째/Noun': 583, '까진/Josa': 316, '이렇게/Adverb': 1664, '부위/Noun': 1029, '얐/Noun': 1421, '구나/Noun': 199, '감탄/Noun': 79, '세번/Noun': 1180, '째/Suffix': 1978, '먹으면서/Verb': 815, '몇번/Noun': 841, '씹히는거/Verb': 1308, '뱉어내고/Verb': 962, '먹었음/Verb': 810, '질겨/Noun': 1963, '그때/Noun': 253, '여름/Noun': 1509, '어쩌구/Noun': 1449, '얘기/Noun': 1431, '해줬는데/Verb': 2275, '굽는/Verb': 236, '스킬/Noun': 1219, '다른거/Adjective': 474, '기/Modifier': 284, '손질/Noun': 1196, '좀/Noun': 1872, '된것/Verb': 569, '같았음/Adjective': 102, '있는데/Adjective': 1738, '스러웠/Adjective': 1218, '후론/Noun': 2321, '실패할까봐/Adjective': 1262, '가는/Verb': 29, '아쉽네요/Adjective': 1342, '깜놀/Noun': 325, '육즙/Noun': 1618, '미침/Adjective': 912, '친절하시고/Adjective': 2065, '감사합니다/Verb': 74, '먹고가요/Verb': 780, '다르게/Adjective': 471, '불친절하네요/Adjective': 1053, '물어보면/Verb': 895, '귀찮다는/Adjective': 241, '심하세요/Adjective': 1268, '삼겹살/Noun': 1137, '육전/Noun': 1617, '필요없어요/Adjective': 2168, '운영/Noun': 1596, '좋으십니다/Adjective': 1899, '올랐어요/Verb': 1552, '나/Noun': 348, '찾아/Verb': 2009, '떠난다/Verb': 643, '오랜/Modifier': 1539, '웨이/Noun': 1608, '팅/Noun': 2130, '해야하는지는/Verb': 2262, '굳/Adjective': 230, '많아서/Adjective': 710, '노/Noun': 427, '아쉬워요/Adjective': 1338, '그닥/Noun': 251, '넘/Verb': 415, '싸가지/Noun': 1277, '없음/Adjective': 1487, '들/Verb': 605, '가시길/Verb': 46, '점도/Noun': 1836, '그램/Noun': 257, '원/Noun': 1602, '각/Noun': 59, '씩/Suffix': 1305, '하려고/Verb': 2199, '했으나/Verb': 2287, '첫/Noun': 2023, '최소/Noun': 2033, '해야/Verb': 2259, '한다고/Verb': 2226, '이라도/Josa': 1654, '특별하면/Adjective': 2119, '몰라/Verb': 857, '하남/Noun': 2184, '돼지/Noun': 560, '수준/Noun': 1207, '매장/Noun': 771, '시끄러/Adjective': 1228, '도/Noun': 545, '떼기/Verb': 650, '시장/Noun': 1235, 'ㅇㅇ/KoreanParticle': 5, '바빠서/Adjective': 925, '런가/Noun': 664, '짜증/Noun': 1972, '베이스/Noun': 969, '깔려있음/Verb': 324, '넓고/Adjective': 413, '밴다는/Verb': 959, '장점/Noun': 1793, '특별함은/Adjective': 2120, '있으나/Adjective': 1752, '비싸서/Adjective': 1080, '놀랐던/Verb': 436, '기억/Noun': 302, '나쁘진/Adjective': 362, '않은데/Verb': 1386, '훌륭한/Adjective': 2326, '아니다/Adjective': 1321, '요기/Noun': 1581, '같으면/Adjective': 104, '땅코/Noun': 638, '간다/Noun': 63, '위생/Noun': 1611, '샐러드/Noun': 1150, '철/Noun': 2019, '수세미/Noun': 1204, '나왔는데/Verb': 373, '인지/Josa': 1710, '미안하/Adjective': 908, '단말/Noun': 489, '한마디/Noun': 2230, '바꿔/Verb': 922, '드릴/Noun': 596, '까요/Verb': 312, '바꿔주는건/Verb': 923, '당연하고/Adjective': 503, '사과/Noun': 1112, '해야하는거/Verb': 2261, '아닌가요/Adjective': 1327, '구워주러/Verb': 213, '오신/Noun': 1544, '남자/Noun': 388, '분/Suffix': 1038, '대충대충/Adverb': 523, '싫으시면/Adjective': 1263, '바라는게/Verb': 924, '불편함을/Adjective': 1060, '느낄/Verb': 452, '점주/Noun': 1840, '인걸/Josa': 1697, '이글/Noun': 1644, '지우지/Verb': 1946, '마시고/Verb': 682, '제발/Noun': 1857, '문제/Noun': 883, '태우시고/Verb': 2096, '얇게/Adjective': 1415, '썰어서/Verb': 1289, '교육/Noun': 196, '필요합니다/Adjective': 2170, '편하고/Adjective': 2142, '안배/Noun': 1360, '다만/Noun': 475, '어수선함/Adjective': 1445, '쏘/Verb': 1294, '적은거/Verb': 1823, '같긔/Noun': 96, '숙성/Noun': 1208, '옷/Noun': 1556, '안나/Noun': 1355, '땀안/Verb': 636, '흘리고/Verb': 2332, '왔어요/Verb': 1571, '깔끔해서/Adjective': 322, '무례한/Adjective': 864, '단체/Noun': 491, '손놈/Noun': 1194, '능력/Noun': 458, '매니저/Noun': 769, '계란찜/Noun': 151, '꼭/Noun': 337, '먹으세요/Verb': 816, '이랑/Josa': 1657, '부드럽고/Adjective': 1023, '맛있네요/Adjective': 736, '먹었어요/Verb': 808, '아쉬웠어요/Adjective': 1340, '맛있는네/Adjective': 739, '폭격/Noun': 2155, '질도/Noun': 1966, '시끄러워서/Adjective': 1230, '아쉬움/Noun': 1337, '좋게/Adjective': 1879, '굽네치킨/Noun': 234, '싸게/Verb': 1278, '나쁘게/Adjective': 360, '예상/Noun': 1530, '뻔한/Adjective': 1105, '음료/Noun': 1629, '무료/Noun': 865, '이런/Adjective': 1660, '찾다니/Verb': 2008, '회전/Noun': 2318, '율도/Noun': 1620, '빨/Noun': 1096, '라서/Josa': 661, '신선합니다/Adjective': 1257, '술/Noun': 1210, '무제한/Noun': 873, '지려/Verb': 1941, '다양/Noun': 480, '무한리필/Noun': 877, '월일/Noun': 1606, '했는데요/Verb': 2282, '혹시/Noun': 2302, '저희/Modifier': 1809, '탈/Noun': 2091, '먹고다음/Verb': 785, '났는지/Verb': 390, '궁금하네요/Adjective': 240, '남겨주세요/Verb': 382, '갑/Noun': 80, '소주/Noun': 1192, '맥주/Noun': 772, '무한/Noun': 876, '천원/Noun': 2018, '쵝/Noun': 2035, 'ㅎ/KoreanParticle': 13, '종업원/Noun': 1875, '청결하고/Adjective': 2024, '갓/Noun': 83, '튀긴/Verb': 2115, '치킨/Noun': 2052, '비갑/Noun': 1068, '싸고/Verb': 1279, '잔/Noun': 1767, '덤/Noun': 538, '모든/Noun': 844, '완벽/Noun': 1565, '어흥/Adverb': 1457, '흥흥/Noun': 2336, '흥/Noun': 2335, '팁/Noun': 2129, '소/Modifier': 1188, '금구/Noun': 281, '불로/Noun': 1045, '굽/Noun': 232, '양념/Noun': 1424, '불/Noun': 1041, '내려서/Verb': 398, '구으세요/Verb': 222, '굿굿굿/Noun': 239, '이지만/Josa': 1686, '괜찮음/Adjective': 193, '저렴하지만/Adjective': 1805, '저렴하지/Adjective': 1804, '않았다/Verb': 1382, '막국수/Noun': 691, '맛있었고/Adjective': 752, '배부르게/Adjective': 950, '가게/Noun': 19, '친절하셨습니다/Adjective': 2062, '짱/Noun': 1977, '걍개마싯윰/Noun': 120, 'ㄹㅇ/KoreanParticle': 2, '좀비/Noun': 1873, '싸긴/Verb': 1280, 'ㅋㅋㅋ/KoreanParticle': 10, '된장/Noun': 571, '밥/Noun': 940, '비빔국수/Noun': 1076, '유명해지기/Adjective': 1613, '부터/Noun': 1035, '갔는데/Verb': 84, '하/Exclamation': 2171, '맛집/Noun': 761, '되/Verb': 563, '버려서/Verb': 964, '줄/Noun': 1925, '서야/Verb': 1166, '우울하네요/Adjective': 1592, '콜키/Noun': 2078, '지/Josa': 1934, '프리/Noun': 2165, '베리/Noun': 968, '코목살/Noun': 2076, '퍽퍽/Noun': 2136, '했고/Verb': 2279, '이름/Noun': 1665, '값/Noun': 82, '먹자마자/Verb': 826, '오지/Noun': 1547, '개존맛/Noun': 115, '된/Adjective': 568, '일반/Noun': 1716, '체인점/Noun': 2027, '하고는/Josa': 2177, '차이/Noun': 1992, '있네요/Adjective': 1735, '그런건/Adjective': 264, '이해/Noun': 1688, '되는데/Verb': 565, '먹으러/Verb': 812, '갔다가/Verb': 86, '잡침/Noun': 1781, '저렴한/Adjective': 1806, '아닌/Adjective': 1326, '저렇게/Adverb': 1801, '저렴한지/Adjective': 1807, '모르겠음/Verb': 848, '처음/Noun': 2016, '있냐고/Adjective': 1733, '물어봤는데/Verb': 896, '네/Noun': 422, '물으면/Verb': 898, '몇/Noun': 839, '팀/Noun': 2128, '혹은/Adverb': 2303, '얼마나/Noun': 1461, '기다려야하는지/Verb': 288, '해줘야하는데/Verb': 2274, '라니/Josa': 658, '딱히/Adjective': 634, '먹을만한/Verb': 822, '없어서/Adjective': 1479, '화가/Noun': 2306, '처럼/Josa': 2015, '돌아다면서/Verb': 553, '고/Noun': 157, '돼지고기/Noun': 561, '늘/Noun': 457, '웨이팅/Noun': 1609, '있습니다/Adjective': 1744, '별/Noun': 973, '아까웁니/Noun': 1315, '점심/Noun': 1837, '불친절함/Adjective': 1054, '느끼고/Verb': 449, '싶으면/Verb': 1273, '가세/Noun': 43, '들어왔는데/Verb': 618, '안내/Noun': 1356, '커녕/Noun': 2072, '인사/Noun': 1702, '셋팅/Noun': 1186, '우리/Noun': 1590, '늦게/Verb': 459, '온/Noun': 1550, '해주고/Verb': 2264, '바쁜/Adjective': 927, '같아/Adjective': 100, '올려진/Verb': 1554, '물수건/Noun': 893, '가져다가/Verb': 54, '썼더니/Verb': 1290, '그거/Noun': 245, '아니라면서/Adjective': 1323, '옆팀/Noun': 1525, '보는/Verb': 981, '던지시더라구요/Verb': 536, '몰랐다고/Verb': 859, '죄송하다고/Adjective': 1906, '놀랬으면/Adjective': 437, '대화/Noun': 526, '중단/Noun': 1929, '했을까요/Verb': 2290, '맛있긴한데/Adjective': 735, '협소/Noun': 2298, '흠/Noun': 2333, '비해/Verb': 1091, '평범해요/Adjective': 2146, '라고/Josa': 656, '와인/Noun': 1562, '사갔는데/Verb': 1110, '오프너/Noun': 1548, '제공/Noun': 1854, '하더라구요/Verb': 2196, '음식점/Noun': 1631, '이런/Modifier': 1661, '경우/Noun': 149, '당황/Noun': 509, '했지만/Verb': 2292, '불판앞/Noun': 1059, '따먹었습니다/Verb': 629, 'ㅋㅋㅋㅋ/KoreanParticle': 11, '민망했어요/Adjective': 913, '하하/Noun': 2218, '맛있/Adjective': 730, '다기/Noun': 468, '두꺼운/Adjective': 580, '맛있다는/Adjective': 742, '인상/Noun': 1703, '강했고/Adjective': 94, '하자/Noun': 2214, '면/Josa': 835, '껍데기/Noun': 333, '특별했으면/Adjective': 2121, '걸/Noun': 135, '충분/Noun': 2043, '임대료/Noun': 1723, '때문/Noun': 640, '미식/Noun': 906, '불모/Noun': 1048, '훌륭하다/Adjective': 2325, '추천/Noun': 2038, '먹을거면/Verb': 820, '말고/Josa': 718, '먹고싶었으나/Verb': 786, '늦은/Verb': 460, '품절/Noun': 2161, '부근/Noun': 1018, '찾기/Noun': 2006, '힘들어서/Adjective': 2342, '않았지만/Verb': 1384, '부실하고/Adjective': 1028, '구워주는것도/Verb': 211, '설렁설렁/Adverb': 1173, '프리미엄/Noun': 2166, '많기/Adjective': 708, '재/Noun': 1794, '먹음/Noun': 824, '안되는/Adjective': 1357, '찐/Verb': 1988, '인정/Noun': 1709, '맞게/Verb': 763, '터지는/Verb': 2098, '길었지만/Adjective': 309, '충분히/Adjective': 2045, '한/Modifier': 2222, '이었어요/Verb': 1677, '지저분합니다/Adjective': 1950, '인터넷/Noun': 1712, '찾아갔는데/Verb': 2010, '한정/Noun': 2233, '왔습니다/Verb': 1570, '주방/Noun': 1917, '에서의/Josa': 1500, '있었지만/Adjective': 1751, '그걸/Adverb': 246, '극복/Noun': 275, '하네요/Verb': 2186, '지역/Noun': 1944, '지오다노/Noun': 1945, '뒷골목/Noun': 592, '프랜차이즈/Noun': 2163, '즐비하고/Adjective': 1933, '먹을/Verb': 819, '없었는데/Adjective': 1482, '생겼습니다/Verb': 1155, '상당한데/Adjective': 1142, '구워주니까/Verb': 212, '더욱/Noun': 531, '마음/Noun': 685, '들었습니다/Verb': 619, '한해/Noun': 2235, '곁들여/Verb': 150, '좋아하시는/Adjective': 1891, '참고/Noun': 2000, '하세요/Verb': 2204, '저렴해/Adjective': 1808, '보이/Noun': 993, '지만/Josa': 1942, '먹다/Verb': 794, '보면/Verb': 987, '먹어서/Verb': 799, '계산/Noun': 152, '금액/Noun': 282, '이다/Josa': 1648, '하지만/Conjunction': 2216, '어디서/Adverb': 1440, '먹더라도/Verb': 796, '비쌀/Adjective': 1085, '항정/Noun': 2250, '수량/Noun': 1203, '보니/Verb': 982, '맛있으니/Adjective': 758, '감안/Noun': 76, '좋을/Adjective': 1903, '같다/Adjective': 98, '사이드/Noun': 1120, '쫀득/Noun': 1982, '게/Noun': 142, '입맛/Noun': 1728, '맞다/Verb': 765, '맘/Noun': 720, '놓고/Verb': 440, '불리/Noun': 1046, '먹어도/Verb': 798, '적당한/Adjective': 1819, '착한/Adjective': 1996, '가/Verb': 18, '맛없기/Adjective': 725, '어려운데/Adjective': 1443, '재래/Noun': 1795, '기/Noun': 285, '양파/Noun': 1430, '절임/Noun': 1834, '이런거/Adjective': 1662, '다쳐도/Verb': 482, '퍽퍽함/Noun': 2137, '자르는/Verb': 1760, '비계/Noun': 1069, '있거나/Adjective': 1731, '살코기/Noun': 1133, '있었는데/Adjective': 1749, '맛없음/Adjective': 728, '찾아볼/Verb': 2011, '슈도/Noun': 1217, '없었다/Adjective': 1483, '평소/Noun': 2147, '먹고다/Verb': 784, '녀/Noun': 425, 'ㅋㅋㅋㅋㅋ/KoreanParticle': 12, '네이버/Noun': 424, '보고/Noun': 978, '무질/Noun': 875, '겨/Noun': 143, '삼킬수가/Verb': 1138, '할말은/Verb': 2240, '많지만/Adjective': 716, '않습니다/Verb': 1380, '신촌/Noun': 1258, '황소/Noun': 2313, '곱창/Noun': 176, '같음/Adjective': 108, '부담/Noun': 1019, '들으시곤/Verb': 620, '자꾸/Noun': 1758, '참여/Noun': 2001, '하시려/Verb': 2209, '번/Noun': 966, '아니기에/Adjective': 1320, '신경/Noun': 1250, '쓰이긴/Verb': 1301, '했음/Verb': 2291, '부족해서인지/Adjective': 1031, '필요한거/Adjective': 2169, '제때/Noun': 1855, '받기/Verb': 935, '힘들더라구요/Adjective': 2341, '시켰으면/Verb': 1239, '섭할/Adjective': 1176, '뻔/Noun': 1104, '했습니다/Verb': 2284, '좋았으면/Adjective': 1897, '닥/Noun': 483, '무난/Noun': 863, '맛없다/Adjective': 726, '였음/Verb': 1521, '기름/Noun': 296, '빠지는/Verb': 1095, '구조도/Noun': 225, '아니라서/Adjective': 1324, '안타/Noun': 1368, '수가/Noun': 1201, '바쁘고/Adjective': 926, '방치/Noun': 947, '당하기/Adjective': 506, '쉽습니다/Verb': 1216, '질긴/Verb': 1965, '당해서/Adjective': 508, '겨진/Verb': 144, '아쉬웠습니다/Adjective': 1339, '당하다가/Adjective': 507, '집게/Noun': 1968, '라도/Josa': 659, '십사/Noun': 1270, '여쭤/Verb': 1511, '젓가락/Noun': 1842, '뒤집으면/Verb': 591, '된다고/Verb': 570, '하셔서/Verb': 2205, '튀고/Verb': 2113, '많고/Adjective': 707, '무슨/Modifier': 869, '먹었는지/Verb': 805, '모르겠어요/Verb': 847, '가서/Verb': 41, '시킬/Verb': 1243, '없었/Adjective': 1481, '많다/Adjective': 709, '써줌/Verb': 1288, '질기/Verb': 1964, '맛있었는데/Adjective': 753, '요새/Noun': 1582, '안가요/Verb': 1351, '저/Determiner': 1797, '세상/Noun': 1181, '잡내/Verb': 1776, '고무/Noun': 165, '첫/Modifier': 2022, '뱉고싶은/Verb': 960, '심정/Noun': 1266, '심하고/Adjective': 1267, '턱/Noun': 2101, '갑니다/Verb': 81, 'ㅅ/KoreanParticle': 4, '바/Noun': 920, '인성/Noun': 1705, '무엇/Noun': 871, '괜찮았어요/Adjective': 189, '많은/Adjective': 712, '마시면서/Verb': 683, '안주/Noun': 1366, '나쁘지/Adjective': 361, '않지만/Verb': 1390, '예민하지/Adjective': 1528, '점점/Noun': 1839, '오르구/Verb': 1541, '판이/Noun': 2133, '라/Josa': 655, '느끼하고/Adjective': 450, '찬/Noun': 1998, '어/Eomi': 1432, '난/Noun': 378, '아래/Noun': 1332, '않은/Verb': 1385, '후기/Noun': 2320, '있네/Adjective': 1734, '한건데/Verb': 2224, '어느/Modifier': 1435, '구/Modifier': 197, '우지/Noun': 1594, '언능/Adverb': 1458, '야함/Adjective': 1411, '튀기듯이/Verb': 2114, '볶고/Verb': 1002, '자시/Noun': 1762, '가져다/Verb': 53, '주는데/Verb': 1913, '부턴/Josa': 1036, '최대한/Noun': 2032, '백프로/Noun': 958, '좋아하는데/Adjective': 1889, '살면서/Verb': 1128, '나가는/Verb': 350, '알았음/Verb': 1401, '타이어/Noun': 2090, '식/Suffix': 1245, '감/Noun': 70, '깊은/Adjective': 311, '냄비/Noun': 401, '데/Noun': 541, '구워서/Verb': 207, '빠져나가는/Verb': 1093, '구조/Noun': 224, '국/Noun': 226, '먹는줄/Verb': 793, '빼/Noun': 1100, '달라/Noun': 495, '국자/Noun': 228, '일일이/Noun': 1719, '떠주는데/Verb': 645, '그래도/Adverb': 255, '쩔어있고/Verb': 1979, '앵/Adverb': 1408, '간하면/Verb': 65, '나가는줄/Verb': 351, '알았습니다/Verb': 1400, '씹다/Verb': 1307, '뱉다/Verb': 961, '유명해진만큼/Adjective': 1614, '제품/Noun': 1860, '썼으면/Verb': 1291, '덕분/Noun': 535, '한동안/Adverb': 2229, '쳐다볼듯/Verb': 2028, 'ㄷㄷㄷ/KoreanParticle': 1, '질겅질겅/Noun': 1962, '빠지/Verb': 1094, '믄/Modifier': 903, '모/Noun': 843, '둠을/Verb': 588, '시켰는데/Verb': 1237, '맛있었다/Adjective': 754, '그런데/Conjunction': 266, '먹고나니/Verb': 781, '니글거렸음/Noun': 462, '기름기/Noun': 297, '많음/Adjective': 713, '냅고/Verb': 403, '콩나물국/Noun': 2080, '비린내가/Adjective': 1074, '남/Noun': 381, '나오는/Verb': 366, '빨랐고/Adjective': 1097, '구워져서/Verb': 208, '비교/Noun': 1070, '덜/Noun': 537, '집중/Noun': 1969, '나은듯/Verb': 374, '친절하시다/Adjective': 2066, '있다는/Adjective': 1740, '믿기지/Verb': 915, '않음/Verb': 1389, '인근/Noun': 1698, '찾는다면/Verb': 2007, '떡/Noun': 646, '도리/Noun': 547, '탕/Noun': 2093, '맛있댜/Noun': 745, '메인/Noun': 833, '하게/Verb': 2173, '되요/Verb': 567, '감자/Noun': 77, '채전은/Verb': 2014, '두툼/Noun': 584, '바삭바삭/Adverb': 929, '포슬포슬/Adverb': 2153, '케찹/Noun': 2073, '찍어/Verb': 1987, '먹어야/Verb': 800, '맛있은데/Adjective': 759, '자극/Noun': 1757, '일수/Noun': 1718, '닭볶음탕/Noun': 500, '이지/Josa': 1685, '않나요/Verb': 1375, '먹죠/Verb': 827, '맛있어하는/Adjective': 751, '충격/Noun': 2042, '닭도리탕/Noun': 499, '기대하는/Adjective': 293, '감자전/Noun': 78, '튀김전인지/Verb': 2117, '몰라서/Verb': 858, '딱딱하고/Adjective': 632, '맛없어서/Adjective': 727, '짜요/Verb': 1971, '떡볶이/Noun': 647, '있는건/Adjective': 1737, '둘째/Noun': 586, '치고/Josa': 2050, '더움/Noun': 533, '마스크/Noun': 681, '씀/Verb': 1303, 'ㅎㅎㅎ/KoreanParticle': 15, '붙어있는/Verb': 1063, '떼는거/Verb': 651, '맨손/Noun': 774, 'ㅎㅎㅎㅎ/KoreanParticle': 16, '숟가락/Noun': 1209, '가져다줄/Verb': 55, '씻은/Verb': 1310, '닿는/Verb': 510, '부분/Noun': 1026, '잡아서/Verb': 1778, '고요/Noun': 171, '씻는거/Verb': 1309, '보였네요/Verb': 992, '힐끔/Noun': 2338, '에서도/Josa': 1499, '껴요/Verb': 334, '감각/Noun': 71, '제로/Noun': 1856, '밤/Noun': 939, '술취해/Noun': 1214, '가면/Noun': 39, '보일테니까/Verb': 996, '취하/Noun': 2047, '시/Noun': 1225, '드세용/Verb': 599, '낮/Noun': 393, '에가/Josa': 1493, '서/Verb': 1160, '토/Noun': 2106, '뻔햇/Noun': 1107, '내/Determiner': 394, '부가/Noun': 1017, '어어/Noun': 1446, '무/Noun': 862, '덥다/Adjective': 539, '가스/Noun': 44, '버너/Noun': 963, '이어서/Josa': 1672, '그래도/Adjective': 254, '실내/Noun': 1259, '온도/Noun': 1551, '내려가지를/Verb': 397, '에어컨/Noun': 1501, '새로/Adjective': 1147, '사세요/Verb': 1118, '닭고기/Noun': 498, '가슴/Noun': 45, '기준/Noun': 305, '반/Modifier': 931, '마리/Noun': 677, '들어가는데/Verb': 610, '살이었음/Verb': 1130, '개개/Noun': 112, '개/Suffix': 111, '미쳤고/Adjective': 909, '안퍽퍽해/Noun': 1369, '와/Verb': 1558, '국물/Noun': 227, '친절해요/Adjective': 2068, '대신/Noun': 518, '쪼금/Noun': 1980, '아쉬운건/Adjective': 1336, '빵빵/Noun': 1099, '더워요/Adjective': 534, '빼곤/Verb': 1102, '오고싶을/Verb': 1536, '페이/Noun': 2138, '가맹/Noun': 38, '아님/Adjective': 1331, '문/Noun': 881, '스티커/Noun': 1221, '붙어있는데/Verb': 1064, '안된다고/Adjective': 1358, '상품권/Noun': 1146, '못/Noun': 860, '쓰니/Verb': 1299, '헛수/Noun': 2294, '왔다가/Verb': 1569, '다시/Noun': 477, '오/Modifier': 1534, '려고/Noun': 665, '즐겨찾기/Noun': 1931, '지움/Verb': 1947, '평일/Noun': 2149, '저녁/Noun': 1799, '술집/Noun': 1213, '가까/Adjective': 25, '특이한거/Adjective': 2125, '들어간거라고/Verb': 614, '될듯/Verb': 573, '해놓고/Verb': 2253, '영수증/Noun': 1522, '두/Josa': 577, '안주시/Noun': 1367, '냈는데/Verb': 405, '고의/Noun': 173, '모르겠네요/Verb': 845, '학생/Noun': 2219, '좋아할/Adjective': 1892, '맵/Noun': 776, '않고/Verb': 1373, '달달/Noun': 494, '부드러움/Noun': 1021, '술안주/Noun': 1212, '채전/Verb': 2013, '튀김전이어서/Verb': 2116, '스타일/Noun': 1220, '이었구/Verb': 1675, '적절하게/Adjective': 1825, '맵구/Verb': 777, '콩나물/Noun': 2079, '맛있어/Adjective': 747, '욤/Noun': 1584, '적당했습니다/Adjective': 1820, '대기/Noun': 514, '업음/Verb': 1464, '대충/Noun': 522, '들어갔다가/Verb': 615, '감사합니당/Verb': 75, '어후/Noun': 1456, '먹고는/Verb': 783, '안될/Adjective': 1359, '마실/Verb': 684, '터질거/Verb': 2099, '하면서/Verb': 2203, '나오면서도/Verb': 368, '오자/Noun': 1546, '나왔네요/Verb': 372, '인가/Josa': 1694, '아닌데/Adjective': 1329, '진심/Noun': 1959, '고소하니/Adjective': 169, '든든했어요/Adjective': 602, '모/Modifier': 842, '듬/Noun': 622, '구이/Noun': 223, '적당하고/Adjective': 1817, '적당하네요/Adjective': 1818, '강/Noun': 89, '추해요/Adjective': 2039, '대창/Noun': 521, '이었는데/Verb': 1676, '맞고/Verb': 764, '좋았어요/Adjective': 1896, '든든히/Adjective': 603, '보단/Josa': 986, '기고/Noun': 286, '나무/Noun': 357, '이라니/Josa': 1653, '종이컵/Noun': 1876, '어디/Noun': 1439, '포장마차/Noun': 2154, '먹는것도/Verb': 791, '맛있어여/Adjective': 749, '곱/Noun': 175, '가득가득/Adverb': 34, '맛있기도/Adjective': 734, '대/Modifier': 511, '파김치/Noun': 2132, '느끼한/Adjective': 451, '잡아주는/Verb': 1779, '콜라/Noun': 2077, '드시는/Verb': 601, '강츄/Noun': 93, '단/Noun': 487, '짠단/Verb': 1976, '짠/Verb': 1975, '가능/Noun': 31, '문래동/Noun': 882, '만족해서/Adjective': 703, '간/Noun': 60, '배신/Noun': 953, '하질/Verb': 2217, '믿고/Verb': 914, '강추/Noun': 92, '통통하고/Adjective': 2109, '쫄깃한데/Noun': 1983, '신선한/Adjective': 1256, '쓰시는거/Verb': 1300, '싹싹/Noun': 1283, '먹었네요/Verb': 803, '그치만/Verb': 274, '가득해서/Adjective': 35, '고소해요/Adjective': 170, '지도/Noun': 1940, '둠/Verb': 587, '고소하고/Adjective': 168, '항상/Noun': 2249, '헤맸는데/Verb': 2295, '단골/Noun': 488, '괜찮아요/Adjective': 187, '구워지는/Verb': 219, '봐주셔서/Verb': 1013, '그렇지만/Conjunction': 271, '글/Noun': 278, '외국인/Noun': 1577, '준다면서/Verb': 1923, '잘라/Verb': 1772, '잘라주/Verb': 1773, '곸/Noun': 181, '불편했어여/Adjective': 1061, '글구/Noun': 279, '이러기/Verb': 1659, '힘든데/Adjective': 2340, '잡내가/Verb': 1777, '나는줄/Verb': 355, '알았는데/Verb': 1399, '이후/Noun': 1689, '꼈어요/Verb': 335, '할께요/Verb': 2239, '가득/Noun': 33, '차있어서/Verb': 1993, '꼬숩/Noun': 336, '술술/Noun': 1211, '들어가는/Verb': 609, '부추/Noun': 1032, '싸서/Verb': 1281, '죠/Josa': 1907, '넘마/Verb': 417, '맛있는것/Adjective': 738, '통통하니/Adjective': 2110, '테러/Noun': 2104, '하러/Verb': 2198, '가본/Verb': 40, '구려/Noun': 200, '아닌지/Adjective': 1330, '구분/Noun': 201, '마셨나/Verb': 680, '받을/Verb': 937, '불친절하고요/Adjective': 1052, '첨/Noun': 2021, '먼저/Noun': 828, '나오고/Verb': 364, '나중/Noun': 376, '불판/Noun': 1058, '니/Josa': 461, '위/Noun': 1610, '옮겨/Verb': 1555, '그러/Adjective': 259, '드/Noun': 593, '구/Noun': 198, '그래서/Adverb': 256, '비주/Noun': 1089, '얼/Noun': 1460, '똥/Noun': 654, '사진/Noun': 1123, '보시/Noun': 990, '맛있었어용/Adjective': 757, '모시고도/Verb': 852, '가려고요/Verb': 36, '구성/Noun': 203, '알차고/Adjective': 1402, '만족스럽습니다/Adjective': 701, '다음/Noun': 481, '할게요/Verb': 2237, '냉동/Noun': 406, '탑/Noun': 2092, '호일/Noun': 2300, '쓰는게/Verb': 1298, '그/Noun': 244, '고유/Noun': 172, '굿굿/Noun': 238, '친절하세요/Adjective': 2060, '어딜/Adverb': 1441, '가나/Noun': 27, '어쩔/Modifier': 1453, '없다고/Adjective': 1474, '갔을/Verb': 88, '친절하셨음/Adjective': 2064, '부시/Noun': 1027, '싶을/Verb': 1274, '돈가스/Noun': 551, '왔을/Verb': 1572, '친절하/Adjective': 2056, '셧/Noun': 1187, '용/Noun': 1586, '싼/Verb': 1284, '예민하/Adjective': 1527, '신분/Noun': 1255, '들께는/Verb': 606, '날수/Noun': 380, '원인/Noun': 1604, '거치곤/Verb': 129, '먹었/Verb': 802, '습/Noun': 1224, '니당/Verb': 464, '주전자/Noun': 1919, '우동/Noun': 1589, '많아요/Adjective': 711, '모르겠는데/Verb': 846, '되고/Verb': 564, '안경/Noun': 1353, '안끼/Noun': 1354, '조끼/Noun': 1863, '패딩/Noun': 2134, '입는/Verb': 1726, 'ㅈㄴ/KoreanParticle': 6, '밥맛/Noun': 942, '떨어질/Verb': 649, '이상/Noun': 1669, '해야하고/Verb': 2260, '변두리/Noun': 971, '까지와/Josa': 315, '이유/Noun': 1681, '알맞은/Adjective': 1395, '로는/Josa': 667, '않았으나/Verb': 1383, '불친절해요/Adjective': 1057, '저렴하더라도/Adjective': 1803, '적게/Verb': 1812, '시킨것도/Verb': 1242, '찌개/Noun': 1985, '들어가자마자/Verb': 612, '이용/Noun': 1680, '없었습니다/Adjective': 1484, '선/Noun': 1170, '밑반찬/Noun': 919, '및/Noun': 917, '수저/Noun': 1205, '셀프/Noun': 1184, '미리/Noun': 905, '상관/Noun': 1140, '없었지만/Adjective': 1485, '합니다/Verb': 2246, '주/Noun': 1909, '턱스/Noun': 2102, '크/Verb': 2082, '아니면/Adjective': 1325, '벗고/Verb': 967, '상대/Noun': 1144, '만지고있지/Verb': 705, '않나/Verb': 1374, '시켰더니/Verb': 1238, '돼있도/Verb': 559, '깻잎/Noun': 331, '노른자/Noun': 428, '비빈/Verb': 1075, '하니/Noun': 2192, '없다하고/Adjective': 1476, '그럼/Adjective': 269, '간/Suffix': 61, '해주던가/Verb': 2267, '드셔/Verb': 600, '보세요/Verb': 988, '세게/Verb': 1179, '이라서/Josa': 1655, '라는/Josa': 657, '액션/Noun': 1407, '들어올/Verb': 616, '눈/Noun': 447, '는커녕/Josa': 456, '사는/Verb': 1113, '생활/Noun': 1157, '인/Suffix': 1693, '으로서/Josa': 1624, '드는/Verb': 594, '대의/Noun': 519, '조용한/Adjective': 1866, '룸/Noun': 669, '하겠다는/Verb': 2174, '신기하다/Adjective': 1252, '거짓말/Noun': 128, '하시나요/Verb': 2206, '오십분/Noun': 1545, '걸린/Verb': 136, '기다릴/Verb': 290, '만큼/Noun': 706, '셀프서비스/Noun': 1185, '이진/Noun': 1687, '않네여/Verb': 1377, '하는데/Verb': 2191, '들어가구/Verb': 608, '먹고싶진/Verb': 788, '않네요/Verb': 1378, '모임/Noun': 854, '원해서/Adjective': 1605, '예/Modifier': 1526, '약/Modifier': 1412, '맞춰서/Verb': 766, '방이/Noun': 946, '없냐고/Adjective': 1468, '하니까/Verb': 2194, '했어도/Verb': 2285, '할수/Verb': 2241, '고함/Noun': 174, '그게/Noun': 247, '이냐/Josa': 1646, '물으니/Verb': 897, '해도/Noun': 2255, '시스템/Noun': 1233, '하냐/Verb': 2185, '의미/Noun': 1634, '없지/Adjective': 1490, '않냐/Verb': 1376, '봄/Noun': 1010, '돌아오는/Verb': 555, '답변/Noun': 501, '어쩔/Adverb': 1452, '어떻게/Adjective': 1442, '저런/Noun': 1800, '장사/Noun': 1787, '할수있나싶네요/Verb': 2242, '아무런/Adjective': 1335, '아예/Noun': 1343, '밖에/Josa': 930, '가시는거라면/Verb': 47, '다른/Modifier': 472, '심/Noun': 1265, '불만/Noun': 1047, '돈까스/Noun': 552, '배식/Noun': 952, '대/Suffix': 512, '엥꼬나/Noun': 1504, '군대/Noun': 229, '서서/Noun': 1165, '하던것처럼/Verb': 2197, '기다려서/Verb': 287, '받음/Verb': 938, '이랬으면/Adjective': 1658, '개지/Noun': 116, '땅/Noun': 637, '하는건/Verb': 2189, '존중/Noun': 1871, '받고/Verb': 934, '있다/Adjective': 1739, '제외/Noun': 1858, '으로만/Josa': 1623, '따져도/Verb': 630, '화장실/Noun': 2309, '이었고/Verb': 1674, '앉아도/Verb': 1371, '심해서/Adjective': 1269, '놀람/Noun': 435, '앞치마/Noun': 1404, '지저분하고/Adjective': 1949, '유튜브/Noun': 1615, '인스타/Noun': 1706, '나오다/Verb': 367, '서고/Noun': 1161, '끝내줌/Adjective': 344, '차돌박이/Noun': 1991, '두꺼운듯/Adjective': 581, '저렴하고/Adjective': 1802, '둘이가면/Verb': 585, '터짐/Verb': 2100, '써/Verb': 1287, '사실/Noun': 1119, '인이가도/Verb': 1708, '시키셔야/Verb': 1241, '됩니다/Verb': 575, '홍보/Noun': 2305, '거짓/Noun': 127, '솔직한가/Adjective': 1197, '격인/Noun': 146, '워/Noun': 1600, '싼데/Verb': 1286, '하시는건/Verb': 2207, '아닌것/Adjective': 1328, '같습니다/Adjective': 99, '좋습니다만/Adjective': 1886, '냉삼/Noun': 408, '그다지/Noun': 250, '좋다고는/Adjective': 1883, '없습니다/Adjective': 1478, '그야말로/Adverb': 273, '갈만/Verb': 68, '머리/Noun': 778, '하나로/Noun': 2183, '묶은/Verb': 880, '긴/Verb': 307, '어깨/Noun': 1434, '넘었음/Verb': 419, '여자/Noun': 1510, '익은게/Verb': 1691, '보이는데/Verb': 995, '더니/Noun': 530, '기다리라는/Verb': 289, '넘게/Verb': 416, '오시길래/Verb': 1543, '물어보니/Verb': 894, '익은거라고/Verb': 1690, '상/Suffix': 1139, '보이는/Verb': 994, '보여주니/Verb': 991, '쎄게/Adjective': 1292, '틀어주고/Verb': 2127, '가시던데/Verb': 48, '타고/Noun': 2089, '구웠어요/Verb': 221, '이럴꺼면/Adjective': 1663, '구울/Noun': 205, '껄/Noun': 332, '그랬어요/Adjective': 258, '해줌/Verb': 2273, '핸드폰/Noun': 2277, '무선/Noun': 867, '충전/Noun': 2046, '충/Noun': 2041, '마포/Noun': 690, '이어/Verb': 1671, '정갈하게/Adjective': 1843, '홀/Noun': 2304, '계신/Adjective': 154, '착용/Noun': 1995, '아무/Noun': 1334, '안함/Noun': 1370, '시국/Noun': 1227, '불안/Noun': 1050, '하니/Verb': 2193, '좋았다/Adjective': 1894, '구워주는/Verb': 210, '적다/Verb': 1816, '적음/Verb': 1824, '차는/Verb': 1989, '가기/Noun': 24, '맛맛/Noun': 724, '다시는/Verb': 478, '가고싶지/Verb': 22, '화난/Noun': 2307, '태우듯이/Verb': 2095, '얇고/Adjective': 1416, '취향/Noun': 2048, '라면/Noun': 660, '의아/Noun': 1635, '종로/Noun': 1874, '신년/Noun': 1253, '회/Noun': 2315, '괜찮다고/Adjective': 186, '찌게/Noun': 1986, '등/Noun': 624, '입사/Noun': 1729, '동기/Noun': 556, '무서워요/Adjective': 866, '두껍/Adjective': 582, '삼/Noun': 1135, '임데/Verb': 1724, '얇아요/Adjective': 1418, '그럴지도/Adjective': 268, '모르니/Verb': 849, '와서/Verb': 1560, '수정/Noun': 1206, '안좋습니다/Adjective': 1364, '울/Modifier': 1597, '아/Josa': 1312, '서하/Noun': 1168, '당연하다는듯이/Adjective': 504, '먹었으면/Verb': 809, '함께/Adverb': 2244, '한다는/Modifier': 2228, '어이/Noun': 1447, '황제/Noun': 2314, '세트/Noun': 1182, '합/Noun': 2245, '구어주는데/Adjective': 204, '숯/Noun': 1215, '약해/Adjective': 1414, '흐물흐물/Noun': 2331, '급하게/Adjective': 283, '갔는데도/Verb': 85, '해주시/Noun': 2269, '먹다가/Verb': 795, '보내고/Verb': 980, '만들어주셔서/Verb': 698, '세팅/Noun': 1183, '완료/Noun': 1564, '준비/Noun': 1924, '해주셨고/Verb': 2268, '끝/Noun': 343, '구워주셨어요/Verb': 215, '고를줄/Verb': 164, '봤는데/Verb': 1014, '고르도록/Verb': 163, '도와주시고/Verb': 548, '배고/Verb': 949, '좋더라고요/Adjective': 1884, '양식/Noun': 1428, '특유/Noun': 2124, '코/Noun': 2074, '맴/Noun': 775, '돌아서/Verb': 554, '차돌/Noun': 1990, '이제/Noun': 1684, '해주시고/Verb': 2270, '나가셨습니다/Verb': 352, '적네라고/Verb': 1815, '하며/Verb': 2201, '하였습니다/Verb': 2212, '화로/Noun': 2308, '기존/Noun': 304, '구웠던/Verb': 220, '와/Josa': 1557, '가져가/Verb': 52, '나가기/Verb': 349, '가려는데/Verb': 37, '공간/Noun': 179, '한참/Noun': 2234, '남아있는/Verb': 386, '접시/Noun': 1841, '놓여있어서/Verb': 441, '직/Noun': 1955, '불러도/Verb': 1043, '오시/Noun': 1542, '된장찌개/Noun': 572, '평이/Noun': 2148, '의외/Noun': 1636, '였어여/Verb': 1518, '경/Modifier': 148, '천/Modifier': 2017, '애인/Noun': 1405, '가는게/Verb': 30, '정원/Noun': 1850, '끼/Noun': 345, '였다/Verb': 1517, '편했다/Adjective': 2144, '오랫/Modifier': 1540, '의향/Noun': 1638, '맛있고요/Adjective': 733, '깔끔해요/Adjective': 323, '싱싱한/Adjective': 1271, '완도/Noun': 1563, '산/Noun': 1126, '활/Noun': 2312, '전/Modifier': 1826, '복의/Noun': 999, '꿈틀/Noun': 342, '거림/Noun': 125, '깜짝/Noun': 326, '놀라실/Verb': 433, '보기/Noun': 979, '힘든/Adjective': 2339, '예쁜/Adjective': 1529, '크고/Verb': 2084, '작은/Adjective': 1766, '프라이/Noun': 2162, '빗룸/Noun': 1092, '글쎄/Noun': 280, '말씀/Noun': 719, '자랑/Noun': 1759, '이라고는/Josa': 1652, '투뿔/Noun': 2112, '없다네요/Adjective': 1475, '웃음/Noun': 1599, '선사/Noun': 1171, '해/Verb': 2252, '주는/Verb': 1912, '백억/Noun': 957, '누/Noun': 442, '야간/Noun': 1409, '이쁘고/Adjective': 1668, '만족하셨어요/Adjective': 702, '있어/Adjective': 1745, '놀라웠고/Adjective': 434, '하기에도/Verb': 2180, '적극/Noun': 1814, '먹은게/Verb': 818, '꽃/Noun': 339, '통/Noun': 2108, '물냉/Noun': 891, '아이스크림/Noun': 1344, '먹었다/Verb': 806, '융숭/Noun': 1621, '대접/Noun': 520, '감사한다/Verb': 73, '인테리어/Noun': 1713, '식탁/Noun': 1249, '배치도/Noun': 955, '듦/Verb': 621, '깨끗하게/Adjective': 328, '되어/Verb': 566, '층집/Noun': 2049, '좋은고/Adjective': 1901, '먹으며/Verb': 813, '연인/Noun': 1515, '즐거운/Adjective': 1930, '추억/Noun': 2037, '만들수있는/Verb': 697, '나물/Noun': 358, '와사비/Noun': 1559, '모양/Noun': 853, '나온다/Verb': 370, '드립니다/Verb': 597, '맛있당/Adjective': 744, '싸/VerbPrefix': 1276, '마치/Noun': 689, '얇음/Adjective': 1420, '절대/Noun': 1833, '덩어리/Noun': 540, '없는건/Adjective': 1471, '해물탕/Noun': 2256, '시원해서/Adjective': 1234, '할께/Verb': 2238, '욧/Noun': 1585, '미쳤습니다/Adjective': 911, '묵직하고/Adjective': 879, '디저트/Noun': 627, '우유/Noun': 1593, '남녀/Noun': 384, '노소/Noun': 429, '불문/Noun': 1049, '즐길/Verb': 1932, '체인/Noun': 2026, '교대/Noun': 195, '수도/Noun': 1202, '뭔가/Noun': 901, '작고/Noun': 1765, '장인어른/Noun': 1792, '장모님/Noun': 1786, '간곳/Noun': 62, '왠만해/Adjective': 1574, '장인/Noun': 1791, '장모/Noun': 1785, '극찬/Noun': 276, '없던/Adjective': 1477, '솔직히/Adjective': 1198, '였으나/Verb': 1520, '딱이였는지/Adjective': 633, '굉장히/Adjective': 194, '시켜/Verb': 1236, '본것/Verb': 1007, '대패/Noun': 524, '씹는/Verb': 1306, '식/Noun': 1244, '감도/Verb': 72, '나름/Noun': 356, '훌륭했고/Adjective': 2328, '얇디/Adjective': 1417, '얇은/Adjective': 1419, '충분한/Adjective': 2044, '년대/Noun': 426, '가정/Noun': 51, '들어/Verb': 607, '포근했고/Adjective': 2152, '다소/Noun': 476, '시끄러운것/Adjective': 1229, '뺴/Noun': 1103, '방법/Noun': 944, '알려주/Verb': 1394, '장난/Noun': 1784, '엄마/Noun': 1462, '해준거/Verb': 2271, '보다/Verb': 984, '미안/Noun': 907, '생/Noun': 1151, '사먹을/Verb': 1117, '드럽게/Adjective': 595, '여/Josa': 1505, '댓글단/Verb': 528, '적은/Verb': 1822, '누가/Noun': 443, '사준다/Verb': 1122, '딴데가세요/Verb': 635, '평점/Noun': 2150, '조작/Noun': 1867, '맙시/Noun': 721, '양대/Modifier': 1425, '창집/Noun': 2005, '최근/Noun': 2031, '역/Noun': 1513, '보셈/Verb': 989, '븐/Noun': 1065, '뭐해/Noun': 900, '냠냠/Adverb': 409, '있다니/Adjective': 1741, '리알/Noun': 673, '슬픔/Noun': 1223, '주셔서/Verb': 1918, '편안하게/Adjective': 2140, '준/Noun': 1922, '사건/Noun': 1111, '쓰/Verb': 1295, '완벽한/Adjective': 1566, '지점/Noun': 1951, '아주머니/Noun': 1346, '불친절해서/Adjective': 1056, '가고/Verb': 21, '싶지/Verb': 1275, '특/Noun': 2118, '양/Modifier': 1422, '창/Noun': 2002, '났어요/Verb': 392, '그런지/Adjective': 267, '관리/Noun': 183, '하시는것/Verb': 2208, '쎈/Adjective': 1293, '맨/Noun': 773, '해줄/Verb': 2272, '의자/Noun': 1637, '비눗물/Noun': 1071, '흩/Verb': 2337, '뿌려져/Verb': 1109, '닦았습니다/Verb': 486, '꽤/Noun': 340, '태우고/Verb': 2094, '찾을/Verb': 2012, '없이/Adverb': 1488, '퐁퐁뿌리/Noun': 2157, '거품/Noun': 130, '내서/Verb': 400, '문지르더니/Verb': 884, '휴지/Noun': 2330, '헹주같은겅려/Noun': 2297, '쓱/Noun': 1302, '닦아내고/Verb': 485, '청소/Noun': 2025, '하는거/Verb': 2188, '냅킨/Noun': 404, '물/Noun': 890, '묻혀서/Verb': 889, '닦아/Verb': 484, '누렇데/Noun': 445, '묻어/Verb': 886, '바꾸고/Verb': 921, '밥그릇/Noun': 941, '올려/Verb': 1553, '두고/Verb': 578, '퐁퐁/Noun': 2156, '옆/Noun': 1524, '하다가/Verb': 2195, '잔뜩/Noun': 1768, '묻은/Verb': 888, '장갑/Noun': 1783, '뒤집어주시는데/Verb': 590, '묻고/Verb': 885, '묻었/Verb': 887, '막창/Noun': 692, '부른줄/Verb': 1024, '알았네요/Verb': 1398, '가심/Verb': 49, '안성맞춤/Noun': 1361, '착함/Adjective': 1997, '특양/Noun': 2123, '곱창전골/Noun': 177, '런/Noun': 663, '클리어/Noun': 2086, '시끄럽다/Adjective': 1231, '김희/Noun': 310, '상당히/Adjective': 1143, '우십니다/Verb': 1591, '무시/Noun': 870, '짜증나는건/Adjective': 1974, '나빴는데/Adjective': 359, '검정색/Noun': 138, '까지만/Josa': 314, '쓰고/Verb': 1296, '나이/Noun': 375, '있으시던/Adjective': 1754, '대가/Noun': 513, '높아서/Adjective': 438, '열심히/Adverb': 1516, '설명/Noun': 1174, '해주더니/Verb': 2266, '고기만/Noun': 160, '마감/Noun': 674, '하신다/Verb': 2211, '먹고나서/Verb': 782, '싶어/Verb': 1272, '아쉬웠지만/Adjective': 1341, '사회/Noun': 1124, '영업/Noun': 1523, '가능하고/Adjective': 32, '또한/Noun': 653, '했/Verb': 2278, '음/Noun': 1628, '인지/Noun': 1711, '했으므로/Verb': 2288, '대해/Noun': 525, '서는/Verb': 1162, '류/Noun': 670, '친절하게/Adjective': 2057, '핵노맛/Noun': 2276, '깔끔친절죤맛/Noun': 318, '주말/Noun': 1915, '특선/Noun': 2122, '바쁠/Adjective': 928, '미디움/Noun': 904, '하이/Noun': 2213, '볼/Noun': 1009, '메볼/Noun': 832, '고량주/Noun': 162, '존/Noun': 1869, '맡/Verb': 767, '친절해서/Adjective': 2067, '비도/Noun': 1073, '많이/Modifier': 715, '서/Modifier': 1159, '한꺼/Verb': 2225, '시키는걸/Verb': 1240, '마셔/Verb': 679, '아마도/Adverb': 1333, '괜찮을듯/Adjective': 192, '생겨서/Verb': 1154, '깨끗한/Adjective': 330, '지켜봤는데/Verb': 1952, '깨끗이/Adverb': 327, '하길래/Verb': 2181, '신뢰/Noun': 1254, '병/Noun': 976, '당/Modifier': 502, '좋다/Adjective': 1882, '해주는/Verb': 2265}\n"
     ]
    }
   ],
   "source": [
    "# 확인\n",
    "print(index_vectorizer.vocabulary_)"
   ]
  },
  {
   "cell_type": "code",
   "execution_count": 5,
   "metadata": {},
   "outputs": [
    {
     "name": "stdout",
     "output_type": "stream",
     "text": [
      "[('아버지', 'Noun'), ('가방', 'Noun'), ('에', 'Josa'), ('들어가다', 'Verb'), ('.', 'Punctuation')]\n"
     ]
    }
   ],
   "source": [
    "from konlpy.tag import Okt\n",
    "\n",
    "okt = Okt()\n",
    "m_list = okt.pos(\"아버지 가방에 들어가신다.\",stem=True) #stem=True 어간추출 \n",
    "print(m_list)"
   ]
  },
  {
   "cell_type": "code",
   "execution_count": 37,
   "metadata": {},
   "outputs": [
    {
     "name": "stdout",
     "output_type": "stream",
     "text": [
      "너무 맛있어요\n",
      "  (0, 411)\t1\n",
      "  (0, 750)\t1\n"
     ]
    }
   ],
   "source": [
    "print(df['ko_text'].values[0])\n",
    "print(X[0])"
   ]
  },
  {
   "cell_type": "code",
   "execution_count": 38,
   "metadata": {},
   "outputs": [],
   "source": [
    "# 변환기\n",
    "from sklearn.feature_extraction.text import TfidfTransformer\n",
    "\n",
    "# TF-IDF 방법으로 ,형태소를 벡터 형태 데이터로 변환\n",
    "tfidf_vectorizer = TfidfTransformer()\n",
    "X = tfidf_vectorizer.fit_transform(X)"
   ]
  },
  {
   "cell_type": "code",
   "execution_count": 41,
   "metadata": {},
   "outputs": [
    {
     "name": "stdout",
     "output_type": "stream",
     "text": [
      "(372, 2343)\n",
      "  (0, 430)\t0.7071067811865476\n",
      "  (0, 431)\t0.7071067811865476\n"
     ]
    }
   ],
   "source": [
    "print(X.shape)\n",
    "print(X[1])"
   ]
  },
  {
   "cell_type": "code",
   "execution_count": 43,
   "metadata": {},
   "outputs": [
    {
     "name": "stdout",
     "output_type": "stream",
     "text": [
      "  (0, 411)\t0.6576785255639858\n",
      "  (0, 750)\t0.7532987169854876\n"
     ]
    }
   ],
   "source": [
    "print(X[0])"
   ]
  },
  {
   "cell_type": "code",
   "execution_count": 44,
   "metadata": {},
   "outputs": [
    {
     "data": {
      "text/plain": [
       "0                                              너무 맛있어요\n",
       "1                                               녹는다 녹아\n",
       "2                                                  좋아요\n",
       "3                                   흠잡을곳 없는 반찬이 정갈합니다 \n",
       "4    코로나 땜에 걱정했는데 방역수칙도 잘 지키시고 살치실이랑 등심 부드러워서 너무 좋아...\n",
       "Name: ko_text, dtype: object"
      ]
     },
     "execution_count": 44,
     "metadata": {},
     "output_type": "execute_result"
    }
   ],
   "source": [
    "# data\n",
    "df['ko_text'].head()"
   ]
  },
  {
   "cell_type": "code",
   "execution_count": 46,
   "metadata": {},
   "outputs": [
    {
     "name": "stdout",
     "output_type": "stream",
     "text": [
      "  (0, 411)\t0.6576785255639858\n",
      "  (0, 750)\t0.7532987169854876\n",
      "  (1, 430)\t0.7071067811865476\n",
      "  (1, 431)\t0.7071067811865476\n",
      "  (2, 1888)\t1.0\n",
      "  (3, 178)\t0.3042004605770822\n",
      "  (3, 933)\t0.4174595892176754\n",
      "  (3, 1470)\t0.43039286289644935\n",
      "  (3, 1640)\t0.19025362148557404\n",
      "  (3, 1845)\t0.5225666594189886\n",
      "  (3, 2334)\t0.4885480536221607\n",
      "  (4, 131)\t0.27027309313102715\n",
      "  (4, 383)\t0.27027309313102715\n",
      "  (4, 411)\t0.14027794721287554\n",
      "  (4, 527)\t0.24019504854904306\n",
      "  (4, 544)\t0.10095305374438543\n",
      "  (4, 625)\t0.23051208095882778\n",
      "  (4, 642)\t0.27027309313102715\n",
      "  (4, 945)\t0.27027309313102715\n",
      "  (4, 1022)\t0.2526785649555473\n",
      "  (4, 1132)\t0.27027309313102715\n",
      "  (4, 1199)\t0.27027309313102715\n",
      "  (4, 1492)\t0.10860241748505198\n",
      "  (4, 1769)\t0.17740824814668021\n",
      "  (4, 1887)\t0.27027309313102715\n",
      "  :\t:\n",
      "  (371, 1154)\t0.17569017317347246\n",
      "  (371, 1163)\t0.24578160535331572\n",
      "  (371, 1191)\t0.14984365240753128\n",
      "  (371, 1226)\t0.12760302633895593\n",
      "  (371, 1254)\t0.17569017317347246\n",
      "  (371, 1492)\t0.21178997858018142\n",
      "  (371, 1562)\t0.14984365240753128\n",
      "  (371, 1640)\t0.06396445525790884\n",
      "  (371, 1713)\t0.16425290553337854\n",
      "  (371, 1848)\t0.12514862918748013\n",
      "  (371, 1879)\t0.14984365240753128\n",
      "  (371, 1882)\t0.17569017317347246\n",
      "  (371, 1894)\t0.16425290553337854\n",
      "  (371, 1900)\t0.10936311419679924\n",
      "  (371, 1940)\t0.16425290553337854\n",
      "  (371, 1952)\t0.17569017317347246\n",
      "  (371, 1958)\t0.13326349972033538\n",
      "  (371, 1998)\t0.16425290553337854\n",
      "  (371, 2025)\t0.16425290553337854\n",
      "  (371, 2078)\t0.14035252000984236\n",
      "  (371, 2181)\t0.17569017317347246\n",
      "  (371, 2230)\t0.16425290553337854\n",
      "  (371, 2255)\t0.15613803500052328\n",
      "  (371, 2265)\t0.17569017317347246\n",
      "  (371, 2324)\t0.16425290553337854\n"
     ]
    }
   ],
   "source": [
    "print(X)"
   ]
  },
  {
   "cell_type": "code",
   "execution_count": 49,
   "metadata": {},
   "outputs": [],
   "source": [
    "from sklearn.model_selection import train_test_split\n",
    "target = df['y']\n",
    "train_input,test_input,train_target,test_target = train_test_split(\n",
    "    X,target,test_size=0.3\n",
    ")"
   ]
  },
  {
   "cell_type": "code",
   "execution_count": 50,
   "metadata": {},
   "outputs": [
    {
     "name": "stdout",
     "output_type": "stream",
     "text": [
      "(260, 2343) (112, 2343)\n"
     ]
    }
   ],
   "source": [
    "print(train_input.shape,test_input.shape)"
   ]
  },
  {
   "cell_type": "code",
   "execution_count": 52,
   "metadata": {},
   "outputs": [
    {
     "data": {
      "text/html": [
       "<style>#sk-container-id-1 {\n",
       "  /* Definition of color scheme common for light and dark mode */\n",
       "  --sklearn-color-text: black;\n",
       "  --sklearn-color-line: gray;\n",
       "  /* Definition of color scheme for unfitted estimators */\n",
       "  --sklearn-color-unfitted-level-0: #fff5e6;\n",
       "  --sklearn-color-unfitted-level-1: #f6e4d2;\n",
       "  --sklearn-color-unfitted-level-2: #ffe0b3;\n",
       "  --sklearn-color-unfitted-level-3: chocolate;\n",
       "  /* Definition of color scheme for fitted estimators */\n",
       "  --sklearn-color-fitted-level-0: #f0f8ff;\n",
       "  --sklearn-color-fitted-level-1: #d4ebff;\n",
       "  --sklearn-color-fitted-level-2: #b3dbfd;\n",
       "  --sklearn-color-fitted-level-3: cornflowerblue;\n",
       "\n",
       "  /* Specific color for light theme */\n",
       "  --sklearn-color-text-on-default-background: var(--sg-text-color, var(--theme-code-foreground, var(--jp-content-font-color1, black)));\n",
       "  --sklearn-color-background: var(--sg-background-color, var(--theme-background, var(--jp-layout-color0, white)));\n",
       "  --sklearn-color-border-box: var(--sg-text-color, var(--theme-code-foreground, var(--jp-content-font-color1, black)));\n",
       "  --sklearn-color-icon: #696969;\n",
       "\n",
       "  @media (prefers-color-scheme: dark) {\n",
       "    /* Redefinition of color scheme for dark theme */\n",
       "    --sklearn-color-text-on-default-background: var(--sg-text-color, var(--theme-code-foreground, var(--jp-content-font-color1, white)));\n",
       "    --sklearn-color-background: var(--sg-background-color, var(--theme-background, var(--jp-layout-color0, #111)));\n",
       "    --sklearn-color-border-box: var(--sg-text-color, var(--theme-code-foreground, var(--jp-content-font-color1, white)));\n",
       "    --sklearn-color-icon: #878787;\n",
       "  }\n",
       "}\n",
       "\n",
       "#sk-container-id-1 {\n",
       "  color: var(--sklearn-color-text);\n",
       "}\n",
       "\n",
       "#sk-container-id-1 pre {\n",
       "  padding: 0;\n",
       "}\n",
       "\n",
       "#sk-container-id-1 input.sk-hidden--visually {\n",
       "  border: 0;\n",
       "  clip: rect(1px 1px 1px 1px);\n",
       "  clip: rect(1px, 1px, 1px, 1px);\n",
       "  height: 1px;\n",
       "  margin: -1px;\n",
       "  overflow: hidden;\n",
       "  padding: 0;\n",
       "  position: absolute;\n",
       "  width: 1px;\n",
       "}\n",
       "\n",
       "#sk-container-id-1 div.sk-dashed-wrapped {\n",
       "  border: 1px dashed var(--sklearn-color-line);\n",
       "  margin: 0 0.4em 0.5em 0.4em;\n",
       "  box-sizing: border-box;\n",
       "  padding-bottom: 0.4em;\n",
       "  background-color: var(--sklearn-color-background);\n",
       "}\n",
       "\n",
       "#sk-container-id-1 div.sk-container {\n",
       "  /* jupyter's `normalize.less` sets `[hidden] { display: none; }`\n",
       "     but bootstrap.min.css set `[hidden] { display: none !important; }`\n",
       "     so we also need the `!important` here to be able to override the\n",
       "     default hidden behavior on the sphinx rendered scikit-learn.org.\n",
       "     See: https://github.com/scikit-learn/scikit-learn/issues/21755 */\n",
       "  display: inline-block !important;\n",
       "  position: relative;\n",
       "}\n",
       "\n",
       "#sk-container-id-1 div.sk-text-repr-fallback {\n",
       "  display: none;\n",
       "}\n",
       "\n",
       "div.sk-parallel-item,\n",
       "div.sk-serial,\n",
       "div.sk-item {\n",
       "  /* draw centered vertical line to link estimators */\n",
       "  background-image: linear-gradient(var(--sklearn-color-text-on-default-background), var(--sklearn-color-text-on-default-background));\n",
       "  background-size: 2px 100%;\n",
       "  background-repeat: no-repeat;\n",
       "  background-position: center center;\n",
       "}\n",
       "\n",
       "/* Parallel-specific style estimator block */\n",
       "\n",
       "#sk-container-id-1 div.sk-parallel-item::after {\n",
       "  content: \"\";\n",
       "  width: 100%;\n",
       "  border-bottom: 2px solid var(--sklearn-color-text-on-default-background);\n",
       "  flex-grow: 1;\n",
       "}\n",
       "\n",
       "#sk-container-id-1 div.sk-parallel {\n",
       "  display: flex;\n",
       "  align-items: stretch;\n",
       "  justify-content: center;\n",
       "  background-color: var(--sklearn-color-background);\n",
       "  position: relative;\n",
       "}\n",
       "\n",
       "#sk-container-id-1 div.sk-parallel-item {\n",
       "  display: flex;\n",
       "  flex-direction: column;\n",
       "}\n",
       "\n",
       "#sk-container-id-1 div.sk-parallel-item:first-child::after {\n",
       "  align-self: flex-end;\n",
       "  width: 50%;\n",
       "}\n",
       "\n",
       "#sk-container-id-1 div.sk-parallel-item:last-child::after {\n",
       "  align-self: flex-start;\n",
       "  width: 50%;\n",
       "}\n",
       "\n",
       "#sk-container-id-1 div.sk-parallel-item:only-child::after {\n",
       "  width: 0;\n",
       "}\n",
       "\n",
       "/* Serial-specific style estimator block */\n",
       "\n",
       "#sk-container-id-1 div.sk-serial {\n",
       "  display: flex;\n",
       "  flex-direction: column;\n",
       "  align-items: center;\n",
       "  background-color: var(--sklearn-color-background);\n",
       "  padding-right: 1em;\n",
       "  padding-left: 1em;\n",
       "}\n",
       "\n",
       "\n",
       "/* Toggleable style: style used for estimator/Pipeline/ColumnTransformer box that is\n",
       "clickable and can be expanded/collapsed.\n",
       "- Pipeline and ColumnTransformer use this feature and define the default style\n",
       "- Estimators will overwrite some part of the style using the `sk-estimator` class\n",
       "*/\n",
       "\n",
       "/* Pipeline and ColumnTransformer style (default) */\n",
       "\n",
       "#sk-container-id-1 div.sk-toggleable {\n",
       "  /* Default theme specific background. It is overwritten whether we have a\n",
       "  specific estimator or a Pipeline/ColumnTransformer */\n",
       "  background-color: var(--sklearn-color-background);\n",
       "}\n",
       "\n",
       "/* Toggleable label */\n",
       "#sk-container-id-1 label.sk-toggleable__label {\n",
       "  cursor: pointer;\n",
       "  display: block;\n",
       "  width: 100%;\n",
       "  margin-bottom: 0;\n",
       "  padding: 0.5em;\n",
       "  box-sizing: border-box;\n",
       "  text-align: center;\n",
       "}\n",
       "\n",
       "#sk-container-id-1 label.sk-toggleable__label-arrow:before {\n",
       "  /* Arrow on the left of the label */\n",
       "  content: \"▸\";\n",
       "  float: left;\n",
       "  margin-right: 0.25em;\n",
       "  color: var(--sklearn-color-icon);\n",
       "}\n",
       "\n",
       "#sk-container-id-1 label.sk-toggleable__label-arrow:hover:before {\n",
       "  color: var(--sklearn-color-text);\n",
       "}\n",
       "\n",
       "/* Toggleable content - dropdown */\n",
       "\n",
       "#sk-container-id-1 div.sk-toggleable__content {\n",
       "  max-height: 0;\n",
       "  max-width: 0;\n",
       "  overflow: hidden;\n",
       "  text-align: left;\n",
       "  /* unfitted */\n",
       "  background-color: var(--sklearn-color-unfitted-level-0);\n",
       "}\n",
       "\n",
       "#sk-container-id-1 div.sk-toggleable__content.fitted {\n",
       "  /* fitted */\n",
       "  background-color: var(--sklearn-color-fitted-level-0);\n",
       "}\n",
       "\n",
       "#sk-container-id-1 div.sk-toggleable__content pre {\n",
       "  margin: 0.2em;\n",
       "  border-radius: 0.25em;\n",
       "  color: var(--sklearn-color-text);\n",
       "  /* unfitted */\n",
       "  background-color: var(--sklearn-color-unfitted-level-0);\n",
       "}\n",
       "\n",
       "#sk-container-id-1 div.sk-toggleable__content.fitted pre {\n",
       "  /* unfitted */\n",
       "  background-color: var(--sklearn-color-fitted-level-0);\n",
       "}\n",
       "\n",
       "#sk-container-id-1 input.sk-toggleable__control:checked~div.sk-toggleable__content {\n",
       "  /* Expand drop-down */\n",
       "  max-height: 200px;\n",
       "  max-width: 100%;\n",
       "  overflow: auto;\n",
       "}\n",
       "\n",
       "#sk-container-id-1 input.sk-toggleable__control:checked~label.sk-toggleable__label-arrow:before {\n",
       "  content: \"▾\";\n",
       "}\n",
       "\n",
       "/* Pipeline/ColumnTransformer-specific style */\n",
       "\n",
       "#sk-container-id-1 div.sk-label input.sk-toggleable__control:checked~label.sk-toggleable__label {\n",
       "  color: var(--sklearn-color-text);\n",
       "  background-color: var(--sklearn-color-unfitted-level-2);\n",
       "}\n",
       "\n",
       "#sk-container-id-1 div.sk-label.fitted input.sk-toggleable__control:checked~label.sk-toggleable__label {\n",
       "  background-color: var(--sklearn-color-fitted-level-2);\n",
       "}\n",
       "\n",
       "/* Estimator-specific style */\n",
       "\n",
       "/* Colorize estimator box */\n",
       "#sk-container-id-1 div.sk-estimator input.sk-toggleable__control:checked~label.sk-toggleable__label {\n",
       "  /* unfitted */\n",
       "  background-color: var(--sklearn-color-unfitted-level-2);\n",
       "}\n",
       "\n",
       "#sk-container-id-1 div.sk-estimator.fitted input.sk-toggleable__control:checked~label.sk-toggleable__label {\n",
       "  /* fitted */\n",
       "  background-color: var(--sklearn-color-fitted-level-2);\n",
       "}\n",
       "\n",
       "#sk-container-id-1 div.sk-label label.sk-toggleable__label,\n",
       "#sk-container-id-1 div.sk-label label {\n",
       "  /* The background is the default theme color */\n",
       "  color: var(--sklearn-color-text-on-default-background);\n",
       "}\n",
       "\n",
       "/* On hover, darken the color of the background */\n",
       "#sk-container-id-1 div.sk-label:hover label.sk-toggleable__label {\n",
       "  color: var(--sklearn-color-text);\n",
       "  background-color: var(--sklearn-color-unfitted-level-2);\n",
       "}\n",
       "\n",
       "/* Label box, darken color on hover, fitted */\n",
       "#sk-container-id-1 div.sk-label.fitted:hover label.sk-toggleable__label.fitted {\n",
       "  color: var(--sklearn-color-text);\n",
       "  background-color: var(--sklearn-color-fitted-level-2);\n",
       "}\n",
       "\n",
       "/* Estimator label */\n",
       "\n",
       "#sk-container-id-1 div.sk-label label {\n",
       "  font-family: monospace;\n",
       "  font-weight: bold;\n",
       "  display: inline-block;\n",
       "  line-height: 1.2em;\n",
       "}\n",
       "\n",
       "#sk-container-id-1 div.sk-label-container {\n",
       "  text-align: center;\n",
       "}\n",
       "\n",
       "/* Estimator-specific */\n",
       "#sk-container-id-1 div.sk-estimator {\n",
       "  font-family: monospace;\n",
       "  border: 1px dotted var(--sklearn-color-border-box);\n",
       "  border-radius: 0.25em;\n",
       "  box-sizing: border-box;\n",
       "  margin-bottom: 0.5em;\n",
       "  /* unfitted */\n",
       "  background-color: var(--sklearn-color-unfitted-level-0);\n",
       "}\n",
       "\n",
       "#sk-container-id-1 div.sk-estimator.fitted {\n",
       "  /* fitted */\n",
       "  background-color: var(--sklearn-color-fitted-level-0);\n",
       "}\n",
       "\n",
       "/* on hover */\n",
       "#sk-container-id-1 div.sk-estimator:hover {\n",
       "  /* unfitted */\n",
       "  background-color: var(--sklearn-color-unfitted-level-2);\n",
       "}\n",
       "\n",
       "#sk-container-id-1 div.sk-estimator.fitted:hover {\n",
       "  /* fitted */\n",
       "  background-color: var(--sklearn-color-fitted-level-2);\n",
       "}\n",
       "\n",
       "/* Specification for estimator info (e.g. \"i\" and \"?\") */\n",
       "\n",
       "/* Common style for \"i\" and \"?\" */\n",
       "\n",
       ".sk-estimator-doc-link,\n",
       "a:link.sk-estimator-doc-link,\n",
       "a:visited.sk-estimator-doc-link {\n",
       "  float: right;\n",
       "  font-size: smaller;\n",
       "  line-height: 1em;\n",
       "  font-family: monospace;\n",
       "  background-color: var(--sklearn-color-background);\n",
       "  border-radius: 1em;\n",
       "  height: 1em;\n",
       "  width: 1em;\n",
       "  text-decoration: none !important;\n",
       "  margin-left: 1ex;\n",
       "  /* unfitted */\n",
       "  border: var(--sklearn-color-unfitted-level-1) 1pt solid;\n",
       "  color: var(--sklearn-color-unfitted-level-1);\n",
       "}\n",
       "\n",
       ".sk-estimator-doc-link.fitted,\n",
       "a:link.sk-estimator-doc-link.fitted,\n",
       "a:visited.sk-estimator-doc-link.fitted {\n",
       "  /* fitted */\n",
       "  border: var(--sklearn-color-fitted-level-1) 1pt solid;\n",
       "  color: var(--sklearn-color-fitted-level-1);\n",
       "}\n",
       "\n",
       "/* On hover */\n",
       "div.sk-estimator:hover .sk-estimator-doc-link:hover,\n",
       ".sk-estimator-doc-link:hover,\n",
       "div.sk-label-container:hover .sk-estimator-doc-link:hover,\n",
       ".sk-estimator-doc-link:hover {\n",
       "  /* unfitted */\n",
       "  background-color: var(--sklearn-color-unfitted-level-3);\n",
       "  color: var(--sklearn-color-background);\n",
       "  text-decoration: none;\n",
       "}\n",
       "\n",
       "div.sk-estimator.fitted:hover .sk-estimator-doc-link.fitted:hover,\n",
       ".sk-estimator-doc-link.fitted:hover,\n",
       "div.sk-label-container:hover .sk-estimator-doc-link.fitted:hover,\n",
       ".sk-estimator-doc-link.fitted:hover {\n",
       "  /* fitted */\n",
       "  background-color: var(--sklearn-color-fitted-level-3);\n",
       "  color: var(--sklearn-color-background);\n",
       "  text-decoration: none;\n",
       "}\n",
       "\n",
       "/* Span, style for the box shown on hovering the info icon */\n",
       ".sk-estimator-doc-link span {\n",
       "  display: none;\n",
       "  z-index: 9999;\n",
       "  position: relative;\n",
       "  font-weight: normal;\n",
       "  right: .2ex;\n",
       "  padding: .5ex;\n",
       "  margin: .5ex;\n",
       "  width: min-content;\n",
       "  min-width: 20ex;\n",
       "  max-width: 50ex;\n",
       "  color: var(--sklearn-color-text);\n",
       "  box-shadow: 2pt 2pt 4pt #999;\n",
       "  /* unfitted */\n",
       "  background: var(--sklearn-color-unfitted-level-0);\n",
       "  border: .5pt solid var(--sklearn-color-unfitted-level-3);\n",
       "}\n",
       "\n",
       ".sk-estimator-doc-link.fitted span {\n",
       "  /* fitted */\n",
       "  background: var(--sklearn-color-fitted-level-0);\n",
       "  border: var(--sklearn-color-fitted-level-3);\n",
       "}\n",
       "\n",
       ".sk-estimator-doc-link:hover span {\n",
       "  display: block;\n",
       "}\n",
       "\n",
       "/* \"?\"-specific style due to the `<a>` HTML tag */\n",
       "\n",
       "#sk-container-id-1 a.estimator_doc_link {\n",
       "  float: right;\n",
       "  font-size: 1rem;\n",
       "  line-height: 1em;\n",
       "  font-family: monospace;\n",
       "  background-color: var(--sklearn-color-background);\n",
       "  border-radius: 1rem;\n",
       "  height: 1rem;\n",
       "  width: 1rem;\n",
       "  text-decoration: none;\n",
       "  /* unfitted */\n",
       "  color: var(--sklearn-color-unfitted-level-1);\n",
       "  border: var(--sklearn-color-unfitted-level-1) 1pt solid;\n",
       "}\n",
       "\n",
       "#sk-container-id-1 a.estimator_doc_link.fitted {\n",
       "  /* fitted */\n",
       "  border: var(--sklearn-color-fitted-level-1) 1pt solid;\n",
       "  color: var(--sklearn-color-fitted-level-1);\n",
       "}\n",
       "\n",
       "/* On hover */\n",
       "#sk-container-id-1 a.estimator_doc_link:hover {\n",
       "  /* unfitted */\n",
       "  background-color: var(--sklearn-color-unfitted-level-3);\n",
       "  color: var(--sklearn-color-background);\n",
       "  text-decoration: none;\n",
       "}\n",
       "\n",
       "#sk-container-id-1 a.estimator_doc_link.fitted:hover {\n",
       "  /* fitted */\n",
       "  background-color: var(--sklearn-color-fitted-level-3);\n",
       "}\n",
       "</style><div id=\"sk-container-id-1\" class=\"sk-top-container\"><div class=\"sk-text-repr-fallback\"><pre>LogisticRegression()</pre><b>In a Jupyter environment, please rerun this cell to show the HTML representation or trust the notebook. <br />On GitHub, the HTML representation is unable to render, please try loading this page with nbviewer.org.</b></div><div class=\"sk-container\" hidden><div class=\"sk-item\"><div class=\"sk-estimator fitted sk-toggleable\"><input class=\"sk-toggleable__control sk-hidden--visually\" id=\"sk-estimator-id-1\" type=\"checkbox\" checked><label for=\"sk-estimator-id-1\" class=\"sk-toggleable__label fitted sk-toggleable__label-arrow fitted\">&nbsp;&nbsp;LogisticRegression<a class=\"sk-estimator-doc-link fitted\" rel=\"noreferrer\" target=\"_blank\" href=\"https://scikit-learn.org/1.5/modules/generated/sklearn.linear_model.LogisticRegression.html\">?<span>Documentation for LogisticRegression</span></a><span class=\"sk-estimator-doc-link fitted\">i<span>Fitted</span></span></label><div class=\"sk-toggleable__content fitted\"><pre>LogisticRegression()</pre></div> </div></div></div></div>"
      ],
      "text/plain": [
       "LogisticRegression()"
      ]
     },
     "execution_count": 52,
     "metadata": {},
     "output_type": "execute_result"
    }
   ],
   "source": [
    "# 로지스틱 회귀 모델로 구현하시오.\n",
    "# 데이터 학습시키기\n",
    "from sklearn.linear_model import LogisticRegression\n",
    "lr = LogisticRegression()\n",
    "lr.fit(train_input,train_target)"
   ]
  },
  {
   "cell_type": "code",
   "execution_count": 54,
   "metadata": {},
   "outputs": [
    {
     "name": "stdout",
     "output_type": "stream",
     "text": [
      "0.9461538461538461\n",
      "0.6785714285714286\n"
     ]
    }
   ],
   "source": [
    "# 과대적합\n",
    "print(lr.score(train_input,train_target)) \n",
    "print(lr.score(test_input,test_target))"
   ]
  },
  {
   "cell_type": "code",
   "execution_count": 55,
   "metadata": {},
   "outputs": [
    {
     "data": {
      "text/plain": [
       "array([1, 0, 1, 1, 1, 1, 1, 1, 1, 1, 1, 1, 1, 1, 0, 1, 1, 1, 1, 1, 1, 1,\n",
       "       1, 1, 1, 1, 1, 0, 1, 1, 1, 1, 1, 1, 1, 1, 1, 0, 1, 1, 1, 1, 1, 0,\n",
       "       1, 1, 1, 1, 1, 0, 1, 1, 0, 1, 1, 1, 1, 1, 1, 1, 1, 1, 1, 1, 1, 1,\n",
       "       0, 1, 1, 1, 1, 0, 1, 1, 1, 0, 1, 1, 1, 1, 1, 1, 1, 1, 1, 0, 0, 1,\n",
       "       1, 1, 1, 1, 1, 0, 1, 1, 0, 1, 1, 1, 1, 1, 1, 0, 1, 1, 1, 0, 1, 0,\n",
       "       1, 1], dtype=int64)"
      ]
     },
     "execution_count": 55,
     "metadata": {},
     "output_type": "execute_result"
    }
   ],
   "source": [
    "predict = lr.predict(test_input)\n",
    "predict"
   ]
  },
  {
   "cell_type": "code",
   "execution_count": 57,
   "metadata": {},
   "outputs": [
    {
     "name": "stdout",
     "output_type": "stream",
     "text": [
      "[[15 34]\n",
      " [ 2 61]]\n"
     ]
    }
   ],
   "source": [
    "from sklearn.metrics import confusion_matrix\n",
    "\n",
    "confmat = confusion_matrix(y_true=test_target,y_pred=predict)\n",
    "print(confmat)"
   ]
  },
  {
   "cell_type": "code",
   "execution_count": 58,
   "metadata": {},
   "outputs": [
    {
     "data": {
      "text/plain": [
       "y\n",
       "1    222\n",
       "0    150\n",
       "Name: count, dtype: int64"
      ]
     },
     "execution_count": 58,
     "metadata": {},
     "output_type": "execute_result"
    }
   ],
   "source": [
    "# 1.\n",
    "df['y'].value_counts()"
   ]
  },
  {
   "cell_type": "code",
   "execution_count": null,
   "metadata": {},
   "outputs": [],
   "source": [
    "# 1:1 비율을 랜덤 샘플링 수행\n",
    "# dfidf수치로 변경된 X의 데이터를 가져오기 위해 index번호를 저장\n",
    "positive_random_idx = df[df['y']==1].sample(50,random_state=30).index.to_list()\n",
    "negative_random_idx = df[df['y']==0].sample(50,random_state=30).index.to_list()"
   ]
  },
  {
   "cell_type": "code",
   "execution_count": null,
   "metadata": {},
   "outputs": [],
   "source": [
    "# pos - 말뭉치,품사 튜플형태로 전달\n",
    "# morphs - 모든 형태소단위로 분리 \n",
    "# nouns - 명사만 추출"
   ]
  },
  {
   "cell_type": "code",
   "execution_count": 3,
   "metadata": {},
   "outputs": [
    {
     "name": "stdout",
     "output_type": "stream",
     "text": [
      "[('한글', 'Noun'), ('자연어', 'Noun'), ('처리', 'Noun'), ('는', 'Josa'), ('재밌다', 'Adjective'), ('이제', 'Noun'), ('부터', 'Josa'), ('열심히', 'Adverb'), ('하다', 'Verb'), ('ㅎㅎㅎ', 'KoreanParticle')]\n"
     ]
    }
   ],
   "source": [
    "m_list = okt.pos(\"한글 자연어 처리는 재밌다 이제부터 열심히 해야지 ㅎㅎㅎ\"\n",
    "                 , stem=True)\n",
    "print(m_list)"
   ]
  },
  {
   "cell_type": "code",
   "execution_count": 4,
   "metadata": {},
   "outputs": [
    {
     "name": "stdout",
     "output_type": "stream",
     "text": [
      "['한글', '자연어', '처리', '는', '재밌다', '이제', '부터', '열심히', '하다', 'ㅎㅎㅎ']\n"
     ]
    }
   ],
   "source": [
    "m_list = okt.morphs(\"한글 자연어 처리는 재밌다 이제부터 열심히 해야지 ㅎㅎㅎ\"\n",
    "                 , stem=True)\n",
    "print(m_list)"
   ]
  },
  {
   "cell_type": "code",
   "execution_count": 8,
   "metadata": {},
   "outputs": [
    {
     "name": "stdout",
     "output_type": "stream",
     "text": [
      "['한글', '자연어', '처리', '이제']\n"
     ]
    }
   ],
   "source": [
    "m_list = okt.nouns(\"한글 자연어 처리는 재밌다 이제부터 열심히 해야지 ㅎㅎㅎ\")\n",
    "print(m_list)"
   ]
  }
 ],
 "metadata": {
  "kernelspec": {
   "display_name": "Python 3",
   "language": "python",
   "name": "python3"
  },
  "language_info": {
   "codemirror_mode": {
    "name": "ipython",
    "version": 3
   },
   "file_extension": ".py",
   "mimetype": "text/x-python",
   "name": "python",
   "nbconvert_exporter": "python",
   "pygments_lexer": "ipython3",
   "version": "3.12.3"
  }
 },
 "nbformat": 4,
 "nbformat_minor": 2
}
